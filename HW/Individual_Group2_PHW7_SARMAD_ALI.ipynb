{
    "metadata": {
        "kernelspec": {
            "name": "SQL",
            "display_name": "SQL",
            "language": "sql"
        },
        "language_info": {
            "name": "sql",
            "version": ""
        }
    },
    "nbformat_minor": 2,
    "nbformat": 4,
    "cells": [
        {
            "cell_type": "markdown",
            "source": [
                "# **Sarmad Ali**\n",
                "# **10 Custom Queries**"
            ],
            "metadata": {
                "language": "sql",
                "azdata_cell_guid": "da0e16cf-fc14-4980-8deb-36ed18c6168d"
            },
            "attachments": {}
        },
        {
            "cell_type": "markdown",
            "source": [
                "### Query 1: Ranking Orders by Quantity per Customer\n",
                "\n",
                "This query demonstrates how to apply ranking functions to partition and rank data based on customer orders in the **AdventureWorks2019** database. Specifically, it provides insights into each customer’s orders, ordered by **Order Quantity (OrderQty)**, and ranks them within each customer group.\n",
                ""
            ],
            "metadata": {
                "language": "sql",
                "azdata_cell_guid": "45b7961d-f2ff-4fde-a6f7-2479807b4803"
            },
            "attachments": {}
        },
        {
            "cell_type": "code",
            "source": [
                "USE Adventureworks2019\n",
                "GO\n",
                "SELECT \n",
                "    soh.CustomerID,\n",
                "    sod.SalesOrderID,\n",
                "    sod.OrderQty,\n",
                "    RANK() OVER(PARTITION BY soh.CustomerID ORDER BY sod.OrderQty) AS rnk,\n",
                "    DENSE_RANK() OVER(PARTITION BY soh.CustomerID ORDER BY sod.OrderQty) AS drnk\n",
                "FROM \n",
                "    Sales.SalesOrderHeader AS soh\n",
                "JOIN \n",
                "    Sales.SalesOrderDetail AS sod\n",
                "ON \n",
                "    soh.SalesOrderID = sod.SalesOrderID;"
            ],
            "metadata": {
                "azdata_cell_guid": "6685cf0b-c430-434d-96fd-39ff0bcfe069",
                "language": "sql"
            },
            "outputs": [],
            "execution_count": null
        },
        {
            "cell_type": "markdown",
            "source": [
                "### Query 2: Unique Unit Prices with Row Numbering\n",
                "\n",
                "This query retrieves distinct **UnitPrice** values from the **SalesOrderDetail** table in the **AdventureWorks2019** database and assigns a unique row number to each price, ordered by **UnitPrice** in ascending order.\n",
                ""
            ],
            "metadata": {
                "language": "sql",
                "azdata_cell_guid": "7bd3b3e1-5edf-44c4-84a7-d2722a6e984d"
            },
            "attachments": {}
        },
        {
            "cell_type": "code",
            "source": [
                "USE Adventureworks2019\n",
                "GO\n",
                "SELECT DISTINCT UnitPrice, \n",
                "       ROW_NUMBER() OVER(ORDER BY UnitPrice) AS rownum\n",
                "FROM Sales.SalesOrderDetail;"
            ],
            "metadata": {
                "azdata_cell_guid": "e295a616-afda-4ce6-9eb0-0d898cd7b700",
                "language": "sql"
            },
            "outputs": [],
            "execution_count": null
        },
        {
            "cell_type": "markdown",
            "source": [
                "### Query 3: Order Quantity Differences with Previous and Next Quantities\n",
                "\n",
                "This query calculates the difference between each **OrderQty** and its previous and next quantities for each **SalesOrderID** in the **SalesOrderDetail** table in the **AdventureWorks2019** database. It uses `LAG()` and `LEAD()` window functions to access the previous and next quantities, allowing for a comparison of each order with surrounding orders.\n",
                ""
            ],
            "metadata": {
                "language": "sql",
                "azdata_cell_guid": "fa1aad1b-5b34-4518-9d79-ad16d172e351"
            },
            "attachments": {}
        },
        {
            "cell_type": "code",
            "source": [
                "USE Adventureworks2019\n",
                "GO\n",
                "SELECT \n",
                "    SalesOrderID,\n",
                "    OrderQty,\n",
                "    LAG(OrderQty) OVER(ORDER BY SalesOrderID) AS prev_qty,\n",
                "    LEAD(OrderQty) OVER(ORDER BY SalesOrderID) AS next_qty,\n",
                "    OrderQty - LAG(OrderQty) OVER(ORDER BY SalesOrderID) AS diff_prev,\n",
                "    OrderQty - LEAD(OrderQty) OVER(ORDER BY SalesOrderID) AS diff_next\n",
                "FROM \n",
                "    Sales.SalesOrderDetail;"
            ],
            "metadata": {
                "azdata_cell_guid": "6489800f-714c-444d-b1d6-d0bde6d2529d",
                "language": "sql",
                "tags": []
            },
            "outputs": [],
            "execution_count": null
        },
        {
            "cell_type": "markdown",
            "source": [
                "### Query 4: Sales Count by Year for Each Sales Person\n",
                "\n",
                "This query counts the number of sales for each **SalesPersonID** by year (2012, 2013, and 2014) in the **SalesOrderHeader** table in the **AdventureWorks2019** database. It uses conditional aggregation to generate separate columns for each year, showing the count of orders per salesperson for each specified year.\n",
                ""
            ],
            "metadata": {
                "language": "sql",
                "azdata_cell_guid": "e1ad96d5-8b19-490c-a0dd-60968729e724"
            },
            "attachments": {}
        },
        {
            "cell_type": "code",
            "source": [
                "USE Adventureworks2019\n",
                "GO\n",
                "SELECT \n",
                "    SalesPersonID,\n",
                "    COUNT(CASE WHEN YEAR(OrderDate) = 2012 THEN 1 END) AS count2012,\n",
                "    COUNT(CASE WHEN YEAR(OrderDate) = 2013 THEN 1 END) AS count2013,\n",
                "    COUNT(CASE WHEN YEAR(OrderDate) = 2014 THEN 1 END) AS count2014\n",
                "FROM \n",
                "    Sales.SalesOrderHeader\n",
                "GROUP BY \n",
                "    SalesPersonID;"
            ],
            "metadata": {
                "language": "sql",
                "azdata_cell_guid": "e59e2a62-277b-4b6e-a226-f83722885908"
            },
            "outputs": [],
            "execution_count": null
        },
        {
            "cell_type": "markdown",
            "source": [
                "### Query 5: Running Total of TotalDue by Territory\n",
                "\n",
                "This query calculates a running total of **TotalDue** for each **TerritoryID** in the **SalesOrderHeader** table in the **AdventureWorks2019** database. The running total is computed by summing **TotalDue** within each territory, ordered by **OrderDate**. This provides a cumulative total of sales due for each territory up to each order date.\n",
                ""
            ],
            "metadata": {
                "language": "sql",
                "azdata_cell_guid": "d38c7849-4abd-4904-ab8b-91f6f516e20c"
            },
            "attachments": {}
        },
        {
            "cell_type": "code",
            "source": [
                "USE Adventureworks2019\n",
                "GO\n",
                "SELECT \n",
                "    TerritoryID,\n",
                "    SalesOrderID,\n",
                "    OrderDate,\n",
                "    TotalDue,\n",
                "    SUM(TotalDue) OVER(PARTITION BY TerritoryID ORDER BY OrderDate \n",
                "                       ROWS BETWEEN UNBOUNDED PRECEDING AND CURRENT ROW) AS RunningTotal\n",
                "FROM \n",
                "    Sales.SalesOrderHeader\n",
                "WHERE \n",
                "    TerritoryID IS NOT NULL\n",
                "ORDER BY \n",
                "    TerritoryID, OrderDate;"
            ],
            "metadata": {
                "language": "sql",
                "azdata_cell_guid": "e3e737fa-9ba9-4b5a-a596-a285844bf289"
            },
            "outputs": [],
            "execution_count": null
        },
        {
            "cell_type": "markdown",
            "source": [
                "### Query 6: Summing Order Quantities with Grouping Sets\n",
                "\n",
                "This query calculates the sum of **OrderQty** for different grouping sets based on **SalesPersonID**, **CustomerID**, and **OrderYear** in the **AdventureWorks2019** database. It uses the `GROUPING SETS` clause to create multiple aggregations in a single query, along with `GROUPING_ID` to identify each grouping set in the result.\n",
                ""
            ],
            "metadata": {
                "language": "sql",
                "azdata_cell_guid": "558aa389-4982-40cb-b3f4-0fce86e4de95"
            },
            "attachments": {}
        },
        {
            "cell_type": "code",
            "source": [
                "USE Adventureworks2019\n",
                "GO\n",
                "SELECT \n",
                "    GROUPING_ID(SalesPersonID, CustomerID, YEAR(OrderDate)) AS groupingset,\n",
                "    SalesPersonID,\n",
                "    CustomerID,\n",
                "    YEAR(OrderDate) AS OrderYear,\n",
                "    SUM(OrderQty) AS sumqty\n",
                "FROM \n",
                "    Sales.SalesOrderHeader AS soh\n",
                "JOIN \n",
                "    Sales.SalesOrderDetail AS sod\n",
                "ON \n",
                "    soh.SalesOrderID = sod.SalesOrderID\n",
                "GROUP BY \n",
                "    GROUPING SETS ((SalesPersonID, CustomerID, YEAR(OrderDate)), \n",
                "                   (SalesPersonID, YEAR(OrderDate)), \n",
                "                   (CustomerID, YEAR(OrderDate)), \n",
                "                   (YEAR(OrderDate)));"
            ],
            "metadata": {
                "language": "sql",
                "azdata_cell_guid": "31ec477b-064f-4317-8876-a76a235d7da6"
            },
            "outputs": [],
            "execution_count": null
        },
        {
            "cell_type": "markdown",
            "source": [
                "### Query 7: Ranking Sales Orders by TotalDue within Each Territory\n",
                "\n",
                "This query ranks sales orders by **TotalDue** within each **TerritoryID** in the **SalesOrderHeader** table of the **AdventureWorks2019** database. It uses three ranking functions: `RANK()`, `DENSE_RANK()`, and `ROW_NUMBER()` to provide different types of rankings for **TotalDue** within each territory, ordered in descending order.\n",
                ""
            ],
            "metadata": {
                "language": "sql",
                "azdata_cell_guid": "733cece8-2180-4459-a1d9-3c56249496bb"
            },
            "attachments": {}
        },
        {
            "cell_type": "code",
            "source": [
                "USE Adventureworks2019\n",
                "GO\n",
                "SELECT \n",
                "    TerritoryID,\n",
                "    SalesOrderID,\n",
                "    TotalDue,\n",
                "    RANK() OVER(PARTITION BY TerritoryID ORDER BY TotalDue DESC) AS RankByTotalDue,\n",
                "    DENSE_RANK() OVER(PARTITION BY TerritoryID ORDER BY TotalDue DESC) AS DenseRankByTotalDue,\n",
                "    ROW_NUMBER() OVER(PARTITION BY TerritoryID ORDER BY TotalDue DESC) AS RowNumByTotalDue\n",
                "FROM \n",
                "    Sales.SalesOrderHeader\n",
                "WHERE \n",
                "    TerritoryID IS NOT NULL\n",
                "ORDER BY \n",
                "    TerritoryID, TotalDue DESC;"
            ],
            "metadata": {
                "language": "sql",
                "azdata_cell_guid": "c62387ef-d022-4ee7-b4a4-e5652dad0397"
            },
            "outputs": [],
            "execution_count": null
        },
        {
            "cell_type": "markdown",
            "source": [
                "### Query 8: Cumulative Percentage of TotalDue by Territory\n",
                "\n",
                "This query calculates the cumulative percentage contribution of each **TotalDue** value within each **TerritoryID** in the **SalesOrderHeader** table of the **AdventureWorks2019** database. It uses a window function to compute the cumulative sum of **TotalDue** for each territory and expresses it as a percentage of the total **TotalDue** within the same territory.\n",
                ""
            ],
            "metadata": {
                "language": "sql",
                "azdata_cell_guid": "ad285a44-f895-4b85-aa70-97344c1a9c94"
            },
            "attachments": {}
        },
        {
            "cell_type": "code",
            "source": [
                "USE Adventureworks2019\n",
                "GO\n",
                "SELECT \n",
                "    TerritoryID,\n",
                "    SalesOrderID,\n",
                "    TotalDue,\n",
                "    100.0 * SUM(TotalDue) OVER(PARTITION BY TerritoryID ORDER BY TotalDue DESC) /\n",
                "    SUM(TotalDue) OVER(PARTITION BY TerritoryID) AS CumulativePercentage\n",
                "FROM \n",
                "    Sales.SalesOrderHeader\n",
                "WHERE \n",
                "    TerritoryID IS NOT NULL\n",
                "ORDER BY \n",
                "    TerritoryID, CumulativePercentage DESC;"
            ],
            "metadata": {
                "language": "sql",
                "azdata_cell_guid": "a1666e0e-3a2f-4b25-b1e1-3630dda3d419"
            },
            "outputs": [],
            "execution_count": null
        },
        {
            "cell_type": "markdown",
            "source": [
                "### Query 9: Difference in TotalDue Between Current and Previous Orders\n",
                "\n",
                "This query calculates the difference in **TotalDue** between each order and its previous order for each **CustomerID** in the **SalesOrderHeader** table of the **AdventureWorks2019** database. It uses the `LAG()` function to access the previous order’s **TotalDue**, allowing for a comparison to determine the change in total due between consecutive orders.\n",
                ""
            ],
            "metadata": {
                "language": "sql",
                "azdata_cell_guid": "a5b43563-c7c8-4737-89c9-5e41449f44f0"
            },
            "attachments": {}
        },
        {
            "cell_type": "code",
            "source": [
                "USE Adventureworks2019\n",
                "GO\n",
                "SELECT \n",
                "    CustomerID,\n",
                "    SalesOrderID,\n",
                "    OrderDate,\n",
                "    TotalDue,\n",
                "    LAG(TotalDue) OVER(PARTITION BY CustomerID ORDER BY OrderDate) AS PreviousTotalDue,\n",
                "    TotalDue - LAG(TotalDue) OVER(PARTITION BY CustomerID ORDER BY OrderDate) AS Difference\n",
                "FROM \n",
                "    Sales.SalesOrderHeader\n",
                "ORDER BY \n",
                "    CustomerID, OrderDate;"
            ],
            "metadata": {
                "language": "sql",
                "azdata_cell_guid": "554943d6-1614-45a5-ad46-199fd12077dc"
            },
            "outputs": [],
            "execution_count": null
        },
        {
            "cell_type": "markdown",
            "source": [
                "### Query 10: Pivoting Total Sales by Year for Each Territory\n",
                "\n",
                "This query uses the `PIVOT` operator to display the total **TotalDue** for each **TerritoryID** by year (2013, 2014, and 2015) in the **SalesOrderHeader** table of the **AdventureWorks2019** database. It pivots the data, creating separate columns for each year, which show the total sales per territory for each specified year.\n",
                ""
            ],
            "metadata": {
                "language": "sql",
                "azdata_cell_guid": "d72638d1-08b9-42d6-9567-cbe1a2d53514"
            },
            "attachments": {}
        },
        {
            "cell_type": "code",
            "source": [
                "USE Adventureworks2019\n",
                "GO\n",
                "SELECT \n",
                "    TerritoryID,\n",
                "    [2013] AS Sales2013,\n",
                "    [2014] AS Sales2014,\n",
                "    [2015] AS Sales2015\n",
                "FROM \n",
                "    (SELECT TerritoryID, YEAR(OrderDate) AS OrderYear, TotalDue\n",
                "     FROM Sales.SalesOrderHeader\n",
                "     WHERE YEAR(OrderDate) BETWEEN 2013 AND 2015) AS SourceData\n",
                "PIVOT \n",
                "    (SUM(TotalDue) FOR OrderYear IN ([2013], [2014], [2015])) AS PivotTable\n",
                "ORDER BY \n",
                "    TerritoryID;"
            ],
            "metadata": {
                "language": "sql",
                "azdata_cell_guid": "8d4cfbf1-b003-4014-bd9b-be16900d7c86"
            },
            "outputs": [],
            "execution_count": null
        }
    ]
}