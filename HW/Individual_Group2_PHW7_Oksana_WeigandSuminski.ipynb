-- Window Functions

-- 1. ROW_NUMBER()
-- Assign a row number to each employee based on their hire date within each department in the HumanResources.Employee table.
SELECT 
    edh.DepartmentID, 
    e.BusinessEntityID, 
    e.HireDate,
    ROW_NUMBER() OVER(PARTITION BY edh.DepartmentID ORDER BY e.HireDate) AS row_num
FROM HumanResources.Employee AS e
JOIN HumanResources.EmployeeDepartmentHistory AS edh 
ON e.BusinessEntityID = edh.BusinessEntityID;

-- 2. RANK()
-- Rank employees by their salaries within each job title.
SELECT 
    e.JobTitle, 
    e.BusinessEntityID, 
    eph.Rate,
    RANK() OVER(PARTITION BY e.JobTitle ORDER BY eph.Rate DESC) AS rank
FROM HumanResources.Employee AS e
JOIN HumanResources.EmployeePayHistory AS eph 
ON e.BusinessEntityID = eph.BusinessEntityID;

-- 3. NTILE()
-- Divide employees into quartiles based on their salaries within each department.
SELECT 
    edh.DepartmentID, 
    e.BusinessEntityID, 
    eph.Rate,
    NTILE(4) OVER(PARTITION BY edh.DepartmentID ORDER BY eph.Rate DESC) AS quartile
FROM HumanResources.Employee AS e
JOIN HumanResources.EmployeePayHistory AS eph 
ON e.BusinessEntityID = eph.BusinessEntityID
JOIN HumanResources.EmployeeDepartmentHistory AS edh 
ON e.BusinessEntityID = edh.BusinessEntityID;

-- Offset Window Functions

-- 4. LAG()
-- Compare each employee’s salary with their previous salary.
SELECT 
    eph.BusinessEntityID, 
    eph.RateChangeDate, 
    eph.Rate,
    LAG(eph.Rate, 1, 0) OVER(PARTITION BY eph.BusinessEntityID ORDER BY eph.RateChangeDate) AS previous_rate
FROM HumanResources.EmployeePayHistory AS eph;

-- 5. LEAD()
-- Retrieve the next salary rate for each employee in the EmployeePayHistory table.
SELECT 
    eph.BusinessEntityID, 
    eph.RateChangeDate, 
    eph.Rate,
    LEAD(eph.Rate, 1, 0) OVER(PARTITION BY eph.BusinessEntityID ORDER BY eph.RateChangeDate) AS next_rate
FROM HumanResources.EmployeePayHistory AS eph;

-- 6. FIRST_VALUE()
-- Retrieve the initial hire date for each employee's current department history in EmployeeDepartmentHistory.
SELECT 
    edh.BusinessEntityID, 
    edh.DepartmentID, 
    edh.StartDate,
    FIRST_VALUE(edh.StartDate) OVER(PARTITION BY edh.BusinessEntityID ORDER BY edh.StartDate ASC) AS first_start_date
FROM HumanResources.EmployeeDepartmentHistory AS edh;

-- 7. LAST_VALUE()
-- Retrieve the most recent salary rate for each employee in EmployeePayHistory.
SELECT 
    eph.BusinessEntityID, 
    eph.RateChangeDate, 
    eph.Rate,
    LAST_VALUE(eph.Rate) OVER(
        PARTITION BY eph.BusinessEntityID 
        ORDER BY eph.RateChangeDate 
        RANGE BETWEEN UNBOUNDED PRECEDING AND UNBOUNDED FOLLOWING) AS latest_rate
FROM HumanResources.EmployeePayHistory AS eph;

-- Aggregate Window Functions

-- 8. SUM()
-- Calculate the running total of sales for each product in the Sales.SalesOrderDetail table.
SELECT 
    ProductID, 
    OrderQty, 
    UnitPrice,
    SUM(OrderQty * UnitPrice) OVER(PARTITION BY ProductID ORDER BY SalesOrderID) AS running_total
FROM Sales.SalesOrderDetail;

-- 9. COUNT()
-- Count the number of sales for each salesperson in the Sales.SalesOrderHeader table.
SELECT 
    SalesPersonID, 
    SalesOrderID,
    COUNT(SalesOrderID) OVER(PARTITION BY SalesPersonID) AS sales_count_per_person
FROM Sales.SalesOrderHeader
WHERE SalesPersonID IS NOT NULL;

-- 10. MAX()
-- Get the maximum StandardCost for products within each product category in the Production.ProductCostHistory table.
SELECT 
    ProductID, 
    StartDate, 
    StandardCost,
    MAX(StandardCost) OVER(PARTITION BY ProductID) AS max_cost_for_product
FROM Production.ProductCostHistory;
