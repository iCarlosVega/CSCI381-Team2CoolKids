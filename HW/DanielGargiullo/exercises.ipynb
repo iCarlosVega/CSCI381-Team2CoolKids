{
    "metadata": {
        "kernelspec": {
            "name": "SQL",
            "display_name": "SQL",
            "language": "sql"
        },
        "language_info": {
            "name": "sql",
            "version": ""
        }
    },
    "nbformat_minor": 2,
    "nbformat": 4,
    "cells": [
        {
            "cell_type": "markdown",
            "source": [
                "# Exercise 1\r\n",
                "\r\n",
                "## **Table**:\r\n",
                "- #### `dbo.Orders`\r\n",
                "\r\n",
                "### **Description**:<br>A query that computes both a rank and a dense rank for each customer order, partitioned by `custid` and `qty`:"
            ],
            "metadata": {
                "azdata_cell_guid": "3d46891a-ebcb-4c14-a2ca-3abd768a20de"
            },
            "attachments": {}
        },
        {
            "cell_type": "code",
            "source": [
                "USE\t[TSQLV6]\r\n",
                "GO\r\n",
                "\r\n",
                "SELECT\r\n",
                "\tcustid\tAS\t[Customer ID],\r\n",
                "\torderid\tAS\t[Order ID],\r\n",
                "\tqty\t\tAS\t[Quantity],\r\n",
                "\tRANK()\r\n",
                "\t\tOVER(PARTITION BY\tcustid\tORDER BY\tqty)\r\n",
                "\t\t\tAS\t[Rank],\r\n",
                "\tDENSE_RANK()\r\n",
                "\t\tOVER(PARTITION BY\tcustid\tORDER BY\tqty)\r\n",
                "\t\t\tAS\t[Dense Rank]\r\n",
                "FROM\r\n",
                "\tdbo.Orders;"
            ],
            "metadata": {
                "azdata_cell_guid": "e60ee72f-5b82-4402-b782-974b773f7987",
                "language": "sql",
                "tags": []
            },
            "outputs": [
                {
                    "output_type": "display_data",
                    "data": {
                        "text/html": "Commands completed successfully."
                    },
                    "metadata": {}
                },
                {
                    "output_type": "display_data",
                    "data": {
                        "text/html": "(11 rows affected)"
                    },
                    "metadata": {}
                },
                {
                    "output_type": "display_data",
                    "data": {
                        "text/html": "Total execution time: 00:00:00.012"
                    },
                    "metadata": {}
                },
                {
                    "output_type": "execute_result",
                    "metadata": {},
                    "execution_count": 6,
                    "data": {
                        "application/vnd.dataresource+json": {
                            "schema": {
                                "fields": [
                                    {
                                        "name": "Customer ID"
                                    },
                                    {
                                        "name": "Order ID"
                                    },
                                    {
                                        "name": "Quantity"
                                    },
                                    {
                                        "name": "Rank"
                                    },
                                    {
                                        "name": "Dense Rank"
                                    }
                                ]
                            },
                            "data": [
                                {
                                    "Customer ID": "A",
                                    "Order ID": "30001",
                                    "Quantity": "10",
                                    "Rank": "1",
                                    "Dense Rank": "1"
                                },
                                {
                                    "Customer ID": "A",
                                    "Order ID": "40005",
                                    "Quantity": "10",
                                    "Rank": "1",
                                    "Dense Rank": "1"
                                },
                                {
                                    "Customer ID": "A",
                                    "Order ID": "10001",
                                    "Quantity": "12",
                                    "Rank": "3",
                                    "Dense Rank": "2"
                                },
                                {
                                    "Customer ID": "A",
                                    "Order ID": "40001",
                                    "Quantity": "40",
                                    "Rank": "4",
                                    "Dense Rank": "3"
                                },
                                {
                                    "Customer ID": "B",
                                    "Order ID": "20001",
                                    "Quantity": "12",
                                    "Rank": "1",
                                    "Dense Rank": "1"
                                },
                                {
                                    "Customer ID": "B",
                                    "Order ID": "30003",
                                    "Quantity": "15",
                                    "Rank": "2",
                                    "Dense Rank": "2"
                                },
                                {
                                    "Customer ID": "B",
                                    "Order ID": "10005",
                                    "Quantity": "20",
                                    "Rank": "3",
                                    "Dense Rank": "3"
                                },
                                {
                                    "Customer ID": "C",
                                    "Order ID": "10006",
                                    "Quantity": "14",
                                    "Rank": "1",
                                    "Dense Rank": "1"
                                },
                                {
                                    "Customer ID": "C",
                                    "Order ID": "20002",
                                    "Quantity": "20",
                                    "Rank": "2",
                                    "Dense Rank": "2"
                                },
                                {
                                    "Customer ID": "C",
                                    "Order ID": "30004",
                                    "Quantity": "22",
                                    "Rank": "3",
                                    "Dense Rank": "3"
                                },
                                {
                                    "Customer ID": "D",
                                    "Order ID": "30007",
                                    "Quantity": "30",
                                    "Rank": "1",
                                    "Dense Rank": "1"
                                }
                            ]
                        },
                        "text/html": [
                            "<table>",
                            "<tr><th>Customer ID</th><th>Order ID</th><th>Quantity</th><th>Rank</th><th>Dense Rank</th></tr>",
                            "<tr><td>A</td><td>30001</td><td>10</td><td>1</td><td>1</td></tr>",
                            "<tr><td>A</td><td>40005</td><td>10</td><td>1</td><td>1</td></tr>",
                            "<tr><td>A</td><td>10001</td><td>12</td><td>3</td><td>2</td></tr>",
                            "<tr><td>A</td><td>40001</td><td>40</td><td>4</td><td>3</td></tr>",
                            "<tr><td>B</td><td>20001</td><td>12</td><td>1</td><td>1</td></tr>",
                            "<tr><td>B</td><td>30003</td><td>15</td><td>2</td><td>2</td></tr>",
                            "<tr><td>B</td><td>10005</td><td>20</td><td>3</td><td>3</td></tr>",
                            "<tr><td>C</td><td>10006</td><td>14</td><td>1</td><td>1</td></tr>",
                            "<tr><td>C</td><td>20002</td><td>20</td><td>2</td><td>2</td></tr>",
                            "<tr><td>C</td><td>30004</td><td>22</td><td>3</td><td>3</td></tr>",
                            "<tr><td>D</td><td>30007</td><td>30</td><td>1</td><td>1</td></tr>",
                            "</table>"
                        ]
                    }
                }
            ],
            "execution_count": 6
        },
        {
            "cell_type": "markdown",
            "source": [
                "# Exercise 2\r\n",
                "\r\n",
                "## **Table**:\r\n",
                "- #### `Sales.OrderValues`\r\n",
                "\r\n",
                "### **Description**:<br>An alternative form of the following query:\r\n",
                "```SQL\r\n",
                "SELECT\r\n",
                "\tval     AS\t[Value],\r\n",
                "\tROW_NUMBER()\r\n",
                "\t\tOVER(ORDER BY\tval)\r\n",
                "\t\t\tAS  [Row Number]\r\n",
                "FROM\r\n",
                "\tSales.OrderValues\r\n",
                "GROUP BY\r\n",
                "\tval;\r\n",
                "```"
            ],
            "metadata": {
                "language": "sql",
                "azdata_cell_guid": "c69906f6-0210-481b-a6c3-ee209a737a3c"
            },
            "attachments": {}
        },
        {
            "cell_type": "code",
            "source": [
                "USE\t[TSQLV6]\r\n",
                "GO\r\n",
                "\r\n",
                "SELECT\r\n",
                "\tval\t\tAS\t[Value],\r\n",
                "\tROW_NUMBER()\r\n",
                "\t\tOVER(ORDER  BY  val)\r\n",
                "\t\t\tAS\t[Row Number]\r\n",
                "FROM(\r\n",
                "\tSELECT  DISTINCT\r\n",
                "\t\tval\r\n",
                "\tFROM\r\n",
                "\t\tSales.OrderValues\r\n",
                ")\t\t\tAS\t[ov];\r\n",
                ""
            ],
            "metadata": {
                "language": "sql",
                "azdata_cell_guid": "1779f995-9757-4c99-a6b6-07e23bcd2d7d",
                "tags": []
            },
            "outputs": [],
            "execution_count": null
        },
        {
            "cell_type": "markdown",
            "source": [
                "# Exercise 3\r\n",
                "\r\n",
                "## **Table**:\r\n",
                "- #### `dbo.Orders`\r\n",
                "\r\n",
                "### **Description**:<br><p>A query that computes for each customer order both the difference between the current order quantity and the customer's previous order quantity AND the difference between the current order quantity and the customer's next order quantity:</p>"
            ],
            "metadata": {
                "language": "sql",
                "azdata_cell_guid": "7c37b813-3e05-40c8-99dc-cc3b6f166080"
            },
            "attachments": {}
        },
        {
            "cell_type": "code",
            "source": [
                "USE\t[TSQLV6]\r\n",
                "GO\r\n",
                "\r\n",
                "SELECT\r\n",
                "\tcustid\tAS\t[Customer ID],\r\n",
                "\torderid\tAS\t[Order ID],\r\n",
                "\tqty\t\tAS\t[Quantity],\r\n",
                "\tqty - LAG(qty)\r\n",
                "\t\tOVER(   PARTITION   BY\tcustid\r\n",
                "                ORDER       BY\torderdate\r\n",
                "        )   AS\t[DiffFromPrevQty],\r\n",
                "\tqty - LEAD(qty)\r\n",
                "\t\tOVER(   PARTITION   BY\tcustid\r\n",
                "                ORDER       BY\torderdate\r\n",
                "        )   AS\t[DiffFromNextQty]\r\n",
                "FROM\r\n",
                "\tdbo.Orders;"
            ],
            "metadata": {
                "language": "sql",
                "azdata_cell_guid": "44f0b9e1-7efa-401d-b8a9-c5f3a86d5bec",
                "tags": []
            },
            "outputs": [],
            "execution_count": null
        },
        {
            "cell_type": "markdown",
            "source": [
                "# Exercise 4\r\n",
                "\r\n",
                "## **Table**:\r\n",
                "- #### `dbo.Orders`\r\n",
                "\r\n",
                "### **Description**:<br><p>A query that returns a row for each employee, a column for each order year, and the count of orders for each employee and order year:</p>"
            ],
            "metadata": {
                "language": "sql",
                "azdata_cell_guid": "ccb6ecfe-f0d5-49de-82a0-072168c95794"
            },
            "attachments": {}
        },
        {
            "cell_type": "code",
            "source": [
                "USE\t[TSQLV6]\r\n",
                "GO\r\n",
                "\r\n",
                "SELECT \r\n",
                "\tempid\tAS\t[Employee ID], \r\n",
                "\t[2020], \r\n",
                "\t[2021], \r\n",
                "\t[2022]\r\n",
                "FROM(\r\n",
                "\tSELECT\r\n",
                "\t\tempid,\r\n",
                "\t\tYEAR(orderdate) AS\t[Order Year]\r\n",
                "\tFROM\r\n",
                "\t\tdbo.Orders\r\n",
                ")\tAS\td\r\n",
                "PIVOT(\r\n",
                "\tCOUNT([Order Year])\r\n",
                "\tFOR [Order Year]\r\n",
                "        IN( [2020],\r\n",
                "            [2021],\r\n",
                "\t\t\t[2022]\r\n",
                "        )\r\n",
                ")\tAS\tp\r\n",
                "ORDER   BY\r\n",
                "\tempid;"
            ],
            "metadata": {
                "language": "sql",
                "azdata_cell_guid": "e5ffeb86-291c-47ba-828f-a9e954615a41",
                "tags": []
            },
            "outputs": [],
            "execution_count": null
        },
        {
            "cell_type": "markdown",
            "source": [
                "# Exercise 5\r\n",
                "\r\n",
                "### Run the following code to create and  populate the _EmpYearOrders_ table:\r\n",
                "```SQL\r\n",
                "DROP\tTABLE\tIF\tEXISTS\tdbo.EmpYearOrders;\r\n",
                "\r\n",
                "CREATE\tTABLE\tdbo.EmpYearOrders(\r\n",
                "\tempid\tINT     NOT\tNULL\r\n",
                "\t\tCONSTRAINT\tPK_EmpYearOrders\tPRIMARY KEY,\r\n",
                "\tc2020\tINT         NULL,\r\n",
                "\tc2021\tINT         NULL,\r\n",
                "\tc2022\tINT         NULL\r\n",
                ");\r\n",
                "\r\n",
                "INSERT\tINTO\tdbo.EmpYearOrders(\r\n",
                "\t\tempid,\r\n",
                "\t\tc2020,\r\n",
                "\t\tc2021,\r\n",
                "\t\tc2022\r\n",
                "\t)\r\n",
                "SELECT\t\r\n",
                "\tempid,\r\n",
                "\t[2020]\tAS\tc2020,\r\n",
                "\t[2021]\tAS\tc2021,\r\n",
                "\t[2022]\tAS\tc2022\r\n",
                "FROM(\r\n",
                "\tSELECT\r\n",
                "\t\tempid,\r\n",
                "\t\tYEAR(orderdate)\tAS\t[Order Year]\r\n",
                "\tFROM\r\n",
                "\t\tdbo.Orders\r\n",
                ")\tAS\td\r\n",
                "PIVOT(COUNT([Order Year])\r\n",
                "\tFOR\t[Order Year]\tIN( [2020],\r\n",
                "\t\t\t\t\t\t\t[2021],\r\n",
                "\t\t\t\t\t\t\t[2022])\r\n",
                ")\tAS\tp;\r\n",
                "\r\n",
                "SELECT\t*\tFROM\tdbo.EmpYearOrders;\r\n",
                "```\r\n",
                "\r\n",
                "## **Tables**:\r\n",
                "- #### `dbo.Orders`\r\n",
                "- #### `dbo.EmpYearOrders`\r\n",
                "\r\n",
                "### **Description**:<br><p>A query that unpivots the data, returning a row for each employee and order year with the number of orders.<br>Exclude rows in which the number of orders is 0:</p>"
            ],
            "metadata": {
                "language": "sql",
                "azdata_cell_guid": "1402aac0-9fc2-437d-9111-d30250689627"
            },
            "attachments": {}
        },
        {
            "cell_type": "code",
            "source": [
                "USE [TSQLV6]\r\n",
                "GO\r\n",
                "\r\n",
                "SELECT\r\n",
                "    empid\t\tAS\t[Employee ID],\r\n",
                "    orderyear\tAS\t[Order Year],\r\n",
                "    numorders\tAS\t[Number of Orders]\r\n",
                "FROM\r\n",
                "    EmpYearOrders\r\n",
                "CROSS\tAPPLY\t(\r\n",
                "    VALUES\t\t('2020',\tc2020),\r\n",
                "\t\t\t\t('2021',\tc2021),\r\n",
                "\t\t\t\t('2022',\tc2022)\r\n",
                ")\tAS\tunpvt(orderyear,\tnumorders)\r\n",
                "WHERE\r\n",
                "    numorders\tIS\tNOT\tNULL\r\n",
                "\t\tAND\r\n",
                "\tnumorders\t<>\t0;"
            ],
            "metadata": {
                "language": "sql",
                "azdata_cell_guid": "13dd66b2-58d3-458c-922d-ee2b66a6cc3d",
                "tags": [
                    "hide_input"
                ]
            },
            "outputs": [],
            "execution_count": null
        },
        {
            "cell_type": "markdown",
            "source": [
                "# Exercise 6\r\n",
                "\r\n",
                "## **Table**:\r\n",
                "- #### `dbo.Orders`\r\n",
                "\r\n",
                "### **Description**:<br><p>A query that returns the total quantities for each of the following:\r\n",
                "- (employee, customer, and order year)\r\n",
                "- (employee and order year)\r\n",
                "- (customer and order year)\r\n",
                "### Include a result column in the output that uniquely identifies the grouping sets with which the current row is associated:</p>"
            ],
            "metadata": {
                "language": "sql",
                "azdata_cell_guid": "32227f34-8e64-4be0-8643-dad060e34cab"
            },
            "attachments": {}
        },
        {
            "cell_type": "code",
            "source": [
                "USE\t[TSQLV6]\r\n",
                "GO\r\n",
                "\r\n",
                "SELECT\r\n",
                "\tGROUPING_ID(\r\n",
                "\t\tempid,\r\n",
                "\t\tcustid,\r\n",
                "\t\tYEAR(orderdate)\r\n",
                "\t)\t\t\t\tAS\t[Grouping Set],\r\n",
                "\tempid\t\t\tAS\t[Employee ID],\r\n",
                "\tcustid\t\t\tAS\t[Customer ID],\r\n",
                "\tYEAR(orderdate)\tAS\t[Order Year],\r\n",
                "\tSUM(qty)\t\tAS\t[Total Quantity]\r\n",
                "FROM\r\n",
                "\tdbo.Orders\r\n",
                "GROUP   BY  GROUPING\r\n",
                "\tSETS(\r\n",
                "\t\t(empid, custid, YEAR(orderdate)),\r\n",
                "\t\t(empid,         YEAR(orderdate)),\r\n",
                "\t\t(       custid, YEAR(orderdate))\r\n",
                "\t);"
            ],
            "metadata": {
                "language": "sql",
                "azdata_cell_guid": "df21501d-2467-4967-af2d-e020b354db81",
                "tags": []
            },
            "outputs": [],
            "execution_count": null
        },
        {
            "cell_type": "markdown",
            "source": [
                "# Exercise 7\r\n",
                "\r\n",
                "## **Table**:\r\n",
                "- #### `Sales.Orders`\r\n",
                "\r\n",
                "### **Description**:<br><p>A query that returns a row for each week, assuming the week starts on a Sunday, with result columns showing when the week started, when the week ended, and the week's order count:</p>"
            ],
            "metadata": {
                "language": "sql",
                "azdata_cell_guid": "ab294cf5-81fb-477c-8dae-06c05aa26494"
            },
            "attachments": {}
        },
        {
            "cell_type": "code",
            "source": [
                "USE\t[TSQLV6]\r\n",
                "GO\r\n",
                "\r\n",
                "WITH WeeklyOrders   AS  (\r\n",
                "    SELECT \r\n",
                "        DATEADD(DAY,\r\n",
                "\t\t\t\t-DATEPART   (WEEKDAY,   orderdate)   +   1,\r\n",
                "\t\t\t\torderdate\r\n",
                "\t\t)\t\tAS\t[Week Starting],\r\n",
                "        DATEADD(DAY,\r\n",
                "\t\t\t\t7 - DATEPART(WEEKDAY,   orderdate),\r\n",
                "\t\t\t\torderdate\r\n",
                "\t\t)\t\tAS\t[Week Ending],\r\n",
                "        orderid AS\t[Order ID]\r\n",
                "    FROM \r\n",
                "        Sales.Orders\r\n",
                ")\r\n",
                "SELECT\r\n",
                "    [Week Starting],\r\n",
                "    [Week Ending],\r\n",
                "    COUNT([Order ID])   AS  [Number of Orders]\r\n",
                "FROM \r\n",
                "    WeeklyOrders\r\n",
                "GROUP   BY\r\n",
                "    [Week Starting],\r\n",
                "    [Week Ending]\r\n",
                "ORDER   BY\r\n",
                "    [Week Starting];\r\n",
                ""
            ],
            "metadata": {
                "language": "sql",
                "azdata_cell_guid": "3538159f-accd-4b40-b979-1cf51a4823d8",
                "tags": []
            },
            "outputs": [],
            "execution_count": null
        },
        {
            "cell_type": "markdown",
            "source": [
                "# Exercise 8\r\n",
                "\r\n",
                "## **Table**:\r\n",
                "- #### `Sales.OrderValues`\r\n",
                "\r\n",
                "### **Description**:<br><p>A query that returns the total quantities and values per shipper and fiscal year of the order date.<br>The result should have columns for the shipper ID, start date of fiscal year, end date of fiscal year, total quantity, and total value.<br>Assume the organization's fiscal year runs from July 1 to June 30.</p>"
            ],
            "metadata": {
                "language": "sql",
                "azdata_cell_guid": "ef26c55e-6ed5-4bf1-ad6f-97cd61d94ff0"
            },
            "attachments": {}
        },
        {
            "cell_type": "code",
            "source": [
                "USE\t[TSQLV6]\r\n",
                "GO\r\n",
                "\r\n",
                "SELECT \r\n",
                "    shipperid\t\tAS\t[Shipper ID],\r\n",
                "    [Start of Year],\r\n",
                "    [End of Year],\r\n",
                "    SUM(qty)\t\tAS\t[Total Quantity],\r\n",
                "    SUM(val)\t\tAS\t[Total Value]\r\n",
                "FROM(\r\n",
                "    SELECT\r\n",
                "        shipperid,\r\n",
                "        IIF(MONTH(\torderdate)\t\t>=\t7,\r\n",
                "\t\t\tYEAR(\torderdate),\r\n",
                "\t\t\tYEAR(\torderdate)\t\t-\t1\r\n",
                "\t\t)\t\t\t\t\tAS\t[Fiscal Year],\r\n",
                "        CAST(IIF(\tMONTH(\torderdate)\t>=\t7,\r\n",
                "\t\t\t\t\tYEAR(\torderdate),\r\n",
                "\t\t\t\t\tYEAR(\torderdate)\t-\t1\r\n",
                "\t\t\t)\tAS\tVARCHAR(4)\r\n",
                "\t\t)\t+\t'-07-01'\tAS\t[Start of Year],\r\n",
                "        CAST(IIF(\tMONTH(orderdate)\t>=\t7,\r\n",
                "\t\t\t\t\tYEAR(orderdate)\t\t+\t1,\r\n",
                "\t\t\t\t\tYEAR(orderdate)\r\n",
                "\t\t\t)\tAS\tVARCHAR(4)\r\n",
                "\t\t)\t+\t'-06-30'\tAS\t[End of Year],\r\n",
                "        qty,\r\n",
                "        val\r\n",
                "    FROM\r\n",
                "\t\tSales.OrderValues\r\n",
                ")\tAS\tfiscal_data\r\n",
                "GROUP\tBY\r\n",
                "\tshipperid,\r\n",
                "\t[Fiscal Year],\r\n",
                "\t[Start of Year],\r\n",
                "\t[End of Year]\r\n",
                "ORDER\tBY\r\n",
                "\tshipperid,\r\n",
                "\t[Fiscal Year];"
            ],
            "metadata": {
                "language": "sql",
                "azdata_cell_guid": "2325933a-2ce0-4405-882f-aa151200851f",
                "tags": []
            },
            "outputs": [],
            "execution_count": null
        }
    ]
}