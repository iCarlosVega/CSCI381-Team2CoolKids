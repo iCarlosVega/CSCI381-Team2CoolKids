{
    "metadata": {
        "kernelspec": {
            "name": "SQL",
            "display_name": "SQL",
            "language": "sql"
        },
        "language_info": {
            "name": "sql",
            "version": ""
        }
    },
    "nbformat_minor": 2,
    "nbformat": 4,
    "cells": [
        {
            "cell_type": "markdown",
            "source": [
                "# Create `Udt` Schema and User-Defined Data Types:"
            ],
            "metadata": {
                "azdata_cell_guid": "3914b4f8-05f9-42e9-8370-c6b8094ecae5"
            },
            "attachments": {}
        },
        {
            "cell_type": "code",
            "source": [
                "-- =============================================\r\n",
                "-- Author:\t\t<Daniel Gargiullo, Oksana Weigand-Suminski, Jascharan Singh, Sarmad Ali, Augusta Na, Carlos Vega>\r\n",
                "-- Create date: <12/1/2024>\r\n",
                "-- Description:\t<Create the `Udt` schema and User-defined Data Types>\r\n",
                "-- =============================================\r\n",
                "\r\n",
                "-- CREATE  SCHEMA  [Location]\r\n",
                "-- GO\r\n",
                "\r\n",
                "-- CREATE  SCHEMA  [DbSecurity]\r\n",
                "-- GO\r\n",
                "\r\n",
                "-- CREATE  SCHEMA  [Department]\r\n",
                "-- GO\r\n",
                "\r\n",
                "-- CREATE  SCHEMA  [Process]\r\n",
                "-- GO\r\n",
                "\r\n",
                "USE QueensClassSchedule\r\n",
                "GO\r\n",
                "\r\n",
                "CREATE  SCHEMA  [Udt]\r\n",
                "GO\r\n",
                "\r\n",
                "CREATE  TYPE    [Udt].[SurrogateKeyInt]     FROM    [int]               NULL\r\n",
                "GO\r\n",
                "CREATE  TYPE    [Udt].[DateAdded]           FROM    Datetime2(7)    NOT NULL\r\n",
                "GO\r\n",
                "CREATE  TYPE    [Udt].[ClassTime]           FROM    nchar(5)        NOT NULL\r\n",
                "GO\r\n",
                "CREATE  TYPE    [Udt].[ClassHours]          FROM    nchar(5)        NOT NULL\r\n",
                "GO\r\n",
                "CREATE  TYPE    [Udt].[IndividualProject]   FROM    NVARCHAR(60)    NOT NULL\r\n",
                "GO\r\n",
                "CREATE  TYPE    [Udt].[LastName]            FROM    NVARCHAR(35)    NOT NULL\r\n",
                "GO\r\n",
                "CREATE  TYPE    [Udt].[FirstName]           FROM    NVARCHAR(20)    NOT NULL\r\n",
                "GO\r\n",
                "CREATE  TYPE    [Udt].[GroupName]           FROM    NVARCHAR(20)    NOT NULL\r\n",
                "GO\r\n",
                "CREATE  TYPE    [Udt].[WorkFlowString]      FROM    NVARCHAR(100)   NOT NULL\r\n",
                "GO\r\n",
                "CREATE  TYPE    [Udt].[RowCount]            FROM    [int]           NOT NULL\r\n",
                "GO\r\n",
                "CREATE  TYPE    [Udt].[SurrogateKeyString]  FROM    NVARCHAR(30)    NOT NULL\r\n",
                "GO\r\n",
                "CREATE  TYPE    [Udt].[ClassLength]         FROM    NVARCHAR(30)    NOT NULL\r\n",
                "GO\r\n",
                "CREATE  TYPE    [Udt].[SurrogateKeyFloat]   FROM    FLOAT           NOT NULL\r\n",
                "GO"
            ],
            "metadata": {
                "azdata_cell_guid": "3dd3c272-943f-4cc9-8308-19869a86d579",
                "language": "sql",
                "tags": []
            },
            "outputs": [
                {
                    "output_type": "display_data",
                    "data": {
                        "text/html": "Commands completed successfully."
                    },
                    "metadata": {}
                },
                {
                    "output_type": "error",
                    "evalue": "Msg 2714, Level 16, State 6, Line 22\r\nThere is already an object named 'Udt' in the database.",
                    "ename": "",
                    "traceback": []
                },
                {
                    "output_type": "error",
                    "evalue": "Msg 2759, Level 16, State 0, Line 22\r\nCREATE SCHEMA failed due to previous errors.",
                    "ename": "",
                    "traceback": []
                },
                {
                    "output_type": "error",
                    "evalue": "Msg 219, Level 16, State 1, Line 25\r\nThe type 'Udt.SurrogateKeyInt' already exists, or you do not have permission to create it.",
                    "ename": "",
                    "traceback": []
                },
                {
                    "output_type": "error",
                    "evalue": "Msg 219, Level 16, State 1, Line 27\r\nThe type 'Udt.DateAdded' already exists, or you do not have permission to create it.",
                    "ename": "",
                    "traceback": []
                },
                {
                    "output_type": "error",
                    "evalue": "Msg 219, Level 16, State 1, Line 29\r\nThe type 'Udt.ClassTime' already exists, or you do not have permission to create it.",
                    "ename": "",
                    "traceback": []
                },
                {
                    "output_type": "display_data",
                    "data": {
                        "text/html": "Commands completed successfully."
                    },
                    "metadata": {}
                },
                {
                    "output_type": "error",
                    "evalue": "Msg 219, Level 16, State 1, Line 33\r\nThe type 'Udt.IndividualProject' already exists, or you do not have permission to create it.",
                    "ename": "",
                    "traceback": []
                },
                {
                    "output_type": "error",
                    "evalue": "Msg 219, Level 16, State 1, Line 35\r\nThe type 'Udt.LastName' already exists, or you do not have permission to create it.",
                    "ename": "",
                    "traceback": []
                },
                {
                    "output_type": "error",
                    "evalue": "Msg 219, Level 16, State 1, Line 37\r\nThe type 'Udt.FirstName' already exists, or you do not have permission to create it.",
                    "ename": "",
                    "traceback": []
                },
                {
                    "output_type": "error",
                    "evalue": "Msg 219, Level 16, State 1, Line 39\r\nThe type 'Udt.GroupName' already exists, or you do not have permission to create it.",
                    "ename": "",
                    "traceback": []
                },
                {
                    "output_type": "display_data",
                    "data": {
                        "text/html": "Commands completed successfully."
                    },
                    "metadata": {}
                },
                {
                    "output_type": "display_data",
                    "data": {
                        "text/html": "Commands completed successfully."
                    },
                    "metadata": {}
                },
                {
                    "output_type": "display_data",
                    "data": {
                        "text/html": "Commands completed successfully."
                    },
                    "metadata": {}
                },
                {
                    "output_type": "display_data",
                    "data": {
                        "text/html": "Commands completed successfully."
                    },
                    "metadata": {}
                },
                {
                    "output_type": "display_data",
                    "data": {
                        "text/html": "Commands completed successfully."
                    },
                    "metadata": {}
                },
                {
                    "output_type": "display_data",
                    "data": {
                        "text/html": "Total execution time: 00:00:00.025"
                    },
                    "metadata": {}
                }
            ],
            "execution_count": 8
        },
        {
            "cell_type": "markdown",
            "source": [
                "# Create `Process` Schema:"
            ],
            "metadata": {
                "azdata_cell_guid": "75062b53-55e0-43a8-8074-dfd537aa09c9"
            },
            "attachments": {}
        },
        {
            "cell_type": "code",
            "source": [
                "-- =============================================\r\n",
                "-- Author:\t\t<Daniel, Oksana>\r\n",
                "-- Create date: <12/1/2024>\r\n",
                "-- Description:\t<Create the `Course` table>\r\n",
                "-- =============================================\r\n",
                "USE QueensClassSchedule\r\n",
                "GO\r\n",
                "\r\n",
                "CREATE  SCHEMA  [Course]\r\n",
                "GO\r\n",
                "\r\n",
                "CREATE  TABLE   [Course].[Class]    (\r\n",
                "\t[ClassID]               [Udt].[SurrogateKeyInt] IDENTITY(1,1)   NOT NULL,\r\n",
                "\t[Enrollment]            [Udt].[SurrogateKeyInt]                     NULL,\r\n",
                "\t[Limit]                 [Udt].[SurrogateKeyInt]                     NULL,\r\n",
                "\t[Section]               [Udt].[SurrogateKeyString]                  NULL,\r\n",
                "\t[ClassCode]             [Udt].[SurrogateKeyString]                  NULL,\r\n",
                "\t[Days]                  [Udt].[SurrogateKeyString]                  NULL,\r\n",
                "\t[Time]                  [Udt].[ClassLength]                         NULL,\r\n",
                "    [ClassStart]            [Udt].[ClassHours]                          NULL,\r\n",
                "    [ClassEnd]              [Udt].[ClassHours]                          NULL,\r\n",
                "\t[Hours]                 [Udt].[SurrogateKeyFloat]                   NULL,\r\n",
                "\t[Credits]               [Udt].[SurrogateKeyInt]                     NULL,\r\n",
                "\t[InstructorID]          [Udt].[SurrogateKeyInt]                     NULL,\r\n",
                "\t[UserAuthorizationKey]  [Udt].[SurrogateKeyInt]                     NULL,\r\n",
                "\t[DateAdded]             [Udt].[DateAdded]                           NULL,\r\n",
                "\t[DateOfLastUpdate]      [Udt].[DateAdded]                           NULL\r\n",
                ")   ON  [PRIMARY]\r\n",
                "GO"
            ],
            "metadata": {
                "azdata_cell_guid": "d54071d3-f81b-42c6-a745-a1a9ed11f23d",
                "language": "sql"
            },
            "outputs": [
                {
                    "output_type": "display_data",
                    "data": {
                        "text/html": "Commands completed successfully."
                    },
                    "metadata": {}
                },
                {
                    "output_type": "error",
                    "evalue": "Msg 2714, Level 16, State 6, Line 9\r\nThere is already an object named 'Course' in the database.",
                    "ename": "",
                    "traceback": []
                },
                {
                    "output_type": "error",
                    "evalue": "Msg 2759, Level 16, State 0, Line 9\r\nCREATE SCHEMA failed due to previous errors.",
                    "ename": "",
                    "traceback": []
                },
                {
                    "output_type": "display_data",
                    "data": {
                        "text/html": "Commands completed successfully."
                    },
                    "metadata": {}
                },
                {
                    "output_type": "display_data",
                    "data": {
                        "text/html": "Total execution time: 00:00:00.008"
                    },
                    "metadata": {}
                }
            ],
            "execution_count": 10
        },
        {
            "cell_type": "markdown",
            "source": [
                "# Create Procedure `[Course].[usp_LoadClassTable]`:\n",
                "\n",
                "- `usp_LoadClassTable`: Description\n",
                "- ``: Description\n",
                "- ``: Description"
            ],
            "metadata": {
                "azdata_cell_guid": "be698076-f2ff-4269-992c-e3063dc1fbde"
            },
            "attachments": {}
        },
        {
            "cell_type": "code",
            "source": [
                ""
            ],
            "metadata": {
                "azdata_cell_guid": "2c7ac7c3-8133-484d-b1af-ab7ad0c36098",
                "language": "sql",
                "tags": []
            },
            "outputs": [],
            "execution_count": null
        },
        {
            "cell_type": "markdown",
            "source": [
                "# Create Procedures:\n",
                "- `TruncateTables`: Procedure to truncate all tables\n",
                "- `AddForeignKeys`: Add foreign key constraints\n",
                "- `RemoveForeignKeys`: Remove foreign key constraints\n",
                "- `WorkflowSummary`: Summary workflow report"
            ],
            "metadata": {
                "azdata_cell_guid": "96b04de5-421b-4471-ab7b-069a0de48fb4"
            },
            "attachments": {}
        },
        {
            "cell_type": "code",
            "source": [
                "-- Oksana Weigand-Suminski\n",
                "-- Procedure to truncate all tables (for data reloading)\n",
                "CREATE PROCEDURE TruncateTables\n",
                "AS\n",
                "BEGIN\n",
                "    TRUNCATE TABLE Class;\n",
                "    TRUNCATE TABLE Course;\n",
                "    TRUNCATE TABLE Instructor;\n",
                "    TRUNCATE TABLE Department;\n",
                "    TRUNCATE TABLE Building;\n",
                "    TRUNCATE TABLE Room;\n",
                "    TRUNCATE TABLE ModeOfInstruction;\n",
                "    DELETE FROM WorkflowSteps;\n",
                "END;\n",
                "GO\n",
                "\n",
                "-- Procedure to add foreign key constraints\n",
                "CREATE PROCEDURE AddForeignKeys\n",
                "AS\n",
                "BEGIN\n",
                "    ALTER TABLE Instructor\n",
                "    ADD CONSTRAINT FK_Instructor_Department FOREIGN KEY (DepartmentID) REFERENCES Department(DepartmentID);\n",
                "\n",
                "    ALTER TABLE Class\n",
                "    ADD CONSTRAINT FK_Class_Course FOREIGN KEY (CourseID) REFERENCES Course(CourseID),\n",
                "        CONSTRAINT FK_Class_Instructor FOREIGN KEY (InstructorID) REFERENCES Instructor(InstructorID);\n",
                "\n",
                "    ALTER TABLE Room\n",
                "    ADD CONSTRAINT FK_Room_Building FOREIGN KEY (BuildingID) REFERENCES Building(BuildingID);\n",
                "END;\n",
                "GO\n",
                "\n",
                "-- Procedure to remove foreign key constraints\n",
                "CREATE PROCEDURE RemoveForeignKeys\n",
                "AS\n",
                "BEGIN\n",
                "    -- Remove Foreign Key from Instructor to Department\n",
                "    ALTER TABLE Instructor DROP CONSTRAINT FK_Instructor_Department;\n",
                "\n",
                "    -- Remove Foreign Keys from Class\n",
                "    ALTER TABLE Class DROP CONSTRAINT FK_Class_Course;\n",
                "    ALTER TABLE Class DROP CONSTRAINT FK_Class_Instructor;\n",
                "\n",
                "    -- Remove Foreign Key from Room to Building\n",
                "    ALTER TABLE Room DROP CONSTRAINT FK_Room_Building;\n",
                "END;\n",
                "GO\n",
                "\n",
                "-- Procedure to perform a summary workflow report\n",
                "CREATE PROCEDURE WorkflowSummary\n",
                "AS\n",
                "BEGIN\n",
                "    SELECT \n",
                "        WorkFlowStepDescription,\n",
                "        WorkFlowStepTableRowCount,\n",
                "        StartingDateTime,\n",
                "        EndingDateTime\n",
                "    FROM WorkflowSteps\n",
                "    ORDER BY StartingDateTime;\n",
                "END;\n",
                "GO"
            ],
            "metadata": {
                "azdata_cell_guid": "04571811-70a8-4741-ab16-aa3f69977781",
                "language": "sql",
                "tags": [
                    "hide_input"
                ]
            },
            "outputs": [],
            "execution_count": null
        }
    ]
}