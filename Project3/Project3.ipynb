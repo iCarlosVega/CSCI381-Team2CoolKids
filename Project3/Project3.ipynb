{
    "metadata": {
        "kernelspec": {
            "name": "SQL",
            "display_name": "SQL",
            "language": "sql"
        },
        "language_info": {
            "name": "sql",
            "version": ""
        }
    },
    "nbformat_minor": 2,
    "nbformat": 4,
    "cells": [
        {
            "cell_type": "code",
            "source": [
                "--Jascharan singh\r\n",
                "--Oksana Weigand-Suminski\r\n",
                "--\r\n",
                "USE QueensClassSchedule\r\n",
                "GO\r\n",
                "-- Create the Department table\r\n",
                "CREATE TABLE Department (\r\n",
                "    DepartmentID INT IDENTITY(1,1) PRIMARY KEY,\r\n",
                "    DepartmentName NVARCHAR(100) NOT NULL,\r\n",
                "    CreatedDate DATETIME DEFAULT (SYSDATETIME())\r\n",
                ");\r\n",
                "\r\n",
                "-- Create the Instructor table\r\n",
                "CREATE TABLE Instructor (\r\n",
                "    InstructorID INT IDENTITY(1,1) PRIMARY KEY,\r\n",
                "    FirstName NVARCHAR(50) NOT NULL,\r\n",
                "    LastName NVARCHAR(50) NOT NULL,\r\n",
                "    DepartmentID INT NOT NULL,\r\n",
                "    FOREIGN KEY (DepartmentID) REFERENCES Department(DepartmentID)\r\n",
                ");\r\n",
                "\r\n",
                "-- Create the Course table\r\n",
                "CREATE TABLE Course (\r\n",
                "    CourseID INT IDENTITY(1,1) PRIMARY KEY,\r\n",
                "    CourseName NVARCHAR(100) NOT NULL,\r\n",
                "    Credits INT NOT NULL\r\n",
                ");\r\n",
                "\r\n",
                "-- Create the Class table\r\n",
                "CREATE TABLE Class (\r\n",
                "    ClassID INT IDENTITY(1,1) PRIMARY KEY,\r\n",
                "    CourseID INT NOT NULL,\r\n",
                "    InstructorID INT NOT NULL,\r\n",
                "    Time CHAR(5) DEFAULT '09:15',\r\n",
                "    Location NVARCHAR(100),\r\n",
                "    Enrolled INT DEFAULT 0,\r\n",
                "    Limit INT DEFAULT 30,\r\n",
                "    FOREIGN KEY (CourseID) REFERENCES Course(CourseID),\r\n",
                "    FOREIGN KEY (InstructorID) REFERENCES Instructor(InstructorID)\r\n",
                ");\r\n",
                "\r\n",
                "-- Create the Building table\r\n",
                "CREATE TABLE Building (\r\n",
                "    BuildingID INT IDENTITY(1,1) PRIMARY KEY,\r\n",
                "    BuildingName NVARCHAR(100) NOT NULL,\r\n",
                "    Address NVARCHAR(200)\r\n",
                ");\r\n",
                "\r\n",
                "-- Create the Room table\r\n",
                "CREATE TABLE Room (\r\n",
                "    RoomID INT IDENTITY(1,1) PRIMARY KEY,\r\n",
                "    BuildingID INT NOT NULL,\r\n",
                "    RoomNumber NVARCHAR(50) NOT NULL,\r\n",
                "    Capacity INT DEFAULT 30,\r\n",
                "    FOREIGN KEY (BuildingID) REFERENCES Building(BuildingID)\r\n",
                ");\r\n",
                "\r\n",
                "-- Create the Mode of Instruction table\r\n",
                "CREATE TABLE ModeOfInstruction (\r\n",
                "    ModeID INT IDENTITY(1,1) PRIMARY KEY,\r\n",
                "    ModeDescription NVARCHAR(50) NOT NULL\r\n",
                ");\r\n",
                "\r\n",
                "-- Create the WorkflowSteps table\r\n",
                "CREATE TABLE WorkflowSteps (\r\n",
                "    WorkFlowStepKey INT IDENTITY(1,1) PRIMARY KEY,\r\n",
                "    WorkFlowStepDescription NVARCHAR(100) NOT NULL,\r\n",
                "    WorkFlowStepTableRowCount INT DEFAULT 0,\r\n",
                "    StartingDateTime DATETIME2 DEFAULT (SYSDATETIME()),\r\n",
                "    EndingDateTime DATETIME2 DEFAULT (SYSDATETIME())\r\n",
                ");"
            ],
            "metadata": {
                "azdata_cell_guid": "3dd3c272-943f-4cc9-8308-19869a86d579",
                "language": "sql",
                "tags": []
            },
            "outputs": [
                {
                    "output_type": "display_data",
                    "data": {
                        "text/html": "Commands completed successfully."
                    },
                    "metadata": {}
                },
                {
                    "output_type": "error",
                    "evalue": "Msg 2714, Level 16, State 6, Line 6\nThere is already an object named 'Department' in the database.",
                    "ename": "",
                    "traceback": []
                },
                {
                    "output_type": "display_data",
                    "data": {
                        "text/html": "Total execution time: 00:00:00.013"
                    },
                    "metadata": {}
                }
            ],
            "execution_count": 3
        }
    ]
}