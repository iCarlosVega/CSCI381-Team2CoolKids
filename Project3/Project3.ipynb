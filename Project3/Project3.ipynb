{
    "metadata": {
        "kernelspec": {
            "name": "SQL",
            "display_name": "SQL",
            "language": "sql"
        },
        "language_info": {
            "name": "sql",
            "version": ""
        }
    },
    "nbformat_minor": 2,
    "nbformat": 4,
    "cells": [
        {
            "cell_type": "code",
            "source": [
                "-- test code cell\r\n",
                "USE QueensClassSchedule\r\n",
                "GO\r\n",
                ""
            ],
            "metadata": {
                "azdata_cell_guid": "3dd3c272-943f-4cc9-8308-19869a86d579",
                "language": "sql"
            },
            "outputs": [],
            "execution_count": null
        }
    ]
}