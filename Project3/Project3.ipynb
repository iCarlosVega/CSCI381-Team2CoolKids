{
    "metadata": {
        "kernelspec": {
            "name": "SQL",
            "display_name": "SQL",
            "language": "sql"
        },
        "language_info": {
            "name": "sql",
            "version": ""
        }
    },
    "nbformat_minor": 2,
    "nbformat": 4,
    "cells": [
        {
            "cell_type": "markdown",
            "source": [
                "# Create a View of Source Table `[Uploadfile].[CurrentSemesterCourseOfferings]`\r\n",
                ""
            ],
            "metadata": {
                "language": "sql",
                "azdata_cell_guid": "9e39b501-3177-4418-a6c8-6a2b05850476"
            },
            "attachments": {}
        },
        {
            "cell_type": "code",
            "source": [
                "-- =============================================\r\n",
                "-- Author:\t\t< Daniel Gargiullo, Oksana Weigand-Suminski >\r\n",
                "-- Create date: < 12/4/2024 >\r\n",
                "-- Description:\t< Create View `[Uploadfile].[vw_CurrentSemesterCourseOfferings]` from source table `[Uploadfile].[CurrentSemesterCourseOfferings]`. \r\n",
                "--                ChatGPT 4o assisted >\r\n",
                "-- =============================================\r\n",
                "\r\n",
                "USE QueensClassSchedule\r\n",
                "GO\r\n",
                "\r\n",
                "CREATE VIEW [Uploadfile].[vw_CurrentSemesterCourseOfferings] AS\r\n",
                "SELECT\r\n",
                "    [Semester],\r\n",
                "    [Sec],\r\n",
                "    [Code],\r\n",
                "    [Course (hr, crd)] AS OriginalCourseColumn,\r\n",
                "    -- Extract CourseName (text before the first '(')\r\n",
                "    LTRIM(RTRIM(LEFT([Course (hr, crd)], CHARINDEX('(', [Course (hr, crd)]) - 1))) AS CourseName,\r\n",
                "    -- Extract hr (number between '(' and ',')\r\n",
                "    LTRIM(RTRIM(SUBSTRING([Course (hr, crd)],\r\n",
                "        CHARINDEX('(', [Course (hr, crd)]) + 1,\r\n",
                "        CHARINDEX(',', [Course (hr, crd)]) - CHARINDEX('(', [Course (hr, crd)]) - 1))) AS hr,\r\n",
                "    -- Extract crd (number between ',' and ')')\r\n",
                "    LTRIM(RTRIM(SUBSTRING([Course (hr, crd)],\r\n",
                "        CHARINDEX(',', [Course (hr, crd)]) + 1,\r\n",
                "        CHARINDEX(')', [Course (hr, crd)]) - CHARINDEX(',', [Course (hr, crd)]) - 1))) AS crd,\r\n",
                "    [Description],\r\n",
                "    [Day],\r\n",
                "    [Time],\r\n",
                "    [Instructor],\r\n",
                "    [Location],\r\n",
                "    [Enrolled],\r\n",
                "    [Limit],\r\n",
                "    [Mode of Instruction]\r\n",
                "FROM\r\n",
                "    [Uploadfile].[CurrentSemesterCourseOfferings];\r\n",
                ""
            ],
            "metadata": {
                "azdata_cell_guid": "f13a080e-5348-4ea3-ad2a-744df350626d",
                "language": "sql",
                "tags": [
                    "hide_input"
                ]
            },
            "outputs": [
                {
                    "output_type": "display_data",
                    "data": {
                        "text/html": "Commands completed successfully."
                    },
                    "metadata": {}
                },
                {
                    "output_type": "display_data",
                    "data": {
                        "text/html": "Commands completed successfully."
                    },
                    "metadata": {}
                },
                {
                    "output_type": "display_data",
                    "data": {
                        "text/html": "Total execution time: 00:00:00.014"
                    },
                    "metadata": {}
                }
            ],
            "execution_count": 21
        },
        {
            "cell_type": "markdown",
            "source": [
                "# Create the required schemas and User-defined Data Types\r\n",
                "\r\n",
                "### Schemas being created:\r\n",
                "- `[Udt]`\r\n",
                "- `[DbSecurity]`\r\n",
                "- `[Course]`\r\n",
                "- `[Location]`\r\n",
                "- `[Department]`\r\n",
                "- `[Process]`\r\n",
                "- `[Project3]`"
            ],
            "metadata": {
                "azdata_cell_guid": "3914b4f8-05f9-42e9-8370-c6b8094ecae5"
            },
            "attachments": {}
        },
        {
            "cell_type": "code",
            "source": [
                "-- =============================================\r\n",
                "-- Author:\t\t< Daniel Gargiullo, Oksana Weigand-Suminski, Jascharan Singh, Sarmad Ali, Augusta Na, Carlos Vega >\r\n",
                "-- Create date: < 12/3/2024 >\r\n",
                "-- Description:\t< Create the required schemas and UDT's >\r\n",
                "-- =============================================\r\n",
                "\r\n",
                "USE QueensClassSchedule\r\n",
                "GO\r\n",
                "\r\n",
                "CREATE  SCHEMA  [Udt]\r\n",
                "GO\r\n",
                "\r\n",
                "CREATE  TYPE    [Udt].[SurrogateKeyInt]     FROM    [int]               NULL\r\n",
                "GO\r\n",
                "CREATE  TYPE    [Udt].[DateAdded]           FROM    Datetime2(7)    NOT NULL\r\n",
                "GO\r\n",
                "CREATE  TYPE    [Udt].[ClassTime]           FROM    NCHAR(5)        NOT NULL\r\n",
                "GO\r\n",
                "CREATE  TYPE    [Udt].[IndividualProject]   FROM    NVARCHAR(60)    NOT NULL\r\n",
                "GO\r\n",
                "CREATE  TYPE    [Udt].[LastName]            FROM    NVARCHAR(35)    NOT NULL\r\n",
                "GO\r\n",
                "CREATE  TYPE    [Udt].[FirstName]           FROM    NVARCHAR(20)    NOT NULL\r\n",
                "GO\r\n",
                "CREATE  TYPE    [Udt].[GroupName]           FROM    NVARCHAR(20)    NOT NULL\r\n",
                "GO\r\n",
                "CREATE  TYPE    [Udt].[String100]           FROM    NVARCHAR(100)   NOT NULL\r\n",
                "GO\r\n",
                "CREATE  TYPE    [Udt].[Rows]                FROM    [int]           NOT NULL\r\n",
                "GO\r\n",
                "CREATE  TYPE    [Udt].[String4]             FROM    NVARCHAR(4)         NULL\r\n",
                "GO\r\n",
                "CREATE  TYPE    [Udt].[String8]             FROM    NVARCHAR(8)         NULL\r\n",
                "GO\r\n",
                "CREATE  TYPE    [Udt].[String20]            FROM    NVARCHAR(20)        NULL\r\n",
                "GO\r\n",
                "CREATE  TYPE    [Udt].[String30]            FROM    NVARCHAR(30)    NOT NULL\r\n",
                "GO\r\n",
                "CREATE  TYPE    [Udt].[ClassLength]         FROM    NVARCHAR(30)    NOT NULL\r\n",
                "GO\r\n",
                "CREATE  TYPE    [Udt].[FloatField]          FROM    FLOAT           NOT NULL\r\n",
                "GO\r\n",
                "\r\n",
                "-- =============================================\r\n",
                "-- Author:\t\t< Daniel Gargiullo, Oksana Weigand-Suminski >\r\n",
                "-- Create date: < 12/4/2024 >\r\n",
                "-- Description:\t< Create the required schemas >\r\n",
                "-- =============================================\r\n",
                "\r\n",
                "USE QueensClassSchedule\r\n",
                "GO\r\n",
                "\r\n",
                "CREATE  SCHEMA  [DbSecurity]\r\n",
                "GO\r\n",
                "CREATE  SCHEMA  [Course]\r\n",
                "GO\r\n",
                "CREATE  SCHEMA  [Location]\r\n",
                "GO\r\n",
                "CREATE  SCHEMA  [Department]\r\n",
                "GO\r\n",
                "CREATE  SCHEMA  [Process]\r\n",
                "GO"
            ],
            "metadata": {
                "azdata_cell_guid": "3dd3c272-943f-4cc9-8308-19869a86d579",
                "language": "sql",
                "tags": [
                    "hide_input"
                ]
            },
            "outputs": [
                {
                    "output_type": "display_data",
                    "data": {
                        "text/html": "Commands completed successfully."
                    },
                    "metadata": {}
                },
                {
                    "output_type": "display_data",
                    "data": {
                        "text/html": "Commands completed successfully."
                    },
                    "metadata": {}
                },
                {
                    "output_type": "display_data",
                    "data": {
                        "text/html": "Commands completed successfully."
                    },
                    "metadata": {}
                },
                {
                    "output_type": "display_data",
                    "data": {
                        "text/html": "Commands completed successfully."
                    },
                    "metadata": {}
                },
                {
                    "output_type": "display_data",
                    "data": {
                        "text/html": "Commands completed successfully."
                    },
                    "metadata": {}
                },
                {
                    "output_type": "display_data",
                    "data": {
                        "text/html": "Commands completed successfully."
                    },
                    "metadata": {}
                },
                {
                    "output_type": "display_data",
                    "data": {
                        "text/html": "Commands completed successfully."
                    },
                    "metadata": {}
                },
                {
                    "output_type": "display_data",
                    "data": {
                        "text/html": "Commands completed successfully."
                    },
                    "metadata": {}
                },
                {
                    "output_type": "display_data",
                    "data": {
                        "text/html": "Commands completed successfully."
                    },
                    "metadata": {}
                },
                {
                    "output_type": "display_data",
                    "data": {
                        "text/html": "Commands completed successfully."
                    },
                    "metadata": {}
                },
                {
                    "output_type": "display_data",
                    "data": {
                        "text/html": "Commands completed successfully."
                    },
                    "metadata": {}
                },
                {
                    "output_type": "display_data",
                    "data": {
                        "text/html": "Commands completed successfully."
                    },
                    "metadata": {}
                },
                {
                    "output_type": "display_data",
                    "data": {
                        "text/html": "Commands completed successfully."
                    },
                    "metadata": {}
                },
                {
                    "output_type": "display_data",
                    "data": {
                        "text/html": "Commands completed successfully."
                    },
                    "metadata": {}
                },
                {
                    "output_type": "display_data",
                    "data": {
                        "text/html": "Commands completed successfully."
                    },
                    "metadata": {}
                },
                {
                    "output_type": "display_data",
                    "data": {
                        "text/html": "Commands completed successfully."
                    },
                    "metadata": {}
                },
                {
                    "output_type": "display_data",
                    "data": {
                        "text/html": "Commands completed successfully."
                    },
                    "metadata": {}
                },
                {
                    "output_type": "display_data",
                    "data": {
                        "text/html": "Commands completed successfully."
                    },
                    "metadata": {}
                },
                {
                    "output_type": "display_data",
                    "data": {
                        "text/html": "Commands completed successfully."
                    },
                    "metadata": {}
                },
                {
                    "output_type": "display_data",
                    "data": {
                        "text/html": "Commands completed successfully."
                    },
                    "metadata": {}
                },
                {
                    "output_type": "display_data",
                    "data": {
                        "text/html": "Commands completed successfully."
                    },
                    "metadata": {}
                },
                {
                    "output_type": "display_data",
                    "data": {
                        "text/html": "Commands completed successfully."
                    },
                    "metadata": {}
                },
                {
                    "output_type": "display_data",
                    "data": {
                        "text/html": "Commands completed successfully."
                    },
                    "metadata": {}
                },
                {
                    "output_type": "display_data",
                    "data": {
                        "text/html": "Total execution time: 00:00:00.070"
                    },
                    "metadata": {}
                }
            ],
            "execution_count": 22
        },
        {
            "cell_type": "markdown",
            "source": [
                "# Create `[DbSecurity].[UserAuthorization]` Table\r\n",
                "\r\n",
                "### Create and populate the table storing the group members:"
            ],
            "metadata": {
                "language": "sql",
                "azdata_cell_guid": "5eb0f8ca-de2e-449b-b3c6-237f9ade250a"
            },
            "attachments": {}
        },
        {
            "cell_type": "code",
            "source": [
                "-- =============================================\r\n",
                "-- Author:\t\t< Daniel Gargiullo, Oksana Weigand-Suminski >\r\n",
                "-- Create date: < 12/4/2024 >\r\n",
                "-- Description:\t< Create the `[DbSecurity].[UserAuthorization]` table >\r\n",
                "-- =============================================\r\n",
                "\r\n",
                "USE QueensClassSchedule\r\n",
                "GO\r\n",
                "\r\n",
                "CREATE  TABLE   [DbSecurity].[UserAuthorization]    (\r\n",
                "    [UserAuthorizationKey]  [Udt].[SurrogateKeyInt] IDENTITY(1,1)   NOT NULL\r\n",
                "        PRIMARY KEY CLUSTERED,\r\n",
                "    [ClassTime]             [Udt].[ClassTime]                           NULL    DEFAULT ('10:45'),\r\n",
                "    [IndividualProject]     [Udt].[IndividualProject]                   NULL    DEFAULT ('Project 3'),\r\n",
                "    [GroupMemberLastName]   [Udt].[LastName]                        NOT NULL,\r\n",
                "    [GroupMemberFirstName]  [Udt].[FirstName]                       NOT NULL,\r\n",
                "    [GroupName]             [Udt].[GroupName]                       NOT NULL    DEFAULT ('Group 2'),\r\n",
                "    [DateAdded]             [Udt].[DateAdded]                           NULL    DEFAULT (SYSDATETIME())\r\n",
                ");\r\n",
                "GO\r\n",
                "\r\n",
                "INSERT  INTO    [DbSecurity].[UserAuthorization]    (GroupMemberFirstName,   GroupMemberLastName)\r\n",
                "VALUES\r\n",
                "    ('Sarmad',      'Ali'), \r\n",
                "    ('Daniel',      'Gargiullo'), \r\n",
                "    ('Augusta',     'Na'), \r\n",
                "    ('Jascharan',   'Singh'),\r\n",
                "    ('Carlos',      'Vega Lemus'), \r\n",
                "    ('Oksana',      'Weigand-Suminski');"
            ],
            "metadata": {
                "language": "sql",
                "azdata_cell_guid": "79cff498-101a-42db-ae7c-ea5191cf0748",
                "tags": [
                    "hide_input"
                ]
            },
            "outputs": [
                {
                    "output_type": "display_data",
                    "data": {
                        "text/html": "Commands completed successfully."
                    },
                    "metadata": {}
                },
                {
                    "output_type": "display_data",
                    "data": {
                        "text/html": "Commands completed successfully."
                    },
                    "metadata": {}
                },
                {
                    "output_type": "display_data",
                    "data": {
                        "text/html": "(6 rows affected)"
                    },
                    "metadata": {}
                },
                {
                    "output_type": "display_data",
                    "data": {
                        "text/html": "Total execution time: 00:00:00.012"
                    },
                    "metadata": {}
                }
            ],
            "execution_count": 23
        },
        {
            "cell_type": "markdown",
            "source": [
                "# Create Required Tables\r\n",
                "- `[Process]`\r\n",
                "    - `.[WorkFlowSteps]`\r\n",
                "- `[Course]`\r\n",
                "    - `.[Course]`\r\n",
                "    - `.[Class]`\r\n",
                "    - `.[ModeOfInstruction]`\r\n",
                "- `[Location]`\r\n",
                "    - `.[BuildingLocation]`\r\n",
                "    - `.[RoomLocation]`\r\n",
                "- `[Department]`\r\n",
                "    - `.[Department]`\r\n",
                "    - `.[Instructor]`"
            ],
            "metadata": {
                "azdata_cell_guid": "75062b53-55e0-43a8-8074-dfd537aa09c9"
            },
            "attachments": {}
        },
        {
            "cell_type": "code",
            "source": [
                "-- =============================================\r\n",
                "-- Author:\t\t< Daniel Gargiullo, Oksana Weigand-Suminski >\r\n",
                "-- Create date: < 12/4/2024 >\r\n",
                "-- Description:\t< Create the other required tables >\r\n",
                "-- =============================================\r\n",
                "\r\n",
                "USE QueensClassSchedule\r\n",
                "GO\r\n",
                "\r\n",
                "/* [Process] schema */\r\n",
                "\r\n",
                "CREATE  TABLE   [Process].[WorkFlowSteps]   (\r\n",
                "    [WorkFlowStepsKey]              [Udt].[SurrogateKeyInt] IDENTITY(1,1)   NOT NULL\r\n",
                "        PRIMARY KEY CLUSTERED,\r\n",
                "    [WorkFlowStepsDescription]      [Udt].[String100]                       NOT NULL,\r\n",
                "    [WorkFlowStepsTableRowCount]    [Udt].[Rows]                                NULL    DEFAULT ((0)),\r\n",
                "    [StartingDateTime]              [Udt].[DateAdded]                           NULL    DEFAULT (SYSDATETIME()),\r\n",
                "    [EndDateTime]                   [Udt].[DateAdded]                           NULL    DEFAULT (SYSDATETIME()),\r\n",
                "    [ClassTime]                     [Udt].[ClassTime]                           NULL    DEFAULT ('10:45'),\r\n",
                "\r\n",
                "    [UserAuthorizationKey]          [Udt].[SurrogateKeyInt]                 NOT NULL\r\n",
                ")\r\n",
                "GO\r\n",
                "\r\n",
                "/* [Course] schema */\r\n",
                "\r\n",
                "CREATE  TABLE   [Course].[Course]   (\r\n",
                "\t[CourseID]              [Udt].[SurrogateKeyInt] IDENTITY(1,1)   NOT NULL\r\n",
                "        PRIMARY KEY CLUSTERED,\r\n",
                "    [Section]               [Udt].[String4]                             NULL,\r\n",
                "\t[Course]                [Udt].[String30]                            NULL,\r\n",
                "    [Semester]              [Udt].[String20]                            NULL,\r\n",
                "\t[Description]           [Udt].[String100]                           NULL,\r\n",
                "    -- Required fields:\r\n",
                "\t[UserAuthorizationKey]  [Udt].[SurrogateKeyInt]                     NULL,\r\n",
                "\t[DateAdded]             [Udt].[DateAdded]                           NULL,\r\n",
                "\t[DateOfLastUpdate]      [Udt].[DateAdded]                           NULL\r\n",
                ")\r\n",
                "GO\r\n",
                "\r\n",
                "CREATE  TABLE   [Course].[Class]    (\r\n",
                "    [ClassID]               [Udt].[SurrogateKeyInt] IDENTITY(1,1)   NOT NULL\r\n",
                "        PRIMARY KEY CLUSTERED,\r\n",
                "    [Enrollment]            [Udt].[SurrogateKeyInt]                     NULL,\r\n",
                "    [Limit]                 [Udt].[SurrogateKeyInt]                     NULL,\r\n",
                "    [Section]               [Udt].[String30]                            NULL,\r\n",
                "    [Department]            [Udt].[String30]                            NULL,\r\n",
                "    [Hours]                 [Udt].[FloatField]                          NULL,\r\n",
                "    [Credits]               [Udt].[SurrogateKeyInt]                     NULL,\r\n",
                "    [Days]                  [Udt].[String30]                            NULL,\r\n",
                "    [ClassStart]            [Udt].[String20]                            NULL,\r\n",
                "    [ClassEnd]              [Udt].[String20]                            NULL,\r\n",
                "    -- Required fields:\r\n",
                "    [UserAuthorizationKey]  [Udt].[SurrogateKeyInt]                     NULL,\r\n",
                "    [DateAdded]             [Udt].[DateAdded]                           NULL    DEFAULT (SYSDATETIME()),\r\n",
                "    [DateOfLastUpdate]      [Udt].[DateAdded]                           NULL    DEFAULT (SYSDATETIME())\r\n",
                ")\r\n",
                "GO\r\n",
                "\r\n",
                "CREATE  TABLE   [Course].[ModeOfInstruction]    (\r\n",
                "\t[ModeID]                [Udt].[SurrogateKeyInt] IDENTITY(1,1)   NOT NULL\r\n",
                "        PRIMARY KEY CLUSTERED,\r\n",
                "\t[ModeName]              [Udt].[String100]                       NOT NULL,\r\n",
                "    -- Required fields:\r\n",
                "\t[UserAuthorizationKey]  [Udt].[SurrogateKeyInt]                     NULL,\r\n",
                "\t[DateAdded]             [Udt].[DateAdded]                           NULL,\r\n",
                "\t[DateOfLastUpdate]      [Udt].[DateAdded]                           NULL\r\n",
                ");\r\n",
                "\r\n",
                "-- =============================================\r\n",
                "-- Author:\t\t< Daniel Gargiullo, Oksana Weigand-Suminski, Carlos Vega >\r\n",
                "-- Create date: < 12/5/2024 >\r\n",
                "-- Description:\t< Create the required tables in the `[Location]` schema >\r\n",
                "-- =============================================\r\n",
                "\r\n",
                "/* [Location] schema */\r\n",
                "\r\n",
                "CREATE  TABLE   [Location].[BuildingLocation]   (\r\n",
                "    [BuildingLocationID]    [Udt].[SurrogateKeyInt] IDENTITY(1,1)   NOT NULL \r\n",
                "        PRIMARY KEY CLUSTERED,\r\n",
                "    [CourseCode]            [Udt].[String30]                        NOT NULL,\r\n",
                "    [Description]           [Udt].[String100]                           NULL,\r\n",
                "    [Building]              [Udt].[String30]                        NOT NULL,\r\n",
                "    [Day]                   [Udt].[String30]                            NULL,\r\n",
                "    -- Required fields:\r\n",
                "    [UserAuthorizationKey]  [Udt].[SurrogateKeyInt]                     NULL,\r\n",
                "    [DateAdded]             [Udt].[DateAdded]                           NULL,\r\n",
                "    [DateOfLastUpdate]      [Udt].[DateAdded]                           NULL\r\n",
                ")\r\n",
                "GO\r\n",
                "\r\n",
                "-- ======================================================================\r\n",
                "-- Author:\t\t< Daniel Gargiullo, Oksana Weigand-Suminski >\r\n",
                "-- Create date: < 12/5/2024 >\r\n",
                "-- Description:\t< Create the required tables in the `[Location]` schema >\r\n",
                "-- ======================================================================\r\n",
                "\r\n",
                "CREATE  TABLE   [Location].[RoomLocation]   (\r\n",
                "\t[RoomLocationID]        [Udt].[SurrogateKeyInt] IDENTITY(1,1)   NOT NULL\r\n",
                "        PRIMARY KEY CLUSTERED,\r\n",
                "    [Room]                  [Udt].[String30]                        NOT NULL,\r\n",
                "    [Time]                  [Udt].[String20]                        NOT NULL,\r\n",
                "    [Day]                   [Udt].[String20]                        NOT NULL,\r\n",
                "\t[BuildingLocationID]    [Udt].[SurrogateKeyInt]                 NOT NULL,\r\n",
                "    -- Required fields:\r\n",
                "\t[UserAuthorizationKey]  [Udt].[SurrogateKeyInt]                     NULL,\r\n",
                "\t[DateAdded]             [Udt].[DateAdded]                           NULL,\r\n",
                "\t[DateOfLastUpdate]      [Udt].[DateAdded]                           NULL\r\n",
                ")\r\n",
                "GO\r\n",
                "\r\n",
                "/* [Department] schema */\r\n",
                "\r\n",
                "CREATE  TABLE   [Department].[Department]   (\r\n",
                "    [DepartmentID]          [Udt].[SurrogateKeyInt] IDENTITY(1,1)   NOT NULL\r\n",
                "        PRIMARY KEY CLUSTERED,\r\n",
                "    [Department]            [Udt].[String8]                         NOT NULL,\r\n",
                "    [InstructorID]          [Udt].[SurrogateKeyInt]                 NOT NULL,\r\n",
                "    [FirstName]             [Udt].[String30]                        NOT NULL,\r\n",
                "    [LastName]              [Udt].[String30]                        NOT NULL,\r\n",
                "    -- Required fields:\r\n",
                "    [UserAuthorizationKey]  [Udt].[SurrogateKeyInt]                     NULL,\r\n",
                "    [DateAdded]             [Udt].[DateAdded]                           NULL,\r\n",
                "    [DateOfLastUpdate]      [Udt].[DateAdded]                           NULL\r\n",
                ")\r\n",
                "GO\r\n",
                "\r\n",
                "CREATE  TABLE   [Department].[Instructor]   (\r\n",
                "    [InstructorID]          [Udt].[SurrogateKeyInt] IDENTITY(1,1)   NOT NULL\r\n",
                "        PRIMARY KEY CLUSTERED,\r\n",
                "    [DepartmentID]          [Udt].[SurrogateKeyInt]                 NOT NULL,\r\n",
                "    [FirstName]             [Udt].[String30]                        NOT NULL,\r\n",
                "    [LastName]              [Udt].[String30]                        NOT NULL,\r\n",
                "    -- Required fields:\r\n",
                "\t[UserAuthorizationKey]  [Udt].[SurrogateKeyInt]                     NULL,\r\n",
                "\t[DateAdded]             [Udt].[DateAdded]                           NULL,\r\n",
                "\t[DateOfLastUpdate]      [Udt].[DateAdded]                           NULL\r\n",
                ")\r\n",
                "GO"
            ],
            "metadata": {
                "azdata_cell_guid": "d54071d3-f81b-42c6-a745-a1a9ed11f23d",
                "language": "sql",
                "tags": [
                    "hide_input"
                ]
            },
            "outputs": [
                {
                    "output_type": "display_data",
                    "data": {
                        "text/html": "Commands completed successfully."
                    },
                    "metadata": {}
                },
                {
                    "output_type": "display_data",
                    "data": {
                        "text/html": "Commands completed successfully."
                    },
                    "metadata": {}
                },
                {
                    "output_type": "display_data",
                    "data": {
                        "text/html": "Commands completed successfully."
                    },
                    "metadata": {}
                },
                {
                    "output_type": "display_data",
                    "data": {
                        "text/html": "Commands completed successfully."
                    },
                    "metadata": {}
                },
                {
                    "output_type": "display_data",
                    "data": {
                        "text/html": "Commands completed successfully."
                    },
                    "metadata": {}
                },
                {
                    "output_type": "display_data",
                    "data": {
                        "text/html": "Commands completed successfully."
                    },
                    "metadata": {}
                },
                {
                    "output_type": "display_data",
                    "data": {
                        "text/html": "Commands completed successfully."
                    },
                    "metadata": {}
                },
                {
                    "output_type": "display_data",
                    "data": {
                        "text/html": "Commands completed successfully."
                    },
                    "metadata": {}
                },
                {
                    "output_type": "display_data",
                    "data": {
                        "text/html": "Total execution time: 00:00:00.077"
                    },
                    "metadata": {}
                }
            ],
            "execution_count": 24
        },
        {
            "cell_type": "markdown",
            "source": [
                "# Create Workflow Procedures\r\n",
                "\r\n",
                "- `[Process]`\r\n",
                "    - `[usp_TrackWorkFlow]`\r\n",
                "    - `[usp_ShowWorkFlowSteps]`"
            ],
            "metadata": {
                "language": "sql",
                "azdata_cell_guid": "dd9c8934-d7e4-4a08-a691-08e9acd50eb2"
            },
            "attachments": {}
        },
        {
            "cell_type": "code",
            "source": [
                "-- =============================================\n",
                "-- Author:\t\t< Daniel Gargiullo, Oksana Weigand-Suminski >\n",
                "-- Create date: < 12/5/2024 >\n",
                "-- Description:\t< Create `[Process].[usp_TrackWorkFlow]` and `[Process].[usp_ShowWorkFlowSteps]` procedures >\n",
                "-- =============================================\n",
                "\n",
                "USE QueensClassSchedule\n",
                "GO\n",
                "\n",
                "CREATE PROCEDURE [Process].[usp_TrackWorkFlow]\n",
                "    @UserAuthorizationKey INT,\n",
                "    @WorkFlowStepsTableRowCount INT,\n",
                "    @WorkFlowStepsDescription NVARCHAR(100)\n",
                "AS\n",
                "BEGIN\n",
                "    INSERT INTO [Process].[WorkFlowSteps]\n",
                "        (UserAuthorizationKey, WorkFlowStepsTableRowCount, WorkFlowStepsDescription)\n",
                "    VALUES(@UserAuthorizationKey, @WorkFlowStepsTableRowCount, @WorkFlowStepsDescription);\n",
                "END;\n",
                "GO\n",
                "\n",
                "CREATE PROCEDURE [Process].[usp_ShowWorkFlowSteps] \n",
                "AS\n",
                "BEGIN\n",
                "\tSELECT *\n",
                "\tFROM [Process].[WorkFlowSteps];\n",
                "END;\n",
                "GO"
            ],
            "metadata": {
                "language": "sql",
                "azdata_cell_guid": "99129362-6592-40b6-89d8-2399d66ccb1f",
                "tags": [
                    "hide_input"
                ]
            },
            "outputs": [
                {
                    "output_type": "display_data",
                    "data": {
                        "text/html": "Commands completed successfully."
                    },
                    "metadata": {}
                },
                {
                    "output_type": "display_data",
                    "data": {
                        "text/html": "Commands completed successfully."
                    },
                    "metadata": {}
                },
                {
                    "output_type": "display_data",
                    "data": {
                        "text/html": "Commands completed successfully."
                    },
                    "metadata": {}
                },
                {
                    "output_type": "display_data",
                    "data": {
                        "text/html": "Total execution time: 00:00:00.011"
                    },
                    "metadata": {}
                }
            ],
            "execution_count": 25
        },
        {
            "cell_type": "markdown",
            "source": [
                "# Create and Execute Stored Procedures\n",
                "\n",
                "- `[Course]`\n",
                "    - `.[usp_LoadClassTable]`\n",
                "    - `.[usp_LoadModeOfInstructionTable]`\n",
                "    - `.[usp_LoadCourseTable]`\n",
                "- `[Location]`\n",
                "    - `.[usp_LoadBuildingLocationTable]`\n",
                "    - `.[usp_LoadRoomLocationTable]`\n",
                "- `[Department]`\n",
                "    - `.[Department]`"
            ],
            "metadata": {
                "language": "sql",
                "azdata_cell_guid": "dde43efb-dbb3-4192-8c6a-6b62164ee64d"
            },
            "attachments": {}
        },
        {
            "cell_type": "code",
            "source": [
                "-- ================================================================\n",
                "-- Author:\t\t< Daniel Gargiullo, Oksana Weigand-Suminski >\n",
                "-- Create date: < 12/6/2024 >\n",
                "-- Description:\t< Create the `[Process].[usp_TrackWorkFlowSteps]` procedure >\n",
                "-- ================================================================\n",
                "\n",
                "USE QueensClassSchedule\n",
                "GO\n",
                "\n",
                "CREATE PROCEDURE [Course].[usp_LoadCourseTable]\n",
                "    @UserAuthorizationKey INT\n",
                "AS\n",
                "BEGIN\n",
                "    INSERT INTO Course.Course\n",
                "    (\n",
                "        Section, \n",
                "        Course, \n",
                "        [Semester], \n",
                "        [Description], \n",
                "        UserAuthorizationKey,\n",
                "        DateAdded,\n",
                "        DateOfLastUpdate\n",
                "    )\n",
                "    SELECT DISTINCT\n",
                "        [Sec] AS Section, \n",
                "        SUBSTRING([Course (hr, crd)], 1, CHARINDEX('(', [Course (hr, crd)]) - 1) AS Course,\n",
                "        [Semester],\n",
                "        [Description],\n",
                "        @UserAuthorizationKey,\n",
                "        SYSDATETIME() AS DateAdded, \n",
                "        SYSDATETIME() AS DateOfLastUpdate\n",
                "    FROM Uploadfile.CurrentSemesterCourseOfferings;\n",
                "    EXEC [Process].[usp_TrackWorkFlow] \n",
                "        @UserAuthorizationKey = @UserAuthorizationKey, \n",
                "        @WorkFlowStepsDescription = 'Loading data into Course table',\n",
                "        @WorkFlowStepsTableRowCount = @@ROWCOUNT;\n",
                "END;\n",
                "GO\n",
                "\n",
                "CREATE PROCEDURE [Course].[usp_LoadClassTable]\n",
                "    @UserAuthorizationKey INT\n",
                "AS\n",
                "BEGIN\n",
                "    INSERT INTO [Course].[Class] (\n",
                "        Section,\n",
                "        Department,\n",
                "        Hours,\n",
                "        Credits,\n",
                "        Days,\n",
                "        ClassStart,\n",
                "        ClassEnd,\n",
                "        Enrollment,\n",
                "        [Limit],\n",
                "        UserAuthorizationKey,\n",
                "        DateAdded,\n",
                "        DateOfLastUpdate\n",
                "    )\n",
                "    SELECT\n",
                "        [Sec] AS Section,\n",
                "        LEFT([Course (hr, crd)], CHARINDEX(' ', [Course (hr, crd)]) - 1) AS Department,\n",
                "        TRY_CAST(\n",
                "            TRIM(\n",
                "                SUBSTRING(\n",
                "                    [Course (hr, crd)],\n",
                "                    CHARINDEX('(', [Course (hr, crd)]) + 1,\n",
                "                    CHARINDEX(',', [Course (hr, crd)]) - CHARINDEX('(', [Course (hr, crd)]) - 1\n",
                "                )\n",
                "            ) AS FLOAT\n",
                "        ) AS Hours,\n",
                "        TRY_CAST(\n",
                "            TRIM(\n",
                "                SUBSTRING(\n",
                "                    [Course (hr, crd)],\n",
                "                    CHARINDEX(',', [Course (hr, crd)]) + 1,\n",
                "                    CHARINDEX(')', [Course (hr, crd)]) - CHARINDEX(',', [Course (hr, crd)]) - 1\n",
                "                )\n",
                "            ) AS INT\n",
                "        ) AS Credits,\n",
                "        [Day] AS Days,\n",
                "        TRIM(LEFT([Time], CHARINDEX('-', [Time]) - 1)) AS ClassStart,\n",
                "        TRIM(SUBSTRING([Time], CHARINDEX('-', [Time]) + 1, LEN([Time]))) AS ClassEnd,\n",
                "        TRY_CAST([Enrolled] AS INT) AS Enrollment,\n",
                "        TRY_CAST([Limit] AS INT) AS [Limit],\n",
                "        @UserAuthorizationKey,\n",
                "        SYSDATETIME() AS DateAdded,\n",
                "        SYSDATETIME() AS DateOfLastUpdate\n",
                "    FROM [Uploadfile].[CurrentSemesterCourseOfferings] c\n",
                "    WHERE\n",
                "        [Course (hr, crd)] IS NOT NULL\n",
                "        AND CHARINDEX(' ', [Course (hr, crd)]) > 0\n",
                "        AND CHARINDEX('-', [Time]) > 0;\n",
                "    EXEC [Process].[usp_TrackWorkFlow] \n",
                "        @UserAuthorizationKey = @UserAuthorizationKey,\n",
                "        @WorkFlowStepsDescription = 'Loading data into Class table',\n",
                "        @WorkFlowStepsTableRowCount = @@ROWCOUNT;\n",
                "END;\n",
                "GO\n",
                "\n",
                "CREATE PROCEDURE [Course].[usp_LoadModeOfInstructionTable]\n",
                "    @UserAuthorizationKey INT\n",
                "AS\n",
                "BEGIN\n",
                "    INSERT INTO [Course].[ModeOfInstruction]\n",
                "    (\n",
                "        ModeName,\n",
                "        UserAuthorizationKey,\n",
                "        DateAdded,\n",
                "        DateOfLastUpdate\n",
                "    )\n",
                "    SELECT [Mode of Instruction] AS ModeName, @UserAuthorizationKey, SYSDATETIME() AS DateAdded, SYSDATETIME() AS DateOfLastUpdate\n",
                "    FROM [Uploadfile].[CurrentSemesterCourseOfferings]\n",
                "    --  Insert the user into the Process.WorkFlowTable\n",
                "    EXEC [Process].[usp_TrackWorkFlow]\n",
                "        @UserAuthorizationKey = @UserAuthorizationKey,\n",
                "        @WorkFlowStepsDescription =  'Loading data into MOI table',\n",
                "        @WorkFlowStepsTableRowCount = @@ROWCOUNT;\n",
                "END;\n",
                "GO\n",
                "\n",
                "CREATE PROCEDURE [Location].[usp_LoadBuildingLocationTable]\n",
                "    @UserAuthorizationKey INT\n",
                "AS\n",
                "BEGIN\n",
                "    -- Insert data into the BuildingLocation table\n",
                "    INSERT INTO [Location].[BuildingLocation]\n",
                "    (\n",
                "        CourseCode,\n",
                "        Description,\n",
                "        Building,\n",
                "        Day,\n",
                "        UserAuthorizationKey,\n",
                "        DateAdded,\n",
                "        DateOfLastUpdate\n",
                "    )\n",
                "    SELECT \n",
                "        [Code] AS CourseCode,\n",
                "        [Description],\n",
                "        TRIM(LEFT([Location], CHARINDEX(' ', [Location]) - 1)) AS Building,\n",
                "        [Day],\n",
                "        @UserAuthorizationKey AS UserAuthorizationKey,\n",
                "        SYSDATETIME() AS DateAdded,\n",
                "        SYSDATETIME() AS DateOfLastUpdate\n",
                "    FROM [Uploadfile].[CurrentSemesterCourseOfferings]\n",
                "    WHERE \n",
                "        [Location] IS NOT NULL\n",
                "        AND CHARINDEX(' ', [Location]) > 0;\n",
                "    EXEC [Process].[usp_TrackWorkFlow]\n",
                "        @UserAuthorizationKey = @UserAuthorizationKey,\n",
                "        @WorkFlowStepsDescription = 'Loading data into BuildingLocation table',\n",
                "        @WorkFlowStepsTableRowCount = @@ROWCOUNT;\n",
                "END;\n",
                "GO\n",
                "\n",
                "CREATE PROCEDURE [Location].[usp_LoadRoomLocationTable]\n",
                "    @UserAuthorizationKey INT\n",
                "AS\n",
                "BEGIN\n",
                "    -- Insert data into the RoomLocation table\n",
                "    INSERT INTO [Location].[RoomLocation]\n",
                "    (\n",
                "        Room,\n",
                "        Time,\n",
                "        Day,\n",
                "        BuildingLocationID,\n",
                "        UserAuthorizationKey,\n",
                "        DateAdded,\n",
                "        DateOfLastUpdate\n",
                "    )\n",
                "    SELECT \n",
                "        TRIM(SUBSTRING(c.[Location], CHARINDEX(' ', c.[Location]) + 1, LEN(c.[Location]))) AS Room,\n",
                "        c.[Time],\n",
                "        c.[Day], -- Explicitly use table alias\n",
                "        bl.BuildingLocationID,\n",
                "        @UserAuthorizationKey AS UserAuthorizationKey,\n",
                "        SYSDATETIME() AS DateAdded,\n",
                "        SYSDATETIME() AS DateOfLastUpdate\n",
                "    FROM [Uploadfile].[CurrentSemesterCourseOfferings] c\n",
                "    INNER JOIN [Location].[BuildingLocation] bl\n",
                "        ON bl.CourseCode = c.[Code]\n",
                "    WHERE\n",
                "        c.[Location] IS NOT NULL\n",
                "        AND CHARINDEX(' ', c.[Location]) > 0;\n",
                "    EXEC [Process].[usp_TrackWorkFlow]\n",
                "        @UserAuthorizationKey = @UserAuthorizationKey,\n",
                "        @WorkFlowStepsDescription = 'Loading data into RoomLocation table',\n",
                "        @WorkFlowStepsTableRowCount = @@ROWCOUNT;\n",
                "END;\n",
                "GO\n",
                "\n",
                "-- INSTRUCTOR PROCEDURE\n",
                "CREATE  PROCEDURE [Department].[usp_LoadInstructorTable]\n",
                "    @UserAuthorizationKey INT\n",
                "AS\n",
                "BEGIN\n",
                "    SET NOCOUNT ON;\n",
                "    -- Insert data into Department.Instructor table\n",
                "    INSERT INTO [Department].[Instructor]\n",
                "    (\n",
                "        LastName,\n",
                "        FirstName,\n",
                "        DepartmentID, -- Add this column\n",
                "        UserAuthorizationKey,\n",
                "        DateAdded,\n",
                "        DateOfLastUpdate\n",
                "    )\n",
                "    SELECT DISTINCT\n",
                "        SUBSTRING([Instructor], 1, CHARINDEX(',', [Instructor]) - 1) AS LastName,\n",
                "        LTRIM(SUBSTRING([Instructor], CHARINDEX(',', [Instructor]) + 1, LEN([Instructor]) - CHARINDEX(',', [Instructor]))) AS FirstName,\n",
                "        1 AS DepartmentID, -- Replace with an appropriate value or logic\n",
                "        @UserAuthorizationKey,\n",
                "        SYSDATETIME() AS DateAdded,\n",
                "        SYSDATETIME() AS DateOfLastUpdate\n",
                "    FROM [Uploadfile].[CurrentSemesterCourseOfferings]\n",
                "    WHERE [Instructor] IS NOT NULL\n",
                "          AND CHARINDEX(',', [Instructor]) > 0;\n",
                "    EXEC [Process].[usp_TrackWorkFlow]\n",
                "        @UserAuthorizationKey = @UserAuthorizationKey, \n",
                "        @WorkFlowStepsDescription = 'Loading data into Instructor table',\n",
                "        @WorkFlowStepsTableRowCount = @@ROWCOUNT;\n",
                "END;\n",
                "GO\n",
                "\n",
                "-- DEPARTMENT PROCEDURE\n",
                "CREATE PROCEDURE [Department].[usp_LoadDepartmentTable]\n",
                "    @UserAuthorizationKey INT\n",
                "AS\n",
                "BEGIN\n",
                "\n",
                "    INSERT INTO [Department].[Department]\n",
                "    (\n",
                "        Department,   \n",
                "        InstructorID,\n",
                "        FirstName,\n",
                "        LastName,\n",
                "        UserAuthorizationKey,\n",
                "        DateAdded,\n",
                "        DateOfLastUpdate\n",
                "    )\n",
                "    SELECT DISTINCT\n",
                "        -- Extract department code (e.g., ACCT from ACCT 100)\n",
                "        LEFT([Course (hr, crd)], CHARINDEX(' ', [Course (hr, crd)]) - 1) AS Department,\n",
                "\n",
                "        -- InstructorID from the Instructor table\n",
                "        inst.InstructorID,\n",
                "\n",
                "        -- Extract LastName from Instructor column\n",
                "        SUBSTRING(cso.[Instructor], 1, CHARINDEX(',', cso.[Instructor]) - 1) AS LastName,\n",
                "\n",
                "        -- Extract FirstName from Instructor column\n",
                "        LTRIM(SUBSTRING(cso.[Instructor], CHARINDEX(',', cso.[Instructor]) + 1, LEN(cso.[Instructor]) - CHARINDEX(',', cso.[Instructor]))) AS FirstName,\n",
                "\n",
                "        @UserAuthorizationKey,\n",
                "        SYSDATETIME() AS DateAdded,\n",
                "        SYSDATETIME() AS DateOfLastUpdate\n",
                "    FROM [Uploadfile].[CurrentSemesterCourseOfferings] cso\n",
                "    INNER JOIN [Department].[Instructor] inst \n",
                "        ON inst.LastName = SUBSTRING(cso.[Instructor], 1, CHARINDEX(',', cso.[Instructor]) - 1)\n",
                "        AND inst.FirstName = LTRIM(SUBSTRING(cso.[Instructor], CHARINDEX(',', cso.[Instructor]) + 1, LEN(cso.[Instructor]) - CHARINDEX(',', cso.[Instructor])))\n",
                "    WHERE [Course (hr, crd)] IS NOT NULL\n",
                "          AND CHARINDEX(' ', [Course (hr, crd)]) > 0\n",
                "          AND cso.[Instructor] IS NOT NULL\n",
                "          AND CHARINDEX(',', cso.[Instructor]) > 0;\n",
                "\n",
                "    -- Log the workflow step\n",
                "    EXEC [Process].[usp_TrackWorkFlow]\n",
                "        @UserAuthorizationKey = @UserAuthorizationKey, \n",
                "        @WorkflowStepsDescription = 'Loading data into Department table',\n",
                "        @WorkflowStepsTableRowCount = @@ROWCOUNT;\n",
                "END;\n",
                "GO\n",
                "\n",
                "EXEC    [Course].[usp_LoadCourseTable]              @UserAuthorizationKey = 6\n",
                "GO\n",
                "EXEC    [Course].[usp_LoadClassTable]               @UserAuthorizationKey = 6\n",
                "GO\n",
                "EXEC    [Course].[usp_LoadModeOfInstructionTable]   @UserAuthorizationKey = 2\n",
                "GO\n",
                "EXEC    [Location].[usp_LoadBuildingLocationTable]  @UserAuthorizationKey = 2\n",
                "GO\n",
                "EXEC    [Location].[usp_LoadRoomLocationTable]      @UserAuthorizationKey = 2\n",
                "GO\n",
                "EXEC    [Department].[usp_LoadInstructorTable]      @UserAuthorizationKey = 4\n",
                "GO\n",
                "EXEC    [Department].[usp_LoadDepartmentTable]      @UserAuthorizationKey = 6\n",
                "GO"
            ],
            "metadata": {
                "language": "sql",
                "azdata_cell_guid": "8d155075-f713-43a9-aaed-f57c0a1dba6f",
                "tags": [
                    "hide_input"
                ]
            },
            "outputs": [
                {
                    "output_type": "display_data",
                    "data": {
                        "text/html": "Commands completed successfully."
                    },
                    "metadata": {}
                },
                {
                    "output_type": "display_data",
                    "data": {
                        "text/html": "Commands completed successfully."
                    },
                    "metadata": {}
                },
                {
                    "output_type": "display_data",
                    "data": {
                        "text/html": "Commands completed successfully."
                    },
                    "metadata": {}
                },
                {
                    "output_type": "display_data",
                    "data": {
                        "text/html": "Commands completed successfully."
                    },
                    "metadata": {}
                },
                {
                    "output_type": "display_data",
                    "data": {
                        "text/html": "Commands completed successfully."
                    },
                    "metadata": {}
                },
                {
                    "output_type": "display_data",
                    "data": {
                        "text/html": "Commands completed successfully."
                    },
                    "metadata": {}
                },
                {
                    "output_type": "display_data",
                    "data": {
                        "text/html": "Commands completed successfully."
                    },
                    "metadata": {}
                },
                {
                    "output_type": "display_data",
                    "data": {
                        "text/html": "Commands completed successfully."
                    },
                    "metadata": {}
                },
                {
                    "output_type": "display_data",
                    "data": {
                        "text/html": "(4187 rows affected)"
                    },
                    "metadata": {}
                },
                {
                    "output_type": "display_data",
                    "data": {
                        "text/html": "(1 row affected)"
                    },
                    "metadata": {}
                },
                {
                    "output_type": "display_data",
                    "data": {
                        "text/html": "(4522 rows affected)"
                    },
                    "metadata": {}
                },
                {
                    "output_type": "display_data",
                    "data": {
                        "text/html": "(1 row affected)"
                    },
                    "metadata": {}
                },
                {
                    "output_type": "display_data",
                    "data": {
                        "text/html": "(4522 rows affected)"
                    },
                    "metadata": {}
                },
                {
                    "output_type": "display_data",
                    "data": {
                        "text/html": "(1 row affected)"
                    },
                    "metadata": {}
                },
                {
                    "output_type": "display_data",
                    "data": {
                        "text/html": "(3207 rows affected)"
                    },
                    "metadata": {}
                },
                {
                    "output_type": "display_data",
                    "data": {
                        "text/html": "(1 row affected)"
                    },
                    "metadata": {}
                },
                {
                    "output_type": "display_data",
                    "data": {
                        "text/html": "(3889 rows affected)"
                    },
                    "metadata": {}
                },
                {
                    "output_type": "display_data",
                    "data": {
                        "text/html": "(1 row affected)"
                    },
                    "metadata": {}
                },
                {
                    "output_type": "display_data",
                    "data": {
                        "text/html": "Commands completed successfully."
                    },
                    "metadata": {}
                },
                {
                    "output_type": "display_data",
                    "data": {
                        "text/html": "(1755 rows affected)"
                    },
                    "metadata": {}
                },
                {
                    "output_type": "display_data",
                    "data": {
                        "text/html": "(1 row affected)"
                    },
                    "metadata": {}
                },
                {
                    "output_type": "display_data",
                    "data": {
                        "text/html": "Total execution time: 00:00:00.240"
                    },
                    "metadata": {}
                }
            ],
            "execution_count": 26
        },
        {
            "cell_type": "markdown",
            "source": [
                "# Alter existing tables to have foreign key relationships\r\n",
                "\r\n",
                "- Add Foreign Keys referencing `[DbSecurity].[UserAuthorization]`\r\n",
                "- Add Foreign Key for Department-Instructor relationship`\r\n",
                "    - We assume `Instructor(DepartmentID)` references `Department(DepartmentID)`\r\n",
                "- Add Foreign Key for `[Location]` tables relationship\r\n",
                "    - `RoomLocation(BuildingLocationID)` references `BuildingLocation(BuildingLocationID)`"
            ],
            "metadata": {
                "language": "sql",
                "azdata_cell_guid": "f9a137f5-f516-4d58-9d05-6422418f3f70"
            },
            "attachments": {}
        },
        {
            "cell_type": "code",
            "source": [
                "-- ================================================================\r\n",
                "-- Author:\t\t< Daniel Gargiullo, Oksana Weigand-Suminski >\r\n",
                "-- Create date: < 12/6/2024 >\r\n",
                "-- Description:\t< Create foreign key relationships >\r\n",
                "-- ================================================================\r\n",
                "\r\n",
                "USE [QueensClassSchedule];\r\n",
                "GO\r\n",
                "\r\n",
                "ALTER TABLE [Course].[Class]\r\n",
                "ADD CONSTRAINT FK_Class_UserAuthorization FOREIGN KEY (UserAuthorizationKey)\r\n",
                "REFERENCES [DbSecurity].[UserAuthorization](UserAuthorizationKey);\r\n",
                "\r\n",
                "ALTER TABLE [Course].[Course]\r\n",
                "ADD CONSTRAINT FK_Course_UserAuthorization FOREIGN KEY (UserAuthorizationKey)\r\n",
                "REFERENCES [DbSecurity].[UserAuthorization](UserAuthorizationKey);\r\n",
                "\r\n",
                "ALTER TABLE [Course].[ModeOfInstruction]\r\n",
                "ADD CONSTRAINT FK_ModeOfInstruction_UserAuthorization FOREIGN KEY (UserAuthorizationKey)\r\n",
                "REFERENCES [DbSecurity].[UserAuthorization](UserAuthorizationKey);\r\n",
                "\r\n",
                "ALTER TABLE [Department].[Department]\r\n",
                "ADD CONSTRAINT FK_Department_UserAuthorization FOREIGN KEY (UserAuthorizationKey)\r\n",
                "REFERENCES [DbSecurity].[UserAuthorization](UserAuthorizationKey);\r\n",
                "\r\n",
                "ALTER TABLE [Department].[Instructor]\r\n",
                "ADD CONSTRAINT FK_Instructor_UserAuthorization FOREIGN KEY (UserAuthorizationKey)\r\n",
                "REFERENCES [DbSecurity].[UserAuthorization](UserAuthorizationKey);\r\n",
                "\r\n",
                "ALTER TABLE [Location].[BuildingLocation]\r\n",
                "ADD CONSTRAINT FK_BuildingLocation_UserAuthorization FOREIGN KEY (UserAuthorizationKey)\r\n",
                "REFERENCES [DbSecurity].[UserAuthorization](UserAuthorizationKey);\r\n",
                "\r\n",
                "ALTER TABLE [Location].[RoomLocation]\r\n",
                "ADD CONSTRAINT FK_RoomLocation_UserAuthorization FOREIGN KEY (UserAuthorizationKey)\r\n",
                "REFERENCES [DbSecurity].[UserAuthorization](UserAuthorizationKey);\r\n",
                "\r\n",
                "ALTER TABLE [Process].[WorkFlowSteps]\r\n",
                "ADD CONSTRAINT FK_WorkFlowSteps_UserAuthorization FOREIGN KEY (UserAuthorizationKey)\r\n",
                "REFERENCES [DbSecurity].[UserAuthorization](UserAuthorizationKey);\r\n",
                "\r\n",
                "ALTER TABLE [Department].[Instructor]\r\n",
                "ADD CONSTRAINT FK_Instructor_Department FOREIGN KEY (DepartmentID)\r\n",
                "REFERENCES [Department].[Department](DepartmentID);\r\n",
                "\r\n",
                "ALTER TABLE [Location].[RoomLocation]\r\n",
                "ADD CONSTRAINT FK_RoomLocation_BuildingLocation FOREIGN KEY (BuildingLocationID)\r\n",
                "REFERENCES [Location].[BuildingLocation](BuildingLocationID);"
            ],
            "metadata": {
                "azdata_cell_guid": "cc25c394-f810-45ce-b3eb-aa75c259493e",
                "language": "sql",
                "tags": []
            },
            "outputs": [
                {
                    "output_type": "display_data",
                    "data": {
                        "text/html": "Commands completed successfully."
                    },
                    "metadata": {}
                },
                {
                    "output_type": "display_data",
                    "data": {
                        "text/html": "Commands completed successfully."
                    },
                    "metadata": {}
                },
                {
                    "output_type": "display_data",
                    "data": {
                        "text/html": "Total execution time: 00:00:00.079"
                    },
                    "metadata": {}
                }
            ],
            "execution_count": 27
        },
        {
            "cell_type": "markdown",
            "source": [
                "# Create Bridge Table `[Course].[CourseInstructor]`"
            ],
            "metadata": {
                "language": "sql",
                "azdata_cell_guid": "d6bf342e-c239-4d4a-9ddb-f0f48f554e09"
            },
            "attachments": {}
        },
        {
            "cell_type": "code",
            "source": [
                "-- ================================================================\r\n",
                "-- Author:\t\t< Daniel Gargiullo, Oksana Weigand-Suminski >\r\n",
                "-- Create date: < 12/7/2024 >\r\n",
                "-- Description:\t< Create the `[Course].[CourseInstructor]` table, which is a bridge between `[Course].[Course]` and `[Department].[Instructor]` >\r\n",
                "-- ================================================================\r\n",
                "\r\n",
                "USE [QueensClassSchedule];\r\n",
                "GO\r\n",
                "\r\n",
                "CREATE TABLE [Course].[CourseInstructor]   (\r\n",
                "    [CourseInstructorID]          [Udt].[SurrogateKeyInt] IDENTITY(1,1)   NOT NULL\r\n",
                "        PRIMARY KEY CLUSTERED,\r\n",
                "    [CourseID]              [Udt].[SurrogateKeyInt]                 NOT NULL,\r\n",
                "    [InstructorID]          [Udt].[SurrogateKeyInt]                 NOT NULL,\r\n",
                "    -- Required fields:\r\n",
                "    [UserAuthorizationKey]  [Udt].[SurrogateKeyInt]                     NULL,\r\n",
                "    [DateAdded]             [Udt].[DateAdded]                           NULL,\r\n",
                "    [DateOfLastUpdate]      [Udt].[DateAdded]                           NULL\r\n",
                ")\r\n",
                "GO\r\n",
                "\r\n",
                "-- Add foreign keys to enforce referential integrity\r\n",
                "ALTER TABLE [Course].[CourseInstructor]\r\n",
                "ADD CONSTRAINT FK_CourseInstructor_Course FOREIGN KEY (CourseID)\r\n",
                "    REFERENCES [Course].[Course](CourseID);\r\n",
                "\r\n",
                "ALTER TABLE [Course].[CourseInstructor]\r\n",
                "ADD CONSTRAINT FK_CourseInstructor_Instructor FOREIGN KEY (InstructorID)\r\n",
                "    REFERENCES [Department].[Instructor](InstructorID);\r\n",
                "\r\n",
                "ALTER TABLE [Course].[CourseInstructor]\r\n",
                "ADD CONSTRAINT FK_CourseInstructor_UserAuthorization FOREIGN KEY (UserAuthorizationKey)\r\n",
                "    REFERENCES [DbSecurity].[UserAuthorization](UserAuthorizationKey);\r\n",
                ""
            ],
            "metadata": {
                "azdata_cell_guid": "a7804b08-912b-4625-b61f-a152f288484c",
                "language": "sql",
                "tags": []
            },
            "outputs": [
                {
                    "output_type": "display_data",
                    "data": {
                        "text/html": "Commands completed successfully."
                    },
                    "metadata": {}
                },
                {
                    "output_type": "display_data",
                    "data": {
                        "text/html": "Commands completed successfully."
                    },
                    "metadata": {}
                },
                {
                    "output_type": "display_data",
                    "data": {
                        "text/html": "Commands completed successfully."
                    },
                    "metadata": {}
                },
                {
                    "output_type": "display_data",
                    "data": {
                        "text/html": "Total execution time: 00:00:00.016"
                    },
                    "metadata": {}
                }
            ],
            "execution_count": 28
        },
        {
            "cell_type": "markdown",
            "source": [
                "# Create and execute Stored Procedure for loading `[Course].[CourseInstructor]`"
            ],
            "metadata": {
                "language": "sql",
                "azdata_cell_guid": "738cae02-7f77-4e31-a18f-7951382c3bda"
            },
            "attachments": {}
        },
        {
            "cell_type": "code",
            "source": [
                "-- ================================================================\r\n",
                "-- Author:\t\t< Daniel Gargiullo, Oksana Weigand-Suminski >\r\n",
                "-- Create date: < 12/7/2024 >\r\n",
                "-- Description:\t< Create the `[Process].[usp_TrackWorkFlowSteps]` procedure >\r\n",
                "-- ================================================================\r\n",
                "\r\n",
                "USE [QueensClassSchedule];\r\n",
                "GO\r\n",
                "\r\n",
                "CREATE PROCEDURE [Course].[usp_LoadCourseInstructorTable]\r\n",
                "    @UserAuthorizationKey INT\r\n",
                "AS\r\n",
                "BEGIN\r\n",
                "\r\n",
                "    INSERT INTO [Course].[CourseInstructor]\r\n",
                "    (\r\n",
                "        CourseID,\r\n",
                "        InstructorID,\r\n",
                "        UserAuthorizationKey,\r\n",
                "        DateAdded,\r\n",
                "        DateOfLastUpdate\r\n",
                "    )\r\n",
                "    SELECT DISTINCT \r\n",
                "        crs.CourseID,\r\n",
                "        inst.InstructorID,\r\n",
                "        @UserAuthorizationKey,\r\n",
                "        SYSUTCDATETIME() AS DateAdded,\r\n",
                "        SYSUTCDATETIME() AS DateOfLastUpdate\r\n",
                "    FROM [Uploadfile].[CurrentSemesterCourseOfferings] cso\r\n",
                "    INNER JOIN [Course].[Course] crs \r\n",
                "        ON crs.[Course] = LTRIM(RTRIM(SUBSTRING(cso.[Course (hr, crd)], 1, CHARINDEX('(', cso.[Course (hr, crd)]) - 1)))\r\n",
                "        AND crs.[Section] = cso.[Sec]\r\n",
                "        AND crs.[Semester] = cso.[Semester]\r\n",
                "    INNER JOIN [Department].[Instructor] inst \r\n",
                "        ON inst.LastName = SUBSTRING(cso.[Instructor], 1, CHARINDEX(',', cso.[Instructor]) - 1)\r\n",
                "        AND inst.FirstName = LTRIM(SUBSTRING(cso.[Instructor], CHARINDEX(',', cso.[Instructor]) + 1, LEN(cso.[Instructor]) - CHARINDEX(',', cso.[Instructor])));\r\n",
                "    EXEC [Process].[usp_TrackWorkFlow]\r\n",
                "        @UserAuthorizationKey = @UserAuthorizationKey,\r\n",
                "        @WorkFlowStepsDescription = 'Loading data into CourseInstructor bridge table',\r\n",
                "        @WorkFlowStepsTableRowCount = @@ROWCOUNT;\r\n",
                "END;\r\n",
                "GO\r\n",
                "\r\n",
                "EXEC    [Course].[usp_LoadCourseInstructorTable]      @UserAuthorizationKey = 2\r\n",
                "GO"
            ],
            "metadata": {
                "language": "sql",
                "azdata_cell_guid": "685a0ae6-f6b2-492b-b347-1b7be678cf1d",
                "tags": []
            },
            "outputs": [
                {
                    "output_type": "display_data",
                    "data": {
                        "text/html": "Commands completed successfully."
                    },
                    "metadata": {}
                },
                {
                    "output_type": "display_data",
                    "data": {
                        "text/html": "Commands completed successfully."
                    },
                    "metadata": {}
                },
                {
                    "output_type": "display_data",
                    "data": {
                        "text/html": "(4424 rows affected)"
                    },
                    "metadata": {}
                },
                {
                    "output_type": "display_data",
                    "data": {
                        "text/html": "(1 row affected)"
                    },
                    "metadata": {}
                },
                {
                    "output_type": "display_data",
                    "data": {
                        "text/html": "Total execution time: 00:00:00.072"
                    },
                    "metadata": {}
                }
            ],
            "execution_count": 29
        },
        {
            "cell_type": "markdown",
            "source": [
                "# Create Bridge Table `[Course].[ClassRoom]`\r\n",
                "\r\n",
                "### Load the `[Course].[ClassRoom]` table by creating and executing the `[Course].[usp_LoadClassRoomTable]` stored procedure"
            ],
            "metadata": {
                "language": "sql",
                "azdata_cell_guid": "dfb96e02-293e-4b21-a299-cb741124ee6f"
            },
            "attachments": {}
        },
        {
            "cell_type": "code",
            "source": [
                "-- ================================================================\r\n",
                "-- Author:\t\t< Daniel Gargiullo, Oksana Weigand-Suminski , Carlos Vega>\r\n",
                "-- Create date: < 12/7/2024 >\r\n",
                "-- Description:\t< Create the `[Course].[ClassRoom]` table, which is a bridge between `[Course].[Class]` and `[Location].[RoomLocation]` >\r\n",
                "-- ================================================================\r\n",
                "\r\n",
                "USE [QueensClassSchedule];\r\n",
                "GO\r\n",
                "\r\n",
                "-- Create the ClassRoom bridge table.\r\n",
                "CREATE TABLE [Course].[ClassRoom](\r\n",
                "    [ClassRoomID] [Udt].[SurrogateKeyInt] IDENTITY(1,1) NOT NULL,\r\n",
                "    [ClassID] [Udt].[SurrogateKeyInt] NOT NULL,\r\n",
                "    [RoomLocationID] [Udt].[SurrogateKeyInt] NOT NULL,\r\n",
                "    [UserAuthorizationKey] [Udt].[SurrogateKeyInt] NULL,\r\n",
                "    [DateAdded] [Udt].[DateAdded] NULL,\r\n",
                "    [DateOfLastUpdate] [Udt].[DateAdded] NULL,\r\n",
                "    CONSTRAINT [PK_ClassRoom] PRIMARY KEY CLUSTERED ([ClassRoomID] ASC)\r\n",
                "        WITH (PAD_INDEX = OFF, STATISTICS_NORECOMPUTE = OFF, \r\n",
                "              IGNORE_DUP_KEY = OFF, ALLOW_ROW_LOCKS = ON, \r\n",
                "              ALLOW_PAGE_LOCKS = ON, OPTIMIZE_FOR_SEQUENTIAL_KEY = OFF) ON [PRIMARY]\r\n",
                ") ON [PRIMARY];\r\n",
                "GO\r\n",
                "\r\n",
                "-- Set default values for DateAdded and DateOfLastUpdate\r\n",
                "ALTER TABLE [Course].[ClassRoom]\r\n",
                "    ADD CONSTRAINT [DF_ClassRoom_DateAdded] \r\n",
                "    DEFAULT (sysdatetime()) FOR [DateAdded];\r\n",
                "GO\r\n",
                "\r\n",
                "ALTER TABLE [Course].[ClassRoom]\r\n",
                "    ADD CONSTRAINT [DF_ClassRoom_DateOfLastUpdate] \r\n",
                "    DEFAULT (sysdatetime()) FOR [DateOfLastUpdate];\r\n",
                "GO\r\n",
                "\r\n",
                "-- Add foreign key constraints\r\n",
                "ALTER TABLE [Course].[ClassRoom] WITH CHECK \r\n",
                "ADD CONSTRAINT [FK_ClassRoom_Class] \r\n",
                "FOREIGN KEY([ClassID])\r\n",
                "REFERENCES [Course].[Class]([ClassID]);\r\n",
                "GO\r\n",
                "ALTER TABLE [Course].[ClassRoom] CHECK CONSTRAINT [FK_ClassRoom_Class];\r\n",
                "GO\r\n",
                "\r\n",
                "ALTER TABLE [Course].[ClassRoom] WITH CHECK \r\n",
                "ADD CONSTRAINT [FK_ClassRoom_RoomLocation] \r\n",
                "FOREIGN KEY([RoomLocationID])\r\n",
                "REFERENCES [Location].[RoomLocation]([RoomLocationID]);\r\n",
                "GO\r\n",
                "ALTER TABLE [Course].[ClassRoom] CHECK CONSTRAINT [FK_ClassRoom_RoomLocation];\r\n",
                "GO\r\n",
                "\r\n",
                "-- Optional: Tie UserAuthorizationKey to UserAuthorization table for auditing consistency\r\n",
                "ALTER TABLE [Course].[ClassRoom] WITH CHECK \r\n",
                "ADD CONSTRAINT [FK_ClassRoom_UserAuthorization]\r\n",
                "FOREIGN KEY([UserAuthorizationKey])\r\n",
                "REFERENCES [DbSecurity].[UserAuthorization]([UserAuthorizationKey]);\r\n",
                "GO\r\n",
                "ALTER TABLE [Course].[ClassRoom] CHECK CONSTRAINT [FK_ClassRoom_UserAuthorization];\r\n",
                "GO\r\n",
                "\r\n",
                "\r\n",
                "-- Create a stored procedure to populate the ClassRoom table\r\n",
                "SET ANSI_NULLS ON\r\n",
                "GO\r\n",
                "SET QUOTED_IDENTIFIER ON\r\n",
                "GO\r\n",
                "\r\n",
                "CREATE PROCEDURE [Course].[usp_LoadClassRoomTable]\r\n",
                "    @UserAuthorizationKey INT\r\n",
                "AS\r\n",
                "BEGIN\r\n",
                "    SET NOCOUNT ON;\r\n",
                "\r\n",
                "    -- Insert the bridging records by matching Classes and RoomLocations based on Day and Time\r\n",
                "    -- Class time = ClassStart + '-' + ClassEnd\r\n",
                "    INSERT INTO [Course].[ClassRoom]\r\n",
                "    (\r\n",
                "        [ClassID],\r\n",
                "        [RoomLocationID],\r\n",
                "        [UserAuthorizationKey],\r\n",
                "        [DateAdded],\r\n",
                "        [DateOfLastUpdate]\r\n",
                "    )\r\n",
                "    SELECT\r\n",
                "        cls.ClassID,\r\n",
                "        rl.RoomLocationID,\r\n",
                "        @UserAuthorizationKey,\r\n",
                "        SYSDATETIME(),\r\n",
                "        SYSDATETIME()\r\n",
                "    FROM [Course].[Class] cls\r\n",
                "    INNER JOIN [Location].[RoomLocation] rl\r\n",
                "        ON cls.Days = rl.Day\r\n",
                "        AND (cls.ClassStart + '-' + cls.ClassEnd) = rl.Time;\r\n",
                "\r\n",
                "    -- Log the workflow step\r\n",
                "    EXEC [Process].[usp_TrackWorkFlow]\r\n",
                "        @UserAuthorizationKey = @UserAuthorizationKey,\r\n",
                "        @WorkFlowStepsDescription = 'Loading data into ClassRoom bridge table',\r\n",
                "        @WorkFlowStepsTableRowCount = @@ROWCOUNT;\r\n",
                "END;\r\n",
                "GO\r\n",
                "\r\n",
                "EXEC    [Course].[usp_LoadClassRoomTable]      @UserAuthorizationKey = 5\r\n",
                "GO"
            ],
            "metadata": {
                "language": "sql",
                "azdata_cell_guid": "bca19204-e6de-4641-8f72-1b92b0cfcd35"
            },
            "outputs": [
                {
                    "output_type": "display_data",
                    "data": {
                        "text/html": "Commands completed successfully."
                    },
                    "metadata": {}
                },
                {
                    "output_type": "display_data",
                    "data": {
                        "text/html": "Commands completed successfully."
                    },
                    "metadata": {}
                },
                {
                    "output_type": "display_data",
                    "data": {
                        "text/html": "Commands completed successfully."
                    },
                    "metadata": {}
                },
                {
                    "output_type": "display_data",
                    "data": {
                        "text/html": "Commands completed successfully."
                    },
                    "metadata": {}
                },
                {
                    "output_type": "display_data",
                    "data": {
                        "text/html": "Commands completed successfully."
                    },
                    "metadata": {}
                },
                {
                    "output_type": "display_data",
                    "data": {
                        "text/html": "Commands completed successfully."
                    },
                    "metadata": {}
                },
                {
                    "output_type": "display_data",
                    "data": {
                        "text/html": "Commands completed successfully."
                    },
                    "metadata": {}
                },
                {
                    "output_type": "display_data",
                    "data": {
                        "text/html": "Commands completed successfully."
                    },
                    "metadata": {}
                },
                {
                    "output_type": "display_data",
                    "data": {
                        "text/html": "Commands completed successfully."
                    },
                    "metadata": {}
                },
                {
                    "output_type": "display_data",
                    "data": {
                        "text/html": "Commands completed successfully."
                    },
                    "metadata": {}
                },
                {
                    "output_type": "display_data",
                    "data": {
                        "text/html": "Commands completed successfully."
                    },
                    "metadata": {}
                },
                {
                    "output_type": "display_data",
                    "data": {
                        "text/html": "Commands completed successfully."
                    },
                    "metadata": {}
                },
                {
                    "output_type": "display_data",
                    "data": {
                        "text/html": "Commands completed successfully."
                    },
                    "metadata": {}
                },
                {
                    "output_type": "display_data",
                    "data": {
                        "text/html": "Total execution time: 00:00:00.041"
                    },
                    "metadata": {}
                }
            ],
            "execution_count": 30
        }
    ]
}