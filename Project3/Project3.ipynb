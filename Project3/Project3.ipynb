{
    "metadata": {
        "kernelspec": {
            "name": "SQL",
            "display_name": "SQL",
            "language": "sql"
        },
        "language_info": {
            "name": "sql",
            "version": ""
        }
    },
    "nbformat_minor": 2,
    "nbformat": 4,
    "cells": [
        {
            "cell_type": "markdown",
            "source": [
                "# Create Tables"
            ],
            "metadata": {
                "azdata_cell_guid": "3914b4f8-05f9-42e9-8370-c6b8094ecae5"
            },
            "attachments": {}
        },
        {
            "cell_type": "code",
            "source": [
                "--Jascharan Singh\r\n",
                "\r\n",
                "USE QueensClassSchedule\r\n",
                "GO\r\n",
                "-- Create the Department table\r\n",
                "CREATE TABLE Department (\r\n",
                "    DepartmentID INT IDENTITY(1,1) PRIMARY KEY,\r\n",
                "    DepartmentName NVARCHAR(100) NOT NULL,\r\n",
                "    CreatedDate DATETIME DEFAULT (SYSDATETIME())\r\n",
                ");\r\n",
                "\r\n",
                "-- Create the Instructor table\r\n",
                "CREATE TABLE Instructor (\r\n",
                "    InstructorID INT IDENTITY(1,1) PRIMARY KEY,\r\n",
                "    FirstName NVARCHAR(50) NOT NULL,\r\n",
                "    LastName NVARCHAR(50) NOT NULL,\r\n",
                "    DepartmentID INT NOT NULL,\r\n",
                "    FOREIGN KEY (DepartmentID) REFERENCES Department(DepartmentID)\r\n",
                ");\r\n",
                "\r\n",
                "-- Create the Course table\r\n",
                "CREATE TABLE Course (\r\n",
                "    CourseID INT IDENTITY(1,1) PRIMARY KEY,\r\n",
                "    CourseName NVARCHAR(100) NOT NULL,\r\n",
                "    Credits INT NOT NULL\r\n",
                ");\r\n",
                "\r\n",
                "-- Create the Class table\r\n",
                "CREATE TABLE Class (\r\n",
                "    ClassID INT IDENTITY(1,1) PRIMARY KEY,\r\n",
                "    CourseID INT NOT NULL,\r\n",
                "    InstructorID INT NOT NULL,\r\n",
                "    Time CHAR(5) DEFAULT '09:15',\r\n",
                "    Location NVARCHAR(100),\r\n",
                "    Enrolled INT DEFAULT 0,\r\n",
                "    Limit INT DEFAULT 30,\r\n",
                "    FOREIGN KEY (CourseID) REFERENCES Course(CourseID),\r\n",
                "    FOREIGN KEY (InstructorID) REFERENCES Instructor(InstructorID)\r\n",
                ");\r\n",
                "\r\n",
                "-- Create the Building table\r\n",
                "CREATE TABLE Building (\r\n",
                "    BuildingID INT IDENTITY(1,1) PRIMARY KEY,\r\n",
                "    BuildingName NVARCHAR(100) NOT NULL,\r\n",
                "    Address NVARCHAR(200)\r\n",
                ");\r\n",
                "\r\n",
                "-- Create the Room table\r\n",
                "CREATE TABLE Room (\r\n",
                "    RoomID INT IDENTITY(1,1) PRIMARY KEY,\r\n",
                "    BuildingID INT NOT NULL,\r\n",
                "    RoomNumber NVARCHAR(50) NOT NULL,\r\n",
                "    Capacity INT DEFAULT 30,\r\n",
                "    FOREIGN KEY (BuildingID) REFERENCES Building(BuildingID)\r\n",
                ");\r\n",
                "\r\n",
                "-- Create the Mode of Instruction table\r\n",
                "CREATE TABLE ModeOfInstruction (\r\n",
                "    ModeID INT IDENTITY(1,1) PRIMARY KEY,\r\n",
                "    ModeDescription NVARCHAR(50) NOT NULL\r\n",
                ");\r\n",
                "\r\n",
                "-- Create the WorkflowSteps table\r\n",
                "CREATE TABLE WorkflowSteps (\r\n",
                "    WorkFlowStepKey INT IDENTITY(1,1) PRIMARY KEY,\r\n",
                "    WorkFlowStepDescription NVARCHAR(100) NOT NULL,\r\n",
                "    WorkFlowStepTableRowCount INT DEFAULT 0,\r\n",
                "    StartingDateTime DATETIME2 DEFAULT (SYSDATETIME()),\r\n",
                "    EndingDateTime DATETIME2 DEFAULT (SYSDATETIME())\r\n",
                ");"
            ],
            "metadata": {
                "azdata_cell_guid": "3dd3c272-943f-4cc9-8308-19869a86d579",
                "language": "sql",
                "tags": []
            },
            "outputs": [
                {
                    "output_type": "display_data",
                    "data": {
                        "text/html": "Commands completed successfully."
                    },
                    "metadata": {}
                },
                {
                    "output_type": "error",
                    "ename": "",
                    "evalue": "Msg 2714, Level 16, State 6, Line 6\nThere is already an object named 'Department' in the database.",
                    "traceback": []
                },
                {
                    "output_type": "display_data",
                    "data": {
                        "text/html": "Total execution time: 00:00:00.013"
                    },
                    "metadata": {}
                }
            ],
            "execution_count": 3
        },
        {
            "cell_type": "markdown",
            "source": [
                "# Create Procedures:\r\n",
                "- `usp_TrackWorkFlow`: Track Workflow\r\n",
                "- `usp_ShowWorkflowSteps`: Show Workflow Steps\r\n",
                "- `LoadQueensCourseSchedule`: Load data into Class table"
            ],
            "metadata": {
                "azdata_cell_guid": "be698076-f2ff-4269-992c-e3063dc1fbde"
            },
            "attachments": {}
        },
        {
            "cell_type": "code",
            "source": [
                "-- Daniel Gargiullo\r\n",
                "\r\n",
                "USE QueensClassSchedule\r\n",
                "GO\r\n",
                "-- Procedure to track workflow steps\r\n",
                "CREATE PROCEDURE usp_TrackWorkFlow\r\n",
                "    @WorkFlowStepDescription NVARCHAR(100),\r\n",
                "    @RowCount INT\r\n",
                "AS\r\n",
                "BEGIN\r\n",
                "    INSERT INTO WorkflowSteps (WorkFlowStepDescription, WorkFlowStepTableRowCount, StartingDateTime)\r\n",
                "    VALUES (@WorkFlowStepDescription, @RowCount, SYSDATETIME());\r\n",
                "END;\r\n",
                "GO\r\n",
                "\r\n",
                "-- Procedure to show all workflow steps\r\n",
                "CREATE PROCEDURE usp_ShowWorkflowSteps\r\n",
                "AS\r\n",
                "BEGIN\r\n",
                "    SELECT * FROM WorkflowSteps;\r\n",
                "END;\r\n",
                "GO\r\n",
                "\r\n",
                "-- Procedure to load data into the Class table\r\n",
                "CREATE PROCEDURE LoadQueensCourseSchedule\r\n",
                "AS\r\n",
                "BEGIN\r\n",
                "    INSERT INTO Class (CourseID, InstructorID, Time, Location, Enrolled, Limit)\r\n",
                "    SELECT DISTINCT \r\n",
                "        c.CourseID, \r\n",
                "        i.InstructorID, \r\n",
                "        '09:15' AS DefaultTime,\r\n",
                "        'Room 101' AS DefaultLocation,\r\n",
                "        20 AS DefaultEnrolled,\r\n",
                "        30 AS DefaultLimit\r\n",
                "    FROM Course c\r\n",
                "    CROSS JOIN Instructor i;\r\n",
                "END;\r\n",
                "GO"
            ],
            "metadata": {
                "azdata_cell_guid": "2c7ac7c3-8133-484d-b1af-ab7ad0c36098",
                "language": "sql"
            },
            "outputs": [
                {
                    "output_type": "display_data",
                    "data": {
                        "text/html": "Commands completed successfully."
                    },
                    "metadata": {}
                },
                {
                    "output_type": "display_data",
                    "data": {
                        "text/html": "Commands completed successfully."
                    },
                    "metadata": {}
                },
                {
                    "output_type": "display_data",
                    "data": {
                        "text/html": "Commands completed successfully."
                    },
                    "metadata": {}
                },
                {
                    "output_type": "display_data",
                    "data": {
                        "text/html": "Commands completed successfully."
                    },
                    "metadata": {}
                },
                {
                    "output_type": "display_data",
                    "data": {
                        "text/html": "Total execution time: 00:00:00.016"
                    },
                    "metadata": {}
                }
            ],
            "execution_count": 2
        },
        {
            "cell_type": "markdown",
            "source": [
                "# Create Procedures:\n",
                "- `TruncateTables`: Procedure to truncate all tables\n",
                "- `AddForeignKeys`: Add foreign key constraints\n",
                "- `RemoveForeignKeys`: Remove foreign key constraints\n",
                "- `WorkflowSummary`: Summary workflow report"
            ],
            "metadata": {
                "azdata_cell_guid": "96b04de5-421b-4471-ab7b-069a0de48fb4"
            },
            "attachments": {}
        },
        {
            "cell_type": "code",
            "source": [
                "-- Oksana Weigand-Suminski\n",
                "-- Procedure to truncate all tables (for data reloading)\n",
                "CREATE PROCEDURE TruncateTables\n",
                "AS\n",
                "BEGIN\n",
                "    TRUNCATE TABLE Class;\n",
                "    TRUNCATE TABLE Course;\n",
                "    TRUNCATE TABLE Instructor;\n",
                "    TRUNCATE TABLE Department;\n",
                "    TRUNCATE TABLE Building;\n",
                "    TRUNCATE TABLE Room;\n",
                "    TRUNCATE TABLE ModeOfInstruction;\n",
                "    DELETE FROM WorkflowSteps;\n",
                "END;\n",
                "GO\n",
                "\n",
                "-- Procedure to add foreign key constraints\n",
                "CREATE PROCEDURE AddForeignKeys\n",
                "AS\n",
                "BEGIN\n",
                "    ALTER TABLE Instructor\n",
                "    ADD CONSTRAINT FK_Instructor_Department FOREIGN KEY (DepartmentID) REFERENCES Department(DepartmentID);\n",
                "\n",
                "    ALTER TABLE Class\n",
                "    ADD CONSTRAINT FK_Class_Course FOREIGN KEY (CourseID) REFERENCES Course(CourseID),\n",
                "        CONSTRAINT FK_Class_Instructor FOREIGN KEY (InstructorID) REFERENCES Instructor(InstructorID);\n",
                "\n",
                "    ALTER TABLE Room\n",
                "    ADD CONSTRAINT FK_Room_Building FOREIGN KEY (BuildingID) REFERENCES Building(BuildingID);\n",
                "END;\n",
                "GO\n",
                "\n",
                "-- Procedure to remove foreign key constraints\n",
                "CREATE PROCEDURE RemoveForeignKeys\n",
                "AS\n",
                "BEGIN\n",
                "    -- Remove Foreign Key from Instructor to Department\n",
                "    ALTER TABLE Instructor DROP CONSTRAINT FK_Instructor_Department;\n",
                "\n",
                "    -- Remove Foreign Keys from Class\n",
                "    ALTER TABLE Class DROP CONSTRAINT FK_Class_Course;\n",
                "    ALTER TABLE Class DROP CONSTRAINT FK_Class_Instructor;\n",
                "\n",
                "    -- Remove Foreign Key from Room to Building\n",
                "    ALTER TABLE Room DROP CONSTRAINT FK_Room_Building;\n",
                "END;\n",
                "GO\n",
                "\n",
                "-- Procedure to perform a summary workflow report\n",
                "CREATE PROCEDURE WorkflowSummary\n",
                "AS\n",
                "BEGIN\n",
                "    SELECT \n",
                "        WorkFlowStepDescription,\n",
                "        WorkFlowStepTableRowCount,\n",
                "        StartingDateTime,\n",
                "        EndingDateTime\n",
                "    FROM WorkflowSteps\n",
                "    ORDER BY StartingDateTime;\n",
                "END;\n",
                "GO"
            ],
            "metadata": {
                "azdata_cell_guid": "04571811-70a8-4741-ab16-aa3f69977781",
                "language": "sql"
            },
            "outputs": [
                {
                    "output_type": "display_data",
                    "data": {
                        "text/html": "Commands completed successfully."
                    },
                    "metadata": {}
                },
                {
                    "output_type": "display_data",
                    "data": {
                        "text/html": "Commands completed successfully."
                    },
                    "metadata": {}
                },
                {
                    "output_type": "display_data",
                    "data": {
                        "text/html": "Commands completed successfully."
                    },
                    "metadata": {}
                },
                {
                    "output_type": "display_data",
                    "data": {
                        "text/html": "Commands completed successfully."
                    },
                    "metadata": {}
                },
                {
                    "output_type": "display_data",
                    "data": {
                        "text/html": "Total execution time: 00:00:00.116"
                    },
                    "metadata": {}
                }
            ],
            "execution_count": 1
        }
    ]
}