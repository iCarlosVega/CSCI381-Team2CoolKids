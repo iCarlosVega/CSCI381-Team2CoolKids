{
    "metadata": {
        "kernelspec": {
            "name": "SQL",
            "display_name": "SQL",
            "language": "sql"
        },
        "language_info": {
            "name": "sql",
            "version": ""
        }
    },
    "nbformat_minor": 2,
    "nbformat": 4,
    "cells": [
        {
            "cell_type": "markdown",
            "source": [
                "# Create a View of Source Table `[Uploadfile].[CurrentSemesterCourseOfferings]`\r\n",
                ""
            ],
            "metadata": {
                "language": "sql",
                "azdata_cell_guid": "9e39b501-3177-4418-a6c8-6a2b05850476"
            },
            "attachments": {}
        },
        {
            "cell_type": "code",
            "source": [
                "-- =============================================\r\n",
                "-- Author:\t\t< Daniel Gargiullo, Oksana Weigand-Suminski >\r\n",
                "-- Create date: < 12/4/2024 >\r\n",
                "-- Description:\t< Create View `[Uploadfile].[vw_CurrentSemesterCourseOfferings]` from source table `[Uploadfile].[CurrentSemesterCourseOfferings]`. \r\n",
                "--                ChatGPT 4o assisted >\r\n",
                "-- =============================================\r\n",
                "\r\n",
                "USE QueensClassSchedule\r\n",
                "GO\r\n",
                "\r\n",
                "CREATE VIEW [Uploadfile].[vw_CurrentSemesterCourseOfferings] AS\r\n",
                "SELECT\r\n",
                "    [Semester],\r\n",
                "    [Sec],\r\n",
                "    [Code],\r\n",
                "    [Course (hr, crd)] AS OriginalCourseColumn,\r\n",
                "    -- Extract CourseName (text before the first '(')\r\n",
                "    LTRIM(RTRIM(LEFT([Course (hr, crd)], CHARINDEX('(', [Course (hr, crd)]) - 1))) AS CourseName,\r\n",
                "    -- Extract hr (number between '(' and ',')\r\n",
                "    LTRIM(RTRIM(SUBSTRING([Course (hr, crd)],\r\n",
                "        CHARINDEX('(', [Course (hr, crd)]) + 1,\r\n",
                "        CHARINDEX(',', [Course (hr, crd)]) - CHARINDEX('(', [Course (hr, crd)]) - 1))) AS hr,\r\n",
                "    -- Extract crd (number between ',' and ')')\r\n",
                "    LTRIM(RTRIM(SUBSTRING([Course (hr, crd)],\r\n",
                "        CHARINDEX(',', [Course (hr, crd)]) + 1,\r\n",
                "        CHARINDEX(')', [Course (hr, crd)]) - CHARINDEX(',', [Course (hr, crd)]) - 1))) AS crd,\r\n",
                "    [Description],\r\n",
                "    [Day],\r\n",
                "    [Time],\r\n",
                "    [Instructor],\r\n",
                "    [Location],\r\n",
                "    [Enrolled],\r\n",
                "    [Limit],\r\n",
                "    [Mode of Instruction]\r\n",
                "FROM\r\n",
                "    [Uploadfile].[CurrentSemesterCourseOfferings];\r\n",
                ""
            ],
            "metadata": {
                "azdata_cell_guid": "f13a080e-5348-4ea3-ad2a-744df350626d",
                "language": "sql",
                "tags": [
                    "hide_input"
                ]
            },
            "outputs": [
                {
                    "output_type": "display_data",
                    "data": {
                        "text/html": "Commands completed successfully."
                    },
                    "metadata": {}
                },
                {
                    "output_type": "display_data",
                    "data": {
                        "text/html": "Commands completed successfully."
                    },
                    "metadata": {}
                },
                {
                    "output_type": "display_data",
                    "data": {
                        "text/html": "Total execution time: 00:00:00.042"
                    },
                    "metadata": {}
                }
            ],
            "execution_count": 1
        },
        {
            "cell_type": "markdown",
            "source": [
                "# Create the required schemas and User-defined Data Types\r\n",
                "\r\n",
                "### Schemas being created:\r\n",
                "- `[Udt]`\r\n",
                "- `[DbSecurity]`\r\n",
                "- `[Course]`\r\n",
                "- `[Location]`\r\n",
                "- `[Department]`\r\n",
                "- `[Process]`\r\n",
                "- `[Project3]`"
            ],
            "metadata": {
                "azdata_cell_guid": "3914b4f8-05f9-42e9-8370-c6b8094ecae5"
            },
            "attachments": {}
        },
        {
            "cell_type": "code",
            "source": [
                "-- =============================================\r\n",
                "-- Author:\t\t< Daniel Gargiullo, Oksana Weigand-Suminski, Jascharan Singh, Sarmad Ali, Augusta Na, Carlos Vega >\r\n",
                "-- Create date: < 12/3/2024 >\r\n",
                "-- Description:\t< Create the required schemas and UDT's >\r\n",
                "-- =============================================\r\n",
                "\r\n",
                "USE QueensClassSchedule\r\n",
                "GO\r\n",
                "\r\n",
                "CREATE  SCHEMA  [Udt]\r\n",
                "GO\r\n",
                "\r\n",
                "CREATE  TYPE    [Udt].[SurrogateKeyInt]     FROM    [int]               NULL\r\n",
                "GO\r\n",
                "CREATE  TYPE    [Udt].[DateAdded]           FROM    Datetime2(7)    NOT NULL\r\n",
                "GO\r\n",
                "CREATE  TYPE    [Udt].[ClassTime]           FROM    NCHAR(5)        NOT NULL\r\n",
                "GO\r\n",
                "CREATE  TYPE    [Udt].[IndividualProject]   FROM    NVARCHAR(60)    NOT NULL\r\n",
                "GO\r\n",
                "CREATE  TYPE    [Udt].[LastName]            FROM    NVARCHAR(35)    NOT NULL\r\n",
                "GO\r\n",
                "CREATE  TYPE    [Udt].[FirstName]           FROM    NVARCHAR(20)    NOT NULL\r\n",
                "GO\r\n",
                "CREATE  TYPE    [Udt].[GroupName]           FROM    NVARCHAR(20)    NOT NULL\r\n",
                "GO\r\n",
                "CREATE  TYPE    [Udt].[String100]           FROM    NVARCHAR(100)   NOT NULL\r\n",
                "GO\r\n",
                "CREATE  TYPE    [Udt].[Rows]                FROM    [int]           NOT NULL\r\n",
                "GO\r\n",
                "CREATE  TYPE    [Udt].[String4]             FROM    NVARCHAR(4)         NULL\r\n",
                "GO\r\n",
                "CREATE  TYPE    [Udt].[String8]             FROM    NVARCHAR(8)         NULL\r\n",
                "GO\r\n",
                "CREATE  TYPE    [Udt].[String20]            FROM    NVARCHAR(20)        NULL\r\n",
                "GO\r\n",
                "CREATE  TYPE    [Udt].[String30]            FROM    NVARCHAR(30)    NOT NULL\r\n",
                "GO\r\n",
                "CREATE  TYPE    [Udt].[ClassLength]         FROM    NVARCHAR(30)    NOT NULL\r\n",
                "GO\r\n",
                "CREATE  TYPE    [Udt].[FloatField]          FROM    FLOAT           NOT NULL\r\n",
                "GO\r\n",
                "\r\n",
                "-- =============================================\r\n",
                "-- Author:\t\t< Daniel Gargiullo, Oksana Weigand-Suminski >\r\n",
                "-- Create date: < 12/4/2024 >\r\n",
                "-- Description:\t< Create the required schemas >\r\n",
                "-- =============================================\r\n",
                "\r\n",
                "USE QueensClassSchedule\r\n",
                "GO\r\n",
                "\r\n",
                "CREATE  SCHEMA  [DbSecurity]\r\n",
                "GO\r\n",
                "CREATE  SCHEMA  [Course]\r\n",
                "GO\r\n",
                "CREATE  SCHEMA  [Location]\r\n",
                "GO\r\n",
                "CREATE  SCHEMA  [Department]\r\n",
                "GO\r\n",
                "CREATE  SCHEMA  [Process]\r\n",
                "GO"
            ],
            "metadata": {
                "azdata_cell_guid": "3dd3c272-943f-4cc9-8308-19869a86d579",
                "language": "sql",
                "tags": [
                    "hide_input"
                ]
            },
            "outputs": [
                {
                    "output_type": "display_data",
                    "data": {
                        "text/html": "Commands completed successfully."
                    },
                    "metadata": {}
                },
                {
                    "output_type": "display_data",
                    "data": {
                        "text/html": "Commands completed successfully."
                    },
                    "metadata": {}
                },
                {
                    "output_type": "display_data",
                    "data": {
                        "text/html": "Commands completed successfully."
                    },
                    "metadata": {}
                },
                {
                    "output_type": "display_data",
                    "data": {
                        "text/html": "Commands completed successfully."
                    },
                    "metadata": {}
                },
                {
                    "output_type": "display_data",
                    "data": {
                        "text/html": "Commands completed successfully."
                    },
                    "metadata": {}
                },
                {
                    "output_type": "display_data",
                    "data": {
                        "text/html": "Commands completed successfully."
                    },
                    "metadata": {}
                },
                {
                    "output_type": "display_data",
                    "data": {
                        "text/html": "Commands completed successfully."
                    },
                    "metadata": {}
                },
                {
                    "output_type": "display_data",
                    "data": {
                        "text/html": "Commands completed successfully."
                    },
                    "metadata": {}
                },
                {
                    "output_type": "display_data",
                    "data": {
                        "text/html": "Commands completed successfully."
                    },
                    "metadata": {}
                },
                {
                    "output_type": "display_data",
                    "data": {
                        "text/html": "Commands completed successfully."
                    },
                    "metadata": {}
                },
                {
                    "output_type": "display_data",
                    "data": {
                        "text/html": "Commands completed successfully."
                    },
                    "metadata": {}
                },
                {
                    "output_type": "display_data",
                    "data": {
                        "text/html": "Commands completed successfully."
                    },
                    "metadata": {}
                },
                {
                    "output_type": "display_data",
                    "data": {
                        "text/html": "Commands completed successfully."
                    },
                    "metadata": {}
                },
                {
                    "output_type": "display_data",
                    "data": {
                        "text/html": "Commands completed successfully."
                    },
                    "metadata": {}
                },
                {
                    "output_type": "display_data",
                    "data": {
                        "text/html": "Commands completed successfully."
                    },
                    "metadata": {}
                },
                {
                    "output_type": "display_data",
                    "data": {
                        "text/html": "Commands completed successfully."
                    },
                    "metadata": {}
                },
                {
                    "output_type": "display_data",
                    "data": {
                        "text/html": "Commands completed successfully."
                    },
                    "metadata": {}
                },
                {
                    "output_type": "display_data",
                    "data": {
                        "text/html": "Commands completed successfully."
                    },
                    "metadata": {}
                },
                {
                    "output_type": "display_data",
                    "data": {
                        "text/html": "Commands completed successfully."
                    },
                    "metadata": {}
                },
                {
                    "output_type": "display_data",
                    "data": {
                        "text/html": "Commands completed successfully."
                    },
                    "metadata": {}
                },
                {
                    "output_type": "display_data",
                    "data": {
                        "text/html": "Commands completed successfully."
                    },
                    "metadata": {}
                },
                {
                    "output_type": "display_data",
                    "data": {
                        "text/html": "Commands completed successfully."
                    },
                    "metadata": {}
                },
                {
                    "output_type": "display_data",
                    "data": {
                        "text/html": "Commands completed successfully."
                    },
                    "metadata": {}
                },
                {
                    "output_type": "display_data",
                    "data": {
                        "text/html": "Total execution time: 00:00:00.125"
                    },
                    "metadata": {}
                }
            ],
            "execution_count": 2
        },
        {
            "cell_type": "markdown",
            "source": [
                "# Create `[DbSecurity].[UserAuthorization]` Table\r\n",
                "\r\n",
                "### Create and populate the table storing the group members:"
            ],
            "metadata": {
                "language": "sql",
                "azdata_cell_guid": "5eb0f8ca-de2e-449b-b3c6-237f9ade250a"
            },
            "attachments": {}
        },
        {
            "cell_type": "code",
            "source": [
                "-- =============================================\r\n",
                "-- Author:\t\t< Daniel Gargiullo, Oksana Weigand-Suminski >\r\n",
                "-- Create date: < 12/4/2024 >\r\n",
                "-- Description:\t< Create the `[DbSecurity].[UserAuthorization]` table >\r\n",
                "-- =============================================\r\n",
                "\r\n",
                "USE QueensClassSchedule\r\n",
                "GO\r\n",
                "\r\n",
                "CREATE  TABLE   [DbSecurity].[UserAuthorization]    (\r\n",
                "    [UserAuthorizationKey]  [Udt].[SurrogateKeyInt] IDENTITY(1,1)   NOT NULL\r\n",
                "        PRIMARY KEY CLUSTERED,\r\n",
                "    [ClassTime]             [Udt].[ClassTime]                           NULL    DEFAULT ('10:45'),\r\n",
                "    [IndividualProject]     [Udt].[IndividualProject]                   NULL    DEFAULT ('Project 3'),\r\n",
                "    [GroupMemberLastName]   [Udt].[LastName]                        NOT NULL,\r\n",
                "    [GroupMemberFirstName]  [Udt].[FirstName]                       NOT NULL,\r\n",
                "    [GroupName]             [Udt].[GroupName]                       NOT NULL    DEFAULT ('Group 2'),\r\n",
                "    [DateAdded]             [Udt].[DateAdded]                           NULL    DEFAULT (SYSDATETIME())\r\n",
                ");\r\n",
                "GO\r\n",
                "\r\n",
                "INSERT  INTO    [DbSecurity].[UserAuthorization]    (GroupMemberFirstName,   GroupMemberLastName)\r\n",
                "VALUES\r\n",
                "    ('Sarmad',      'Ali'), \r\n",
                "    ('Daniel',      'Gargiullo'), \r\n",
                "    ('Augusta',     'Na'), \r\n",
                "    ('Jascharan',   'Singh'),\r\n",
                "    ('Carlos',      'Vega Lemus'), \r\n",
                "    ('Oksana',      'Weigand-Suminski');"
            ],
            "metadata": {
                "language": "sql",
                "azdata_cell_guid": "79cff498-101a-42db-ae7c-ea5191cf0748",
                "tags": [
                    "hide_input"
                ]
            },
            "outputs": [
                {
                    "output_type": "display_data",
                    "data": {
                        "text/html": "Commands completed successfully."
                    },
                    "metadata": {}
                },
                {
                    "output_type": "display_data",
                    "data": {
                        "text/html": "Commands completed successfully."
                    },
                    "metadata": {}
                },
                {
                    "output_type": "display_data",
                    "data": {
                        "text/html": "(6 rows affected)"
                    },
                    "metadata": {}
                },
                {
                    "output_type": "display_data",
                    "data": {
                        "text/html": "Total execution time: 00:00:00.050"
                    },
                    "metadata": {}
                }
            ],
            "execution_count": 3
        },
        {
            "cell_type": "markdown",
            "source": [
                "# Create Required Tables\r\n",
                "- `[Process]`\r\n",
                "    - `.[WorkFlowSteps]`\r\n",
                "- `[Course]`\r\n",
                "    - `.[Course]`\r\n",
                "    - `.[Class]`\r\n",
                "    - `.[ModeOfInstruction]`\r\n",
                "- `[Location]`\r\n",
                "    - `.[BuildingLocation]`\r\n",
                "    - `.[RoomLocation]`\r\n",
                "- `[Department]`\r\n",
                "    - `.[Department]`\r\n",
                "    - `.[Instructor]`"
            ],
            "metadata": {
                "azdata_cell_guid": "75062b53-55e0-43a8-8074-dfd537aa09c9"
            },
            "attachments": {}
        },
        {
            "cell_type": "code",
            "source": [
                "-- =============================================\r\n",
                "-- Author:\t\t< Daniel Gargiullo, Oksana Weigand-Suminski >\r\n",
                "-- Create date: < 12/4/2024 >\r\n",
                "-- Description:\t< Create the other required tables >\r\n",
                "-- =============================================\r\n",
                "\r\n",
                "USE QueensClassSchedule\r\n",
                "GO\r\n",
                "\r\n",
                "/* [Process] schema */\r\n",
                "\r\n",
                "CREATE  TABLE   [Process].[WorkFlowSteps]   (\r\n",
                "    [WorkFlowStepsKey]              [Udt].[SurrogateKeyInt] IDENTITY(1,1)   NOT NULL\r\n",
                "        PRIMARY KEY CLUSTERED,\r\n",
                "    [WorkFlowStepsDescription]      [Udt].[String100]                       NOT NULL,\r\n",
                "    [WorkFlowStepsTableRowCount]    [Udt].[Rows]                                NULL    DEFAULT ((0)),\r\n",
                "    [StartingDateTime]              [Udt].[DateAdded]                           NULL    DEFAULT (SYSDATETIME()),\r\n",
                "    [EndDateTime]                   [Udt].[DateAdded]                           NULL    DEFAULT (SYSDATETIME()),\r\n",
                "    [ClassTime]                     [Udt].[ClassTime]                           NULL    DEFAULT ('10:45'),\r\n",
                "\r\n",
                "    [UserAuthorizationKey]          [Udt].[SurrogateKeyInt]                 NOT NULL\r\n",
                ")\r\n",
                "GO\r\n",
                "\r\n",
                "/* [Course] schema */\r\n",
                "\r\n",
                "CREATE  TABLE   [Course].[Course]   (\r\n",
                "\t[CourseID]              [Udt].[SurrogateKeyInt] IDENTITY(1,1)   NOT NULL\r\n",
                "        PRIMARY KEY CLUSTERED,\r\n",
                "\t[CourseCode]            [Udt].[String30]                            NULL,\r\n",
                "\t[Description]           [Udt].[String100]                           NULL,\r\n",
                "    [Section]               [Udt].[String4]                             NULL,\r\n",
                "    [Semester]              [Udt].[String20]                            NULL,\r\n",
                "    -- Required fields:\r\n",
                "\t[UserAuthorizationKey]  [Udt].[SurrogateKeyInt]                     NULL,\r\n",
                "\t[DateAdded]             [Udt].[DateAdded]                           NULL,\r\n",
                "\t[DateOfLastUpdate]      [Udt].[DateAdded]                           NULL\r\n",
                ")\r\n",
                "GO\r\n",
                "\r\n",
                "CREATE  TABLE   [Course].[Class]    (\r\n",
                "    [ClassID]               [Udt].[SurrogateKeyInt] IDENTITY(1,1)   NOT NULL\r\n",
                "        PRIMARY KEY CLUSTERED,\r\n",
                "    [Enrollment]            [Udt].[SurrogateKeyInt]                     NULL,\r\n",
                "    [Limit]                 [Udt].[SurrogateKeyInt]                     NULL,\r\n",
                "    [Section]               [Udt].[String30]                            NULL,\r\n",
                "    [Department]            [Udt].[String30]                            NULL,\r\n",
                "    [Hours]                 [Udt].[FloatField]                          NULL,\r\n",
                "    [Credits]               [Udt].[SurrogateKeyInt]                     NULL,\r\n",
                "    [Days]                  [Udt].[String30]                            NULL,\r\n",
                "    [ClassStart]            [Udt].[String20]                           NULL,\r\n",
                "    [ClassEnd]              [Udt].[String20]                           NULL,\r\n",
                "    -- Required fields:\r\n",
                "    [UserAuthorizationKey]  [Udt].[SurrogateKeyInt]                     NULL,\r\n",
                "    [DateAdded]             [Udt].[DateAdded]                           NULL    DEFAULT (SYSDATETIME()),\r\n",
                "    [DateOfLastUpdate]      [Udt].[DateAdded]                           NULL    DEFAULT (SYSDATETIME())\r\n",
                ")\r\n",
                "GO\r\n",
                "\r\n",
                "CREATE  TABLE   [Course].[ModeOfInstruction]    (\r\n",
                "\t[ModeID]                [Udt].[SurrogateKeyInt] IDENTITY(1,1)   NOT NULL\r\n",
                "        PRIMARY KEY CLUSTERED,\r\n",
                "\t[ModeName]              [Udt].[String100]                       NOT NULL,\r\n",
                "    -- Required fields:\r\n",
                "\t[UserAuthorizationKey]  [Udt].[SurrogateKeyInt]                     NULL,\r\n",
                "\t[DateAdded]             [Udt].[DateAdded]                           NULL,\r\n",
                "\t[DateOfLastUpdate]      [Udt].[DateAdded]                           NULL\r\n",
                ");\r\n",
                "\r\n",
                "-- =============================================\r\n",
                "-- Author:\t\t< Daniel Gargiullo, Oksana Weigand-Suminski, Carlos Vega >\r\n",
                "-- Create date: < 12/5/2024 >\r\n",
                "-- Description:\t< Create the required tables in the `[Location]` schema >\r\n",
                "-- =============================================\r\n",
                "\r\n",
                "/* [Location] schema */\r\n",
                "\r\n",
                "CREATE  TABLE   [Location].[BuildingLocation]   (\r\n",
                "    [BuildingLocationID]    [Udt].[SurrogateKeyInt] IDENTITY(1,1)   NOT NULL \r\n",
                "        PRIMARY KEY CLUSTERED,\r\n",
                "    [CourseCode]            [Udt].[String30]                        NOT NULL,\r\n",
                "    [Description]           [Udt].[String100]                           NULL,\r\n",
                "    [Building]              [Udt].[String30]                        NOT NULL,\r\n",
                "    [Day]                   [Udt].[String30]                            NULL,\r\n",
                "    -- Required fields:\r\n",
                "    [UserAuthorizationKey]  [Udt].[SurrogateKeyInt]                     NULL,\r\n",
                "    [DateAdded]             [Udt].[DateAdded]                           NULL,\r\n",
                "    [DateOfLastUpdate]      [Udt].[DateAdded]                           NULL\r\n",
                ")\r\n",
                "GO\r\n",
                "\r\n",
                "CREATE  TABLE   [Location].[RoomLocation]   (\r\n",
                "\t[RoomLocationID]        [Udt].[SurrogateKeyInt] IDENTITY(1,1)   NOT NULL\r\n",
                "        PRIMARY KEY CLUSTERED,\r\n",
                "    [Room]                  [Udt].[String30]                        NOT NULL,\r\n",
                "    [Time]                  [Udt].[String20]                        NOT NULL,\r\n",
                "    [Day]                   [Udt].[String20]                        NOT NULL,\r\n",
                "\t[BuildingLocationID]    [Udt].[SurrogateKeyInt]                 NOT NULL,\r\n",
                "    -- Required fields:\r\n",
                "\t[UserAuthorizationKey]  [Udt].[SurrogateKeyInt]                     NULL,\r\n",
                "\t[DateAdded]             [Udt].[DateAdded]                           NULL,\r\n",
                "\t[DateOfLastUpdate]      [Udt].[DateAdded]                           NULL\r\n",
                ")\r\n",
                "GO\r\n",
                "\r\n",
                "/* [Department] schema */\r\n",
                "\r\n",
                "CREATE  TABLE   [Department].[Department]   (\r\n",
                "    [DepartmentID]          [Udt].[SurrogateKeyInt] IDENTITY(1,1)   NOT NULL\r\n",
                "        PRIMARY KEY CLUSTERED,\r\n",
                "    [InstructorID]          [Udt].[SurrogateKeyInt]                 NOT NULL,\r\n",
                "    [DepartmentName]        [Udt].[String8]                         NOT NULL    UNIQUE,\r\n",
                "    -- Required fields:\r\n",
                "\t[UserAuthorizationKey]  [Udt].[SurrogateKeyInt]                     NULL,\r\n",
                "\t[DateAdded]             [Udt].[DateAdded]                           NULL,\r\n",
                "\t[DateOfLastUpdate]      [Udt].[DateAdded]                           NULL\r\n",
                ")\r\n",
                "GO\r\n",
                "\r\n",
                "/***** Possibly implementing this or something similar: *****/\r\n",
                "-- Insert department names into the Department table\r\n",
                "-- INSERT INTO [Department].[Department] (DepartmentName)\r\n",
                "-- SELECT DISTINCT\r\n",
                "--     LEFT([Course (hr, crd)], CHARINDEX(' ', [Course (hr, crd)]) - 1)\r\n",
                "-- FROM [Uploadfile].[CurrentSemesterCourseOfferings]\r\n",
                "-- WHERE [Course (hr, crd)] IS NOT NULL AND CHARINDEX(' ', [Course (hr, crd)]) > 0;\r\n",
                "-- GO\r\n",
                "/************************************************************/\r\n",
                "\r\n",
                "CREATE  TABLE   [Department].[Instructor]   (\r\n",
                "    [InstructorID]          [Udt].[SurrogateKeyInt] IDENTITY(1,1)   NOT NULL\r\n",
                "        PRIMARY KEY CLUSTERED,\r\n",
                "    [DepartmentID]          [Udt].[SurrogateKeyInt]                 NOT NULL,\r\n",
                "    [FirstName]             [Udt].[String30]                        NOT NULL,\r\n",
                "    [LastName]              [Udt].[String30]                        NOT NULL,\r\n",
                "    -- Required fields:\r\n",
                "\t[UserAuthorizationKey]  [Udt].[SurrogateKeyInt]                     NULL,\r\n",
                "\t[DateAdded]             [Udt].[DateAdded]                           NULL,\r\n",
                "\t[DateOfLastUpdate]      [Udt].[DateAdded]                           NULL\r\n",
                ")\r\n",
                "GO"
            ],
            "metadata": {
                "azdata_cell_guid": "d54071d3-f81b-42c6-a745-a1a9ed11f23d",
                "language": "sql",
                "tags": []
            },
            "outputs": [
                {
                    "output_type": "display_data",
                    "data": {
                        "text/html": "Commands completed successfully."
                    },
                    "metadata": {}
                },
                {
                    "output_type": "display_data",
                    "data": {
                        "text/html": "Commands completed successfully."
                    },
                    "metadata": {}
                },
                {
                    "output_type": "display_data",
                    "data": {
                        "text/html": "Commands completed successfully."
                    },
                    "metadata": {}
                },
                {
                    "output_type": "display_data",
                    "data": {
                        "text/html": "Commands completed successfully."
                    },
                    "metadata": {}
                },
                {
                    "output_type": "display_data",
                    "data": {
                        "text/html": "Commands completed successfully."
                    },
                    "metadata": {}
                },
                {
                    "output_type": "display_data",
                    "data": {
                        "text/html": "Commands completed successfully."
                    },
                    "metadata": {}
                },
                {
                    "output_type": "display_data",
                    "data": {
                        "text/html": "Commands completed successfully."
                    },
                    "metadata": {}
                },
                {
                    "output_type": "display_data",
                    "data": {
                        "text/html": "Commands completed successfully."
                    },
                    "metadata": {}
                },
                {
                    "output_type": "display_data",
                    "data": {
                        "text/html": "Total execution time: 00:00:00.070"
                    },
                    "metadata": {}
                }
            ],
            "execution_count": 4
        },
        {
            "cell_type": "markdown",
            "source": [
                "# Create Workflow Procedures\r\n",
                "\r\n",
                "- `[Process]`\r\n",
                "    - `[usp_TrackWorkFlow]`\r\n",
                "    - `[usp_ShowWorkFlowSteps]`"
            ],
            "metadata": {
                "language": "sql",
                "azdata_cell_guid": "dd9c8934-d7e4-4a08-a691-08e9acd50eb2"
            },
            "attachments": {}
        },
        {
            "cell_type": "code",
            "source": [
                "-- =============================================\n",
                "-- Author:\t\t< Daniel Gargiullo, Oksana Weigand-Suminski >\n",
                "-- Create date: < 12/5/2024 >\n",
                "-- Description:\t< Create `[Process].[usp_TrackWorkFlow]` and `[Process].[usp_ShowWorkFlowSteps]` procedures >\n",
                "-- =============================================\n",
                "\n",
                "USE QueensClassSchedule\n",
                "GO\n",
                "\n",
                "CREATE PROCEDURE [Process].[usp_TrackWorkFlow]\n",
                "    @UserAuthorizationKey INT,\n",
                "    @WorkFlowStepsTableRowCount INT,\n",
                "    @WorkFlowStepsDescription NVARCHAR(100)\n",
                "AS\n",
                "BEGIN\n",
                "    INSERT INTO [Process].[WorkFlowSteps]\n",
                "        (UserAuthorizationKey, WorkFlowStepsTableRowCount, WorkFlowStepsDescription)\n",
                "    VALUES(@UserAuthorizationKey, @WorkFlowStepsTableRowCount, @WorkFlowStepsDescription);\n",
                "END;\n",
                "GO\n",
                "\n",
                "CREATE PROCEDURE [Process].[usp_ShowWorkFlowSteps] \n",
                "AS\n",
                "BEGIN\n",
                "\tSELECT *\n",
                "\tFROM [Process].[WorkFlowSteps];\n",
                "END;\n",
                "GO"
            ],
            "metadata": {
                "language": "sql",
                "azdata_cell_guid": "99129362-6592-40b6-89d8-2399d66ccb1f",
                "tags": [
                    "hide_input"
                ]
            },
            "outputs": [
                {
                    "output_type": "display_data",
                    "data": {
                        "text/html": "Commands completed successfully."
                    },
                    "metadata": {}
                },
                {
                    "output_type": "display_data",
                    "data": {
                        "text/html": "Commands completed successfully."
                    },
                    "metadata": {}
                },
                {
                    "output_type": "display_data",
                    "data": {
                        "text/html": "Commands completed successfully."
                    },
                    "metadata": {}
                },
                {
                    "output_type": "display_data",
                    "data": {
                        "text/html": "Total execution time: 00:00:00.113"
                    },
                    "metadata": {}
                }
            ],
            "execution_count": 5
        },
        {
            "cell_type": "code",
            "source": [
                "-- ================================================================\r\n",
                "-- Author:\t\t< Daniel Gargiullo, Oksana Weigand-Suminski >\r\n",
                "-- Create date: < 12/6/2024 >\r\n",
                "-- Description:\t< Create the `[Process].[usp_TrackWorkFlowSteps]` >\r\n",
                "-- ================================================================\r\n",
                "\r\n",
                "USE QueensClassSchedule\r\n",
                "GO\r\n",
                "\r\n",
                "CREATE PROCEDURE [Course].[usp_LoadClassTable]\r\n",
                "@UserAuthorizationKey INT\r\n",
                "AS\r\n",
                "BEGIN\r\n",
                "    INSERT INTO [Course].[Class] (\r\n",
                "        Section,\r\n",
                "        Department,\r\n",
                "        Hours,\r\n",
                "        Credits,\r\n",
                "        Days,\r\n",
                "        ClassStart,\r\n",
                "        ClassEnd,\r\n",
                "        Enrollment,\r\n",
                "        [Limit],\r\n",
                "        UserAuthorizationKey,\r\n",
                "        DateAdded,\r\n",
                "        DateOfLastUpdate\r\n",
                "    )\r\n",
                "    SELECT\r\n",
                "        [Sec] AS Section,\r\n",
                "        LEFT([Course (hr, crd)], CHARINDEX(' ', [Course (hr, crd)]) - 1) AS Department,\r\n",
                "        TRY_CAST(\r\n",
                "            TRIM(\r\n",
                "                SUBSTRING(\r\n",
                "                    [Course (hr, crd)],\r\n",
                "                    CHARINDEX('(', [Course (hr, crd)]) + 1,\r\n",
                "                    CHARINDEX(',', [Course (hr, crd)]) - CHARINDEX('(', [Course (hr, crd)]) - 1\r\n",
                "                )\r\n",
                "            ) AS FLOAT\r\n",
                "        ) AS Hours,\r\n",
                "        TRY_CAST(\r\n",
                "            TRIM(\r\n",
                "                SUBSTRING(\r\n",
                "                    [Course (hr, crd)],\r\n",
                "                    CHARINDEX(',', [Course (hr, crd)]) + 1,\r\n",
                "                    CHARINDEX(')', [Course (hr, crd)]) - CHARINDEX(',', [Course (hr, crd)]) - 1\r\n",
                "                )\r\n",
                "            ) AS INT\r\n",
                "        ) AS Credits,\r\n",
                "        [Day] AS Days,\r\n",
                "        TRIM(LEFT([Time], CHARINDEX('-', [Time]) - 1)) AS ClassStart,\r\n",
                "        TRIM(SUBSTRING([Time], CHARINDEX('-', [Time]) + 1, LEN([Time]))) AS ClassEnd,\r\n",
                "        TRY_CAST([Enrolled] AS INT) AS Enrollment,\r\n",
                "        TRY_CAST([Limit] AS INT) AS [Limit],\r\n",
                "        @UserAuthorizationKey,\r\n",
                "        SYSDATETIME() AS DateAdded,\r\n",
                "        SYSDATETIME() AS DateOfLastUpdate\r\n",
                "    FROM [Uploadfile].[CurrentSemesterCourseOfferings] c\r\n",
                "    WHERE\r\n",
                "        [Course (hr, crd)] IS NOT NULL\r\n",
                "        AND CHARINDEX(' ', [Course (hr, crd)]) > 0\r\n",
                "        AND CHARINDEX('-', [Time]) > 0;\r\n",
                "\r\n",
                "    EXEC [Process].[usp_TrackWorkFlow] \r\n",
                "        @UserAuthorizationKey = @UserAuthorizationKey,\r\n",
                "        @WorkflowStepsDescription = 'Loading data into Class table',\r\n",
                "        @WorkflowStepsTableRowCount = @@ROWCOUNT;\r\n",
                "END;\r\n",
                "GO"
            ],
            "metadata": {
                "language": "sql",
                "azdata_cell_guid": "a4e13cc0-67cf-4a78-b5c5-3b4518711589",
                "tags": []
            },
            "outputs": [
                {
                    "output_type": "display_data",
                    "data": {
                        "text/html": "Commands completed successfully."
                    },
                    "metadata": {}
                },
                {
                    "output_type": "display_data",
                    "data": {
                        "text/html": "Commands completed successfully."
                    },
                    "metadata": {}
                },
                {
                    "output_type": "display_data",
                    "data": {
                        "text/html": "Total execution time: 00:00:00.010"
                    },
                    "metadata": {}
                }
            ],
            "execution_count": 6
        },
        {
            "cell_type": "code",
            "source": [
                "USE QueensClassSchedule \n",
                "GO \n",
                "EXEC [Course].[usp_LoadClassTable] @UserAuthorizationKey = 6;\n",
                ""
            ],
            "metadata": {
                "language": "sql",
                "azdata_cell_guid": "ff855c78-9741-4035-ae0e-73225ecaf17e",
                "tags": []
            },
            "outputs": [
                {
                    "output_type": "display_data",
                    "data": {
                        "text/html": "Commands completed successfully."
                    },
                    "metadata": {}
                },
                {
                    "output_type": "display_data",
                    "data": {
                        "text/html": "(4522 rows affected)"
                    },
                    "metadata": {}
                },
                {
                    "output_type": "display_data",
                    "data": {
                        "text/html": "(1 row affected)"
                    },
                    "metadata": {}
                },
                {
                    "output_type": "display_data",
                    "data": {
                        "text/html": "Total execution time: 00:00:00.207"
                    },
                    "metadata": {}
                }
            ],
            "execution_count": 7
        }
    ]
}