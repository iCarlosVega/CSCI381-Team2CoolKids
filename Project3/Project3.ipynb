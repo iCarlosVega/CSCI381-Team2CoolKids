{
    "metadata": {
        "kernelspec": {
            "name": "SQL",
            "display_name": "SQL",
            "language": "sql"
        },
        "language_info": {
            "name": "sql",
            "version": ""
        }
    },
    "nbformat_minor": 2,
    "nbformat": 4,
    "cells": [
        {
            "cell_type": "markdown",
            "source": [
                "# Create a View of the Source Table\r\n",
                ""
            ],
            "metadata": {
                "language": "sql",
                "azdata_cell_guid": "9e39b501-3177-4418-a6c8-6a2b05850476"
            },
            "attachments": {}
        },
        {
            "cell_type": "code",
            "source": [
                "-- =============================================\r\n",
                "-- Author:\t\t< Daniel Gargiullo, Oksana Weigand-Suminski >\r\n",
                "-- Create date: < 12/4/2024 >\r\n",
                "-- Description:\t< Create View `[Uploadfile].[vw_CurrentSemesterCourseOfferings]` from source table `[Uploadfile].[CurrentSemesterCourseOfferings]` >\r\n",
                "-- =============================================\r\n",
                "\r\n",
                "USE QueensClassSchedule\r\n",
                "GO\r\n",
                "\r\n",
                "CREATE VIEW [Uploadfile].[vw_CurrentSemesterCourseOfferings] AS\r\n",
                "SELECT\r\n",
                "    [Semester],\r\n",
                "    [Sec],\r\n",
                "    [Code],\r\n",
                "    [Course (hr, crd)] AS OriginalCourseColumn,\r\n",
                "    -- Extract CourseName (text before the first '(')\r\n",
                "    LTRIM(RTRIM(LEFT([Course (hr, crd)], CHARINDEX('(', [Course (hr, crd)]) - 1))) AS CourseName,\r\n",
                "    -- Extract hr (number between '(' and ',')\r\n",
                "    LTRIM(RTRIM(SUBSTRING([Course (hr, crd)],\r\n",
                "        CHARINDEX('(', [Course (hr, crd)]) + 1,\r\n",
                "        CHARINDEX(',', [Course (hr, crd)]) - CHARINDEX('(', [Course (hr, crd)]) - 1))) AS hr,\r\n",
                "    -- Extract crd (number between ',' and ')')\r\n",
                "    LTRIM(RTRIM(SUBSTRING([Course (hr, crd)],\r\n",
                "        CHARINDEX(',', [Course (hr, crd)]) + 1,\r\n",
                "        CHARINDEX(')', [Course (hr, crd)]) - CHARINDEX(',', [Course (hr, crd)]) - 1))) AS crd,\r\n",
                "    [Description],\r\n",
                "    [Day],\r\n",
                "    [Time],\r\n",
                "    [Instructor],\r\n",
                "    [Location],\r\n",
                "    [Enrolled],\r\n",
                "    [Limit],\r\n",
                "    [Mode of Instruction]\r\n",
                "FROM\r\n",
                "    [Uploadfile].[CurrentSemesterCourseOfferings];\r\n",
                ""
            ],
            "metadata": {
                "azdata_cell_guid": "f13a080e-5348-4ea3-ad2a-744df350626d",
                "language": "sql"
            },
            "outputs": [
                {
                    "output_type": "display_data",
                    "data": {
                        "text/html": "Commands completed successfully."
                    },
                    "metadata": {}
                },
                {
                    "output_type": "display_data",
                    "data": {
                        "text/html": "Commands completed successfully."
                    },
                    "metadata": {}
                },
                {
                    "output_type": "display_data",
                    "data": {
                        "text/html": "Total execution time: 00:00:00.018"
                    },
                    "metadata": {}
                }
            ],
            "execution_count": 14
        },
        {
            "cell_type": "markdown",
            "source": [
                "# Create `[Udt]` Schema and User-Defined Data Types:"
            ],
            "metadata": {
                "azdata_cell_guid": "3914b4f8-05f9-42e9-8370-c6b8094ecae5"
            },
            "attachments": {}
        },
        {
            "cell_type": "code",
            "source": [
                "-- =============================================\r\n",
                "-- Author:\t\t< Daniel Gargiullo, Oksana Weigand-Suminski, Jascharan Singh, Sarmad Ali, Augusta Na, Carlos Vega >\r\n",
                "-- Create date: < 12/3/2024 >\r\n",
                "-- Description:\t< Create the `Udt` schema and User-defined Data Types >\r\n",
                "-- =============================================\r\n",
                "\r\n",
                "USE QueensClassSchedule\r\n",
                "GO\r\n",
                "\r\n",
                "CREATE  SCHEMA  [Udt]\r\n",
                "GO\r\n",
                "\r\n",
                "CREATE  TYPE    [Udt].[SurrogateKeyInt]     FROM    [int]               NULL\r\n",
                "GO\r\n",
                "CREATE  TYPE    [Udt].[DateAdded]           FROM    Datetime2(7)    NOT NULL\r\n",
                "GO\r\n",
                "CREATE  TYPE    [Udt].[ClassTime]           FROM    nchar(5)        NOT NULL\r\n",
                "GO\r\n",
                "CREATE  TYPE    [Udt].[ClassHours]          FROM    nchar(5)        NOT NULL\r\n",
                "GO\r\n",
                "CREATE  TYPE    [Udt].[IndividualProject]   FROM    NVARCHAR(60)    NOT NULL\r\n",
                "GO\r\n",
                "CREATE  TYPE    [Udt].[LastName]            FROM    NVARCHAR(35)    NOT NULL\r\n",
                "GO\r\n",
                "CREATE  TYPE    [Udt].[FirstName]           FROM    NVARCHAR(20)    NOT NULL\r\n",
                "GO\r\n",
                "CREATE  TYPE    [Udt].[GroupName]           FROM    NVARCHAR(20)    NOT NULL\r\n",
                "GO\r\n",
                "CREATE  TYPE    [Udt].[WorkFlowString]      FROM    NVARCHAR(100)   NOT NULL\r\n",
                "GO\r\n",
                "CREATE  TYPE    [Udt].[RowCount]            FROM    [int]           NOT NULL\r\n",
                "GO\r\n",
                "CREATE  TYPE    [Udt].[SurrogateKeyString]  FROM    NVARCHAR(30)    NOT NULL\r\n",
                "GO\r\n",
                "CREATE  TYPE    [Udt].[ClassLength]         FROM    NVARCHAR(30)    NOT NULL\r\n",
                "GO\r\n",
                "CREATE  TYPE    [Udt].[SurrogateKeyFloat]   FROM    FLOAT           NOT NULL\r\n",
                "GO"
            ],
            "metadata": {
                "azdata_cell_guid": "3dd3c272-943f-4cc9-8308-19869a86d579",
                "language": "sql",
                "tags": []
            },
            "outputs": [
                {
                    "output_type": "display_data",
                    "data": {
                        "text/html": "Commands completed successfully."
                    },
                    "metadata": {}
                },
                {
                    "output_type": "display_data",
                    "data": {
                        "text/html": "Commands completed successfully."
                    },
                    "metadata": {}
                },
                {
                    "output_type": "display_data",
                    "data": {
                        "text/html": "Commands completed successfully."
                    },
                    "metadata": {}
                },
                {
                    "output_type": "display_data",
                    "data": {
                        "text/html": "Commands completed successfully."
                    },
                    "metadata": {}
                },
                {
                    "output_type": "display_data",
                    "data": {
                        "text/html": "Commands completed successfully."
                    },
                    "metadata": {}
                },
                {
                    "output_type": "display_data",
                    "data": {
                        "text/html": "Commands completed successfully."
                    },
                    "metadata": {}
                },
                {
                    "output_type": "display_data",
                    "data": {
                        "text/html": "Commands completed successfully."
                    },
                    "metadata": {}
                },
                {
                    "output_type": "display_data",
                    "data": {
                        "text/html": "Commands completed successfully."
                    },
                    "metadata": {}
                },
                {
                    "output_type": "display_data",
                    "data": {
                        "text/html": "Commands completed successfully."
                    },
                    "metadata": {}
                },
                {
                    "output_type": "display_data",
                    "data": {
                        "text/html": "Commands completed successfully."
                    },
                    "metadata": {}
                },
                {
                    "output_type": "display_data",
                    "data": {
                        "text/html": "Commands completed successfully."
                    },
                    "metadata": {}
                },
                {
                    "output_type": "display_data",
                    "data": {
                        "text/html": "Commands completed successfully."
                    },
                    "metadata": {}
                },
                {
                    "output_type": "display_data",
                    "data": {
                        "text/html": "Commands completed successfully."
                    },
                    "metadata": {}
                },
                {
                    "output_type": "display_data",
                    "data": {
                        "text/html": "Commands completed successfully."
                    },
                    "metadata": {}
                },
                {
                    "output_type": "display_data",
                    "data": {
                        "text/html": "Commands completed successfully."
                    },
                    "metadata": {}
                },
                {
                    "output_type": "display_data",
                    "data": {
                        "text/html": "Total execution time: 00:00:00.054"
                    },
                    "metadata": {}
                }
            ],
            "execution_count": 15
        },
        {
            "cell_type": "markdown",
            "source": [
                "# Create Other Required Schemas\r\n",
                "\r\n",
                "### Create `[UserAuthorization]`, `[DbSecurity]`, `[Course]`, `[Location]`, `[Department]`, `[Process]`, and `[Project3]` schemas:"
            ],
            "metadata": {
                "azdata_cell_guid": "63573375-73fd-424b-8637-48627c7990e7"
            },
            "attachments": {}
        },
        {
            "cell_type": "code",
            "source": [
                "-- =============================================\r\n",
                "-- Author:\t\t< Daniel Gargiullo, Oksana Weigand-Suminski >\r\n",
                "-- Create date: < 12/4/2024 >\r\n",
                "-- Description:\t< Create the required schemas >\r\n",
                "-- =============================================\r\n",
                "\r\n",
                "USE QueensClassSchedule\r\n",
                "GO\r\n",
                "\r\n",
                "CREATE  SCHEMA  [DbSecurity]\r\n",
                "GO\r\n",
                "CREATE  SCHEMA  [Course]\r\n",
                "GO\r\n",
                "CREATE  SCHEMA  [Location]\r\n",
                "GO\r\n",
                "CREATE  SCHEMA  [Department]\r\n",
                "GO\r\n",
                "CREATE  SCHEMA  [Process]\r\n",
                "GO\r\n",
                "CREATE  SCHEMA  [Project3]\r\n",
                "GO              "
            ],
            "metadata": {
                "azdata_cell_guid": "b300f4f9-c671-4460-9551-d6f0d1b3795c",
                "language": "sql"
            },
            "outputs": [
                {
                    "output_type": "display_data",
                    "data": {
                        "text/html": "Commands completed successfully."
                    },
                    "metadata": {}
                },
                {
                    "output_type": "display_data",
                    "data": {
                        "text/html": "Commands completed successfully."
                    },
                    "metadata": {}
                },
                {
                    "output_type": "display_data",
                    "data": {
                        "text/html": "Commands completed successfully."
                    },
                    "metadata": {}
                },
                {
                    "output_type": "display_data",
                    "data": {
                        "text/html": "Commands completed successfully."
                    },
                    "metadata": {}
                },
                {
                    "output_type": "display_data",
                    "data": {
                        "text/html": "Commands completed successfully."
                    },
                    "metadata": {}
                },
                {
                    "output_type": "display_data",
                    "data": {
                        "text/html": "Commands completed successfully."
                    },
                    "metadata": {}
                },
                {
                    "output_type": "display_data",
                    "data": {
                        "text/html": "Commands completed successfully."
                    },
                    "metadata": {}
                },
                {
                    "output_type": "display_data",
                    "data": {
                        "text/html": "Commands completed successfully."
                    },
                    "metadata": {}
                },
                {
                    "output_type": "display_data",
                    "data": {
                        "text/html": "Total execution time: 00:00:00.022"
                    },
                    "metadata": {}
                }
            ],
            "execution_count": 16
        },
        {
            "cell_type": "markdown",
            "source": [
                "# Create `[DbSecurity].[UserAuthorization]` Table\r\n",
                "\r\n",
                "### Create and populate the table storing the group members:"
            ],
            "metadata": {
                "language": "sql",
                "azdata_cell_guid": "5eb0f8ca-de2e-449b-b3c6-237f9ade250a"
            },
            "attachments": {}
        },
        {
            "cell_type": "code",
            "source": [
                "-- =============================================\r\n",
                "-- Author:\t\t< Daniel Gargiullo, Oksana Weigand-Suminski >\r\n",
                "-- Create date: < 12/4/2024 >\r\n",
                "-- Description:\t< Create the `[DbSecurity].[UserAuthorization]` table >\r\n",
                "-- =============================================\r\n",
                "\r\n",
                "USE QueensClassSchedule\r\n",
                "GO\r\n",
                "\r\n",
                "CREATE  TABLE   [DbSecurity].[UserAuthorization]    (\r\n",
                "    [UserAuthorizationKey]  [Udt].[SurrogateKeyInt] IDENTITY(1,1)   NOT NULL    PRIMARY KEY CLUSTERED,\r\n",
                "    [ClassTime]             [Udt].[ClassTime]                           NULL    DEFAULT ('10:45'),\r\n",
                "    [IndividualProject]     [Udt].[IndividualProject]                   NULL    DEFAULT ('Project 3'),\r\n",
                "    [GroupMemberLastName]   [Udt].[LastName]                        NOT NULL,\r\n",
                "    [GroupMemberFirstName]  [Udt].[FirstName]                       NOT NULL,\r\n",
                "    [GroupName]             [Udt].[GroupName]                       NOT NULL    DEFAULT ('Group 2'),\r\n",
                "    [DateAdded]             [Udt].[DateAdded]                           NULL    DEFAULT (SYSDATETIME())\r\n",
                ");\r\n",
                "GO\r\n",
                "\r\n",
                "INSERT  INTO    [DbSecurity].[UserAuthorization]    (GroupMemberLastName,   GroupMemberFirstName)\r\n",
                "VALUES\r\n",
                "    ('Sarmad',      'Ali'), \r\n",
                "    ('Daniel',      'Gargiullo'), \r\n",
                "    ('Augusta',     'Na'), \r\n",
                "    ('Jascharan',   'Singh'),\r\n",
                "    ('Carlos',      'Vega Lemus'), \r\n",
                "    ('Oksana',      'Weigand-Suminski');\r\n",
                "GO"
            ],
            "metadata": {
                "language": "sql",
                "azdata_cell_guid": "79cff498-101a-42db-ae7c-ea5191cf0748"
            },
            "outputs": [
                {
                    "output_type": "display_data",
                    "data": {
                        "text/html": "Commands completed successfully."
                    },
                    "metadata": {}
                },
                {
                    "output_type": "display_data",
                    "data": {
                        "text/html": "Commands completed successfully."
                    },
                    "metadata": {}
                },
                {
                    "output_type": "display_data",
                    "data": {
                        "text/html": "(6 rows affected)"
                    },
                    "metadata": {}
                },
                {
                    "output_type": "display_data",
                    "data": {
                        "text/html": "Total execution time: 00:00:00.017"
                    },
                    "metadata": {}
                }
            ],
            "execution_count": 17
        },
        {
            "cell_type": "markdown",
            "source": [
                "# Create `[Course].[Class]` Table:"
            ],
            "metadata": {
                "azdata_cell_guid": "75062b53-55e0-43a8-8074-dfd537aa09c9"
            },
            "attachments": {}
        },
        {
            "cell_type": "code",
            "source": [
                "-- =============================================\r\n",
                "-- Author:\t\t< Daniel Gargiullo, Oksana Weigand-Suminski >\r\n",
                "-- Create date: < 12/4/2024 >\r\n",
                "-- Description:\t< Create the `[Course].[Class]` table >\r\n",
                "-- =============================================\r\n",
                "\r\n",
                "USE QueensClassSchedule\r\n",
                "GO\r\n",
                "\r\n",
                "CREATE  TABLE   [Course].[Class]    (\r\n",
                "    [ClassID]       [Udt].[SurrogateKeyInt] IDENTITY(1,1)   NOT NULL\r\n",
                "        PRIMARY KEY CLUSTERED,\r\n",
                "    [Enrollment]    [Udt].[SurrogateKeyInt]                     NULL,\r\n",
                "    [Limit]         [Udt].[SurrogateKeyInt]                     NULL,\r\n",
                "    [Section]       [Udt].[SurrogateKeyString]                  NULL,\r\n",
                "    [ClassCode]     [Udt].[SurrogateKeyString]                  NULL,\r\n",
                "    [Days]          [Udt].[SurrogateKeyString]                  NULL,\r\n",
                "    [Time]          [Udt].[ClassLength]                         NULL,\r\n",
                "    [ClassStart]    [Udt].[ClassHours]                          NULL,\r\n",
                "    [ClassEnd]      [Udt].[ClassHours]                          NULL,\r\n",
                "    [Hours]         [Udt].[SurrogateKeyFloat]                   NULL,\r\n",
                "    [Credits]       [Udt].[SurrogateKeyInt]                     NULL,\r\n",
                "    [InstructorID]  [Udt].[SurrogateKeyInt]                     NULL,\r\n",
                "    -- Required fields for all tables:\r\n",
                "    [UserAuthorizationKey]  [Udt].[SurrogateKeyInt]             NULL,\r\n",
                "    [DateAdded]             [Udt].[DateAdded]                   NULL    DEFAULT (SYSDATETIME()),\r\n",
                "    [DateOfLastUpdate]      [Udt].[DateAdded]                   NULL    DEFAULT (SYSDATETIME())\r\n",
                ");"
            ],
            "metadata": {
                "azdata_cell_guid": "d54071d3-f81b-42c6-a745-a1a9ed11f23d",
                "language": "sql",
                "tags": []
            },
            "outputs": [
                {
                    "output_type": "display_data",
                    "data": {
                        "text/html": "Commands completed successfully."
                    },
                    "metadata": {}
                },
                {
                    "output_type": "display_data",
                    "data": {
                        "text/html": "Commands completed successfully."
                    },
                    "metadata": {}
                },
                {
                    "output_type": "display_data",
                    "data": {
                        "text/html": "Total execution time: 00:00:00.010"
                    },
                    "metadata": {}
                }
            ],
            "execution_count": 18
        }
    ]
}