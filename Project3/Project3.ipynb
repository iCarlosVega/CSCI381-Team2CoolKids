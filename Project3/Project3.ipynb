{
    "metadata": {
        "kernelspec": {
            "name": "SQL",
            "display_name": "SQL",
            "language": "sql"
        },
        "language_info": {
            "name": "sql",
            "version": ""
        }
    },
    "nbformat_minor": 2,
    "nbformat": 4,
    "cells": [
        {
            "cell_type": "markdown",
            "source": [
                "# Create a View of the Source Table\r\n",
                ""
            ],
            "metadata": {
                "language": "sql",
                "azdata_cell_guid": "9e39b501-3177-4418-a6c8-6a2b05850476"
            },
            "attachments": {}
        },
        {
            "cell_type": "code",
            "source": [
                "-- =============================================\r\n",
                "-- Author:\t\t< Daniel Gargiullo, Oksana Weigand-Suminski >\r\n",
                "-- Create date: < 12/4/2024 >\r\n",
                "-- Description:\t< Create View `[Uploadfile].[vw_CurrentSemesterCourseOfferings]` from source table `[Uploadfile].[CurrentSemesterCourseOfferings]` >\r\n",
                "-- =============================================\r\n",
                "\r\n",
                "USE QueensClassSchedule\r\n",
                "GO\r\n",
                "\r\n",
                "CREATE VIEW [Uploadfile].[vw_CurrentSemesterCourseOfferings] AS\r\n",
                "SELECT\r\n",
                "    [Semester],\r\n",
                "    [Sec],\r\n",
                "    [Code],\r\n",
                "    [Course (hr, crd)] AS OriginalCourseColumn,\r\n",
                "    -- Extract CourseName (text before the first '(')\r\n",
                "    LTRIM(RTRIM(LEFT([Course (hr, crd)], CHARINDEX('(', [Course (hr, crd)]) - 1))) AS CourseName,\r\n",
                "    -- Extract hr (number between '(' and ',')\r\n",
                "    LTRIM(RTRIM(SUBSTRING([Course (hr, crd)],\r\n",
                "        CHARINDEX('(', [Course (hr, crd)]) + 1,\r\n",
                "        CHARINDEX(',', [Course (hr, crd)]) - CHARINDEX('(', [Course (hr, crd)]) - 1))) AS hr,\r\n",
                "    -- Extract crd (number between ',' and ')')\r\n",
                "    LTRIM(RTRIM(SUBSTRING([Course (hr, crd)],\r\n",
                "        CHARINDEX(',', [Course (hr, crd)]) + 1,\r\n",
                "        CHARINDEX(')', [Course (hr, crd)]) - CHARINDEX(',', [Course (hr, crd)]) - 1))) AS crd,\r\n",
                "    [Description],\r\n",
                "    [Day],\r\n",
                "    [Time],\r\n",
                "    [Instructor],\r\n",
                "    [Location],\r\n",
                "    [Enrolled],\r\n",
                "    [Limit],\r\n",
                "    [Mode of Instruction]\r\n",
                "FROM\r\n",
                "    [Uploadfile].[CurrentSemesterCourseOfferings];\r\n",
                ""
            ],
            "metadata": {
                "azdata_cell_guid": "f13a080e-5348-4ea3-ad2a-744df350626d",
                "language": "sql"
            },
            "outputs": [
                {
                    "output_type": "display_data",
                    "data": {
                        "text/html": "Commands completed successfully."
                    },
                    "metadata": {}
                },
                {
                    "output_type": "display_data",
                    "data": {
                        "text/html": "Commands completed successfully."
                    },
                    "metadata": {}
                },
                {
                    "output_type": "display_data",
                    "data": {
                        "text/html": "Total execution time: 00:00:00.011"
                    },
                    "metadata": {}
                }
            ],
            "execution_count": 36
        },
        {
            "cell_type": "markdown",
            "source": [
                "# Create `[Udt]` Schema and User-Defined Data Types:"
            ],
            "metadata": {
                "azdata_cell_guid": "3914b4f8-05f9-42e9-8370-c6b8094ecae5"
            },
            "attachments": {}
        },
        {
            "cell_type": "code",
            "source": [
                "-- =============================================\r\n",
                "-- Author:\t\t< Daniel Gargiullo, Oksana Weigand-Suminski, Jascharan Singh, Sarmad Ali, Augusta Na, Carlos Vega >\r\n",
                "-- Create date: < 12/3/2024 >\r\n",
                "-- Description:\t< Create the `Udt` schema and User-defined Data Types >\r\n",
                "-- =============================================\r\n",
                "\r\n",
                "USE QueensClassSchedule\r\n",
                "GO\r\n",
                "\r\n",
                "CREATE  SCHEMA  [Udt]\r\n",
                "GO\r\n",
                "\r\n",
                "CREATE  TYPE    [Udt].[SurrogateKeyInt]     FROM    [int]               NULL\r\n",
                "GO\r\n",
                "CREATE  TYPE    [Udt].[DateAdded]           FROM    Datetime2(7)    NOT NULL\r\n",
                "GO\r\n",
                "CREATE  TYPE    [Udt].[ClassTime]           FROM    NCHAR(5)        NOT NULL\r\n",
                "GO\r\n",
                "CREATE  TYPE    [Udt].[IndividualProject]   FROM    NVARCHAR(60)    NOT NULL\r\n",
                "GO\r\n",
                "CREATE  TYPE    [Udt].[LastName]            FROM    NVARCHAR(35)    NOT NULL\r\n",
                "GO\r\n",
                "CREATE  TYPE    [Udt].[FirstName]           FROM    NVARCHAR(20)    NOT NULL\r\n",
                "GO\r\n",
                "CREATE  TYPE    [Udt].[GroupName]           FROM    NVARCHAR(20)    NOT NULL\r\n",
                "GO\r\n",
                "CREATE  TYPE    [Udt].[String100]           FROM    NVARCHAR(100)   NOT NULL\r\n",
                "GO\r\n",
                "CREATE  TYPE    [Udt].[Rows]                FROM    [int]           NOT NULL\r\n",
                "GO\r\n",
                "CREATE  TYPE    [Udt].[String30]            FROM    NVARCHAR(30)    NOT NULL\r\n",
                "GO\r\n",
                "CREATE  TYPE    [Udt].[String4]             FROM    NVARCHAR(4)         NULL\r\n",
                "GO\r\n",
                "CREATE  TYPE    [Udt].[String8]             FROM    NVARCHAR(8)         NULL\r\n",
                "GO\r\n",
                "CREATE  TYPE    [Udt].[String20]            FROM    NVARCHAR(20)        NULL\r\n",
                "GO\r\n",
                "CREATE  TYPE    [Udt].[ClassLength]         FROM    NVARCHAR(30)    NOT NULL\r\n",
                "GO\r\n",
                "CREATE  TYPE    [Udt].[FloatField]           FROM    FLOAT           NOT NULL\r\n",
                "GO"
            ],
            "metadata": {
                "azdata_cell_guid": "3dd3c272-943f-4cc9-8308-19869a86d579",
                "language": "sql",
                "tags": []
            },
            "outputs": [
                {
                    "output_type": "display_data",
                    "data": {
                        "text/html": "Commands completed successfully."
                    },
                    "metadata": {}
                },
                {
                    "output_type": "error",
                    "evalue": "Msg 2714, Level 16, State 6, Line 10\r\nThere is already an object named 'Udt' in the database.",
                    "ename": "",
                    "traceback": []
                },
                {
                    "output_type": "error",
                    "evalue": "Msg 2759, Level 16, State 0, Line 10\r\nCREATE SCHEMA failed due to previous errors.",
                    "ename": "",
                    "traceback": []
                },
                {
                    "output_type": "error",
                    "evalue": "Msg 219, Level 16, State 1, Line 13\r\nThe type 'Udt.SurrogateKeyInt' already exists, or you do not have permission to create it.",
                    "ename": "",
                    "traceback": []
                },
                {
                    "output_type": "error",
                    "evalue": "Msg 219, Level 16, State 1, Line 15\r\nThe type 'Udt.DateAdded' already exists, or you do not have permission to create it.",
                    "ename": "",
                    "traceback": []
                },
                {
                    "output_type": "error",
                    "evalue": "Msg 219, Level 16, State 1, Line 17\r\nThe type 'Udt.ClassTime' already exists, or you do not have permission to create it.",
                    "ename": "",
                    "traceback": []
                },
                {
                    "output_type": "error",
                    "evalue": "Msg 219, Level 16, State 1, Line 19\r\nThe type 'Udt.IndividualProject' already exists, or you do not have permission to create it.",
                    "ename": "",
                    "traceback": []
                },
                {
                    "output_type": "error",
                    "evalue": "Msg 219, Level 16, State 1, Line 21\r\nThe type 'Udt.LastName' already exists, or you do not have permission to create it.",
                    "ename": "",
                    "traceback": []
                },
                {
                    "output_type": "error",
                    "evalue": "Msg 219, Level 16, State 1, Line 23\r\nThe type 'Udt.FirstName' already exists, or you do not have permission to create it.",
                    "ename": "",
                    "traceback": []
                },
                {
                    "output_type": "error",
                    "evalue": "Msg 219, Level 16, State 1, Line 25\r\nThe type 'Udt.GroupName' already exists, or you do not have permission to create it.",
                    "ename": "",
                    "traceback": []
                },
                {
                    "output_type": "error",
                    "evalue": "Msg 219, Level 16, State 1, Line 27\r\nThe type 'Udt.String100' already exists, or you do not have permission to create it.",
                    "ename": "",
                    "traceback": []
                },
                {
                    "output_type": "error",
                    "evalue": "Msg 219, Level 16, State 1, Line 29\r\nThe type 'Udt.Rows' already exists, or you do not have permission to create it.",
                    "ename": "",
                    "traceback": []
                },
                {
                    "output_type": "error",
                    "evalue": "Msg 219, Level 16, State 1, Line 31\r\nThe type 'Udt.String30' already exists, or you do not have permission to create it.",
                    "ename": "",
                    "traceback": []
                },
                {
                    "output_type": "error",
                    "evalue": "Msg 219, Level 16, State 1, Line 33\r\nThe type 'Udt.String4' already exists, or you do not have permission to create it.",
                    "ename": "",
                    "traceback": []
                },
                {
                    "output_type": "display_data",
                    "data": {
                        "text/html": "Commands completed successfully."
                    },
                    "metadata": {}
                },
                {
                    "output_type": "error",
                    "evalue": "Msg 219, Level 16, State 1, Line 37\r\nThe type 'Udt.String20' already exists, or you do not have permission to create it.",
                    "ename": "",
                    "traceback": []
                },
                {
                    "output_type": "error",
                    "evalue": "Msg 219, Level 16, State 1, Line 39\r\nThe type 'Udt.ClassLength' already exists, or you do not have permission to create it.",
                    "ename": "",
                    "traceback": []
                },
                {
                    "output_type": "error",
                    "evalue": "Msg 219, Level 16, State 1, Line 41\r\nThe type 'Udt.FloatField' already exists, or you do not have permission to create it.",
                    "ename": "",
                    "traceback": []
                },
                {
                    "output_type": "display_data",
                    "data": {
                        "text/html": "Total execution time: 00:00:00.013"
                    },
                    "metadata": {}
                }
            ],
            "execution_count": 47
        },
        {
            "cell_type": "markdown",
            "source": [
                "# Create Other Required Schemas\r\n",
                "\r\n",
                "### Create `[UserAuthorization]`, `[DbSecurity]`, `[Course]`, `[Location]`, `[Department]`, `[Process]`, and `[Project3]` schemas:"
            ],
            "metadata": {
                "azdata_cell_guid": "63573375-73fd-424b-8637-48627c7990e7"
            },
            "attachments": {}
        },
        {
            "cell_type": "code",
            "source": [
                "-- =============================================\r\n",
                "-- Author:\t\t< Daniel Gargiullo, Oksana Weigand-Suminski >\r\n",
                "-- Create date: < 12/4/2024 >\r\n",
                "-- Description:\t< Create the required schemas >\r\n",
                "-- =============================================\r\n",
                "\r\n",
                "USE QueensClassSchedule\r\n",
                "GO\r\n",
                "\r\n",
                "CREATE  SCHEMA  [DbSecurity]\r\n",
                "GO\r\n",
                "CREATE  SCHEMA  [Course]\r\n",
                "GO\r\n",
                "CREATE  SCHEMA  [Location]\r\n",
                "GO\r\n",
                "CREATE  SCHEMA  [Department]\r\n",
                "GO\r\n",
                "CREATE  SCHEMA  [Process]\r\n",
                "GO\r\n",
                "CREATE  SCHEMA  [Project3]\r\n",
                "GO              "
            ],
            "metadata": {
                "azdata_cell_guid": "b300f4f9-c671-4460-9551-d6f0d1b3795c",
                "language": "sql"
            },
            "outputs": [
                {
                    "output_type": "display_data",
                    "data": {
                        "text/html": "Commands completed successfully."
                    },
                    "metadata": {}
                },
                {
                    "output_type": "display_data",
                    "data": {
                        "text/html": "Commands completed successfully."
                    },
                    "metadata": {}
                },
                {
                    "output_type": "display_data",
                    "data": {
                        "text/html": "Commands completed successfully."
                    },
                    "metadata": {}
                },
                {
                    "output_type": "display_data",
                    "data": {
                        "text/html": "Commands completed successfully."
                    },
                    "metadata": {}
                },
                {
                    "output_type": "display_data",
                    "data": {
                        "text/html": "Commands completed successfully."
                    },
                    "metadata": {}
                },
                {
                    "output_type": "display_data",
                    "data": {
                        "text/html": "Commands completed successfully."
                    },
                    "metadata": {}
                },
                {
                    "output_type": "display_data",
                    "data": {
                        "text/html": "Commands completed successfully."
                    },
                    "metadata": {}
                },
                {
                    "output_type": "display_data",
                    "data": {
                        "text/html": "Total execution time: 00:00:00.020"
                    },
                    "metadata": {}
                }
            ],
            "execution_count": 38
        },
        {
            "cell_type": "markdown",
            "source": [
                "# Create `[DbSecurity].[UserAuthorization]` Table\r\n",
                "\r\n",
                "### Create and populate the table storing the group members:"
            ],
            "metadata": {
                "language": "sql",
                "azdata_cell_guid": "5eb0f8ca-de2e-449b-b3c6-237f9ade250a"
            },
            "attachments": {}
        },
        {
            "cell_type": "code",
            "source": [
                "-- =============================================\r\n",
                "-- Author:\t\t< Daniel Gargiullo, Oksana Weigand-Suminski >\r\n",
                "-- Create date: < 12/4/2024 >\r\n",
                "-- Description:\t< Create the `[DbSecurity].[UserAuthorization]` table >\r\n",
                "-- =============================================\r\n",
                "\r\n",
                "USE QueensClassSchedule\r\n",
                "GO\r\n",
                "\r\n",
                "CREATE  TABLE   [DbSecurity].[UserAuthorization]    (\r\n",
                "    [UserAuthorizationKey]  [Udt].[SurrogateKeyInt] IDENTITY(1,1)   NOT NULL\r\n",
                "        PRIMARY KEY CLUSTERED,\r\n",
                "    [ClassTime]             [Udt].[ClassTime]                           NULL    DEFAULT ('10:45'),\r\n",
                "    [IndividualProject]     [Udt].[IndividualProject]                   NULL    DEFAULT ('Project 3'),\r\n",
                "    [GroupMemberLastName]   [Udt].[LastName]                        NOT NULL,\r\n",
                "    [GroupMemberFirstName]  [Udt].[FirstName]                       NOT NULL,\r\n",
                "    [GroupName]             [Udt].[GroupName]                       NOT NULL    DEFAULT ('Group 2'),\r\n",
                "    [DateAdded]             [Udt].[DateAdded]                           NULL    DEFAULT (SYSDATETIME())\r\n",
                ");\r\n",
                "GO\r\n",
                "\r\n",
                "INSERT  INTO    [DbSecurity].[UserAuthorization]    (GroupMemberLastName,   GroupMemberFirstName)\r\n",
                "VALUES\r\n",
                "    ('Sarmad',      'Ali'), \r\n",
                "    ('Daniel',      'Gargiullo'), \r\n",
                "    ('Augusta',     'Na'), \r\n",
                "    ('Jascharan',   'Singh'),\r\n",
                "    ('Carlos',      'Vega Lemus'), \r\n",
                "    ('Oksana',      'Weigand-Suminski');"
            ],
            "metadata": {
                "language": "sql",
                "azdata_cell_guid": "79cff498-101a-42db-ae7c-ea5191cf0748"
            },
            "outputs": [
                {
                    "output_type": "display_data",
                    "data": {
                        "text/html": "Commands completed successfully."
                    },
                    "metadata": {}
                },
                {
                    "output_type": "display_data",
                    "data": {
                        "text/html": "Commands completed successfully."
                    },
                    "metadata": {}
                },
                {
                    "output_type": "display_data",
                    "data": {
                        "text/html": "(6 rows affected)"
                    },
                    "metadata": {}
                },
                {
                    "output_type": "display_data",
                    "data": {
                        "text/html": "Total execution time: 00:00:00.015"
                    },
                    "metadata": {}
                }
            ],
            "execution_count": 39
        },
        {
            "cell_type": "markdown",
            "source": [
                "# Create `[Course].[Class]` Table:"
            ],
            "metadata": {
                "azdata_cell_guid": "75062b53-55e0-43a8-8074-dfd537aa09c9"
            },
            "attachments": {}
        },
        {
            "cell_type": "code",
            "source": [
                "-- =============================================\r\n",
                "-- Author:\t\t< Daniel Gargiullo, Oksana Weigand-Suminski >\r\n",
                "-- Create date: < 12/4/2024 >\r\n",
                "-- Description:\t< Create the `[Course].[Class]` table >\r\n",
                "-- =============================================\r\n",
                "\r\n",
                "USE QueensClassSchedule\r\n",
                "GO\r\n",
                "\r\n",
                "CREATE  TABLE   [Course].[Class]    (\r\n",
                "    [ClassID]       [Udt].[SurrogateKeyInt] IDENTITY(1,1)   NOT NULL\r\n",
                "        PRIMARY KEY CLUSTERED,\r\n",
                "    [Enrollment]    [Udt].[SurrogateKeyInt]                     NULL,\r\n",
                "    [Limit]         [Udt].[SurrogateKeyInt]                     NULL,\r\n",
                "    [Section]       [Udt].[String30]                            NULL,\r\n",
                "    [ClassCode]     [Udt].[String30]                            NULL,\r\n",
                "    [Days]          [Udt].[String30]                            NULL,\r\n",
                "    [Time]          [Udt].[ClassLength]                         NULL,\r\n",
                "    [ClassStart]    [Udt].[ClassTime]                           NULL,\r\n",
                "    [ClassEnd]      [Udt].[ClassTime]                           NULL,\r\n",
                "    [Hours]         [Udt].[FloatField]                   NULL,\r\n",
                "    [Credits]       [Udt].[SurrogateKeyInt]                     NULL,\r\n",
                "    [InstructorID]  [Udt].[SurrogateKeyInt]                     NULL,\r\n",
                "    -- Required fields for all tables:\r\n",
                "    [UserAuthorizationKey]  [Udt].[SurrogateKeyInt]             NULL,\r\n",
                "    [DateAdded]             [Udt].[DateAdded]                   NULL    DEFAULT (SYSDATETIME()),\r\n",
                "    [DateOfLastUpdate]      [Udt].[DateAdded]                   NULL    DEFAULT (SYSDATETIME())\r\n",
                ");"
            ],
            "metadata": {
                "azdata_cell_guid": "d54071d3-f81b-42c6-a745-a1a9ed11f23d",
                "language": "sql",
                "tags": []
            },
            "outputs": [
                {
                    "output_type": "display_data",
                    "data": {
                        "text/html": "Commands completed successfully."
                    },
                    "metadata": {}
                },
                {
                    "output_type": "display_data",
                    "data": {
                        "text/html": "Commands completed successfully."
                    },
                    "metadata": {}
                },
                {
                    "output_type": "display_data",
                    "data": {
                        "text/html": "Total execution time: 00:00:00.007"
                    },
                    "metadata": {}
                }
            ],
            "execution_count": 40
        },
        {
            "cell_type": "markdown",
            "source": [
                "# Create `[Process].[WorkflowSteps]` Table"
            ],
            "metadata": {
                "language": "sql",
                "azdata_cell_guid": "46ce54a7-db23-494d-9a95-3dd176a97db8"
            },
            "attachments": {}
        },
        {
            "cell_type": "code",
            "source": [
                "-- =============================================\r\n",
                "-- Author:\t\t< Daniel Gargiullo, Oksana Weigand-Suminski >\r\n",
                "-- Create date: < 12/4/2024 >\r\n",
                "-- Description:\t< Create the `[Process].[WorkflowSteps]` table >\r\n",
                "-- =============================================\r\n",
                "\r\n",
                "USE QueensClassSchedule\r\n",
                "GO\r\n",
                "\r\n",
                "CREATE  TABLE   [Process].[WorkflowSteps]   (\r\n",
                "    [WorkflowStepsKey]              [Udt].[SurrogateKeyInt] IDENTITY(1,1)   NOT NULL\r\n",
                "        PRIMARY KEY CLUSTERED,\r\n",
                "    [WorkflowStepsDescription]      [Udt].[String100]                  NOT NULL,\r\n",
                "    [WorkflowStepsTableRowCount]    [Udt].[Rows]                            NULL    DEFAULT ((0)),\r\n",
                "    [StartingDateTime]              [Udt].[DateAdded]                           NULL    DEFAULT (SYSDATETIME()),\r\n",
                "    [EndDateTime]                   [Udt].[DateAdded]                           NULL    DEFAULT (SYSDATETIME()),\r\n",
                "    [ClassTime]                     [Udt].[ClassTime]                           NULL    DEFAULT ('10:45'),\r\n",
                "\r\n",
                "    [UserAuthorizationKey]          [Udt].[SurrogateKeyInt]                 NOT NULL\r\n",
                ");"
            ],
            "metadata": {
                "language": "sql",
                "azdata_cell_guid": "0faab861-3625-47ab-858d-44829293d747"
            },
            "outputs": [
                {
                    "output_type": "display_data",
                    "data": {
                        "text/html": "Commands completed successfully."
                    },
                    "metadata": {}
                },
                {
                    "output_type": "display_data",
                    "data": {
                        "text/html": "Commands completed successfully."
                    },
                    "metadata": {}
                },
                {
                    "output_type": "display_data",
                    "data": {
                        "text/html": "Total execution time: 00:00:00.007"
                    },
                    "metadata": {}
                }
            ],
            "execution_count": 41
        },
        {
            "cell_type": "markdown",
            "source": [
                "# Create `[Course].[Course]` Table"
            ],
            "metadata": {
                "language": "sql",
                "azdata_cell_guid": "a9dc7e4d-00a3-4f44-ab8c-cf9bcaf47265"
            },
            "attachments": {}
        },
        {
            "cell_type": "code",
            "source": [
                "-- =============================================\r\n",
                "-- Author:\t\t< Daniel Gargiullo, Oksana Weigand-Suminski >\r\n",
                "-- Create date: < 12/4/2024 >\r\n",
                "-- Description:\t< Create the `[Course].[Course]` table >\r\n",
                "-- =============================================\r\n",
                "\r\n",
                "USE QueensClassSchedule\r\n",
                "GO\r\n",
                "\r\n",
                "CREATE  TABLE   [Course].[Course]   (\r\n",
                "\t[CourseID]              [Udt].[SurrogateKeyInt] IDENTITY(1,1)   NOT NULL\r\n",
                "        PRIMARY KEY CLUSTERED,\r\n",
                "\t[CourseCode]            [Udt].[String30]                  NULL,\r\n",
                "\t[Description]           [Udt].[String100]                      NULL,\r\n",
                "    [Section]               [Udt].[String4]                             NULL,\r\n",
                "    [Semester]              [Udt].[String20]                            NULL,\r\n",
                "    -- Required fields for all tables:\r\n",
                "\t[UserAuthorizationKey]  [Udt].[SurrogateKeyInt]                     NULL,\r\n",
                "\t[DateAdded]             [Udt].[DateAdded]                           NULL,\r\n",
                "\t[DateOfLastUpdate]      [Udt].[DateAdded]                           NULL\r\n",
                ");"
            ],
            "metadata": {
                "language": "sql",
                "azdata_cell_guid": "2ce106d7-11cb-4af8-96f1-40ba87a7fe51"
            },
            "outputs": [
                {
                    "output_type": "display_data",
                    "data": {
                        "text/html": "Commands completed successfully."
                    },
                    "metadata": {}
                },
                {
                    "output_type": "display_data",
                    "data": {
                        "text/html": "Commands completed successfully."
                    },
                    "metadata": {}
                },
                {
                    "output_type": "display_data",
                    "data": {
                        "text/html": "Total execution time: 00:00:00.007"
                    },
                    "metadata": {}
                }
            ],
            "execution_count": 42
        },
        {
            "cell_type": "markdown",
            "source": [
                "# Create `[Course].[ModeOfInstruction]` Table"
            ],
            "metadata": {
                "language": "sql",
                "azdata_cell_guid": "c1d72f49-46b8-4d4f-afe1-91b71e6075d0"
            },
            "attachments": {}
        },
        {
            "cell_type": "code",
            "source": [
                "-- =============================================\r\n",
                "-- Author:\t\t< Daniel Gargiullo, Oksana Weigand-Suminski >\r\n",
                "-- Create date: < 12/4/2024 >\r\n",
                "-- Description:\t< Create the `[Course].[ModeOfInstruction]` table >\r\n",
                "-- =============================================\r\n",
                "\r\n",
                "USE QueensClassSchedule\r\n",
                "GO\r\n",
                "\r\n",
                "CREATE  TABLE   [Course].[ModeOfInstruction]    (\r\n",
                "\t[ModeID]                [Udt].[SurrogateKeyInt] IDENTITY(1,1)   NOT NULL\r\n",
                "        PRIMARY KEY CLUSTERED,\r\n",
                "\t[ModeName]              [Udt].[String100]                  NOT NULL,\r\n",
                "    -- Required fields for all tables:\r\n",
                "\t[UserAuthorizationKey]  [Udt].[SurrogateKeyInt]                     NULL,\r\n",
                "\t[DateAdded]             [Udt].[DateAdded]                           NULL,\r\n",
                "\t[DateOfLastUpdate]      [Udt].[DateAdded]                           NULL\r\n",
                ");"
            ],
            "metadata": {
                "language": "sql",
                "azdata_cell_guid": "f371c213-da51-4cec-b7d1-55e983fb4a41"
            },
            "outputs": [
                {
                    "output_type": "display_data",
                    "data": {
                        "text/html": "Commands completed successfully."
                    },
                    "metadata": {}
                },
                {
                    "output_type": "display_data",
                    "data": {
                        "text/html": "Commands completed successfully."
                    },
                    "metadata": {}
                },
                {
                    "output_type": "display_data",
                    "data": {
                        "text/html": "Total execution time: 00:00:00.007"
                    },
                    "metadata": {}
                }
            ],
            "execution_count": 43
        },
        {
            "cell_type": "markdown",
            "source": [
                "# Create `[Location].[BuildingLocation]` Table"
            ],
            "metadata": {
                "language": "sql",
                "azdata_cell_guid": "d2f5146d-54d4-4483-ab08-f5061c0adff7"
            },
            "attachments": {}
        },
        {
            "cell_type": "code",
            "source": [
                "-- =============================================\r\n",
                "-- Author:\t\t< Daniel Gargiullo, Oksana Weigand-Suminski, Carlos Vega >\r\n",
                "-- Create date: < 12/5/2024 >\r\n",
                "-- Description:\t< Create the `[Location].[RoomLocation]` table >\r\n",
                "-- =============================================\r\n",
                "\r\n",
                "USE QueensClassSchedule\r\n",
                "GO\r\n",
                "\r\n",
                "CREATE  TABLE   [Location].[BuildingLocation]   (\r\n",
                "    [BuildingLocationID]    [Udt].[SurrogateKeyInt] IDENTITY(1,1)   NOT NULL \r\n",
                "        PRIMARY KEY CLUSTERED,\r\n",
                "    [CourseCode]            [Udt].[String30]              NOT NULL,\r\n",
                "    [Description]           [Udt].[String100]                      NULL,\r\n",
                "    [Building]              [Udt].[String30]              NOT NULL,\r\n",
                "    [Day]                   [Udt].[String30]                  NULL,\r\n",
                "    -- Required fields for all tables:\r\n",
                "    [UserAuthorizationKey]  [Udt].[SurrogateKeyInt]                     NULL,\r\n",
                "    [DateAdded]             [Udt].[DateAdded]                           NULL,\r\n",
                "    [DateOfLastUpdate]      [Udt].[DateAdded]                           NULL\r\n",
                ");"
            ],
            "metadata": {
                "language": "sql",
                "azdata_cell_guid": "2ae624f4-e890-4b24-9489-1aec64f46181",
                "tags": []
            },
            "outputs": [
                {
                    "output_type": "display_data",
                    "data": {
                        "text/html": "Commands completed successfully."
                    },
                    "metadata": {}
                },
                {
                    "output_type": "display_data",
                    "data": {
                        "text/html": "Commands completed successfully."
                    },
                    "metadata": {}
                },
                {
                    "output_type": "display_data",
                    "data": {
                        "text/html": "Total execution time: 00:00:00.007"
                    },
                    "metadata": {}
                }
            ],
            "execution_count": 44
        },
        {
            "cell_type": "markdown",
            "source": [
                "# Create `[Location].[RoomLocation]` Table"
            ],
            "metadata": {
                "language": "sql",
                "azdata_cell_guid": "88b7ab3a-8848-4013-bc6b-de2365a59759"
            },
            "attachments": {}
        },
        {
            "cell_type": "code",
            "source": [
                "-- =============================================\r\n",
                "-- Author:\t\t< Daniel Gargiullo, Oksana Weigand-Suminski, Carlos Vega >\r\n",
                "-- Create date: < 12/5/2024 >\r\n",
                "-- Description:\t< Create the `[Location].[RoomLocation]` table >\r\n",
                "-- =============================================\r\n",
                "\r\n",
                "USE QueensClassSchedule\r\n",
                "GO\r\n",
                "\r\n",
                "CREATE  TABLE   [Location].[RoomLocation]   (\r\n",
                "\t[RoomLocationID]        [Udt].[SurrogateKeyInt] IDENTITY(1,1)   NOT NULL\r\n",
                "        PRIMARY KEY CLUSTERED,\r\n",
                "    [Room]                  [Udt].[String30]              NOT NULL,\r\n",
                "    [Time]                  [Udt].[String20]                        NOT NULL,\r\n",
                "    [Day]                   [Udt].[String20]                        NOT NULL,\r\n",
                "\t[BuildingLocationID]    [Udt].[SurrogateKeyInt]                 NOT NULL,\r\n",
                "    -- Required fields for all tables:\r\n",
                "\t[UserAuthorizationKey]  [Udt].[SurrogateKeyInt]                     NULL,\r\n",
                "\t[DateAdded]             [Udt].[DateAdded]                           NULL,\r\n",
                "\t[DateOfLastUpdate]      [Udt].[DateAdded]                           NULL\r\n",
                ");"
            ],
            "metadata": {
                "language": "sql",
                "azdata_cell_guid": "4a809366-8eb7-4649-9c15-6d4010faaea1",
                "tags": []
            },
            "outputs": [
                {
                    "output_type": "display_data",
                    "data": {
                        "text/html": "Commands completed successfully."
                    },
                    "metadata": {}
                },
                {
                    "output_type": "display_data",
                    "data": {
                        "text/html": "Commands completed successfully."
                    },
                    "metadata": {}
                },
                {
                    "output_type": "display_data",
                    "data": {
                        "text/html": "Total execution time: 00:00:00.007"
                    },
                    "metadata": {}
                }
            ],
            "execution_count": 45
        },
        {
            "cell_type": "markdown",
            "source": [
                "# Create `[Department].[Department]` Table"
            ],
            "metadata": {
                "language": "sql",
                "azdata_cell_guid": "f46af745-6e6f-4fa3-912a-8ff18df0999c"
            },
            "attachments": {}
        },
        {
            "cell_type": "code",
            "source": [
                "-- =============================================\r\n",
                "-- Author:\t\t< Daniel Gargiullo, Oksana Weigand-Suminski, Carlos Vega >\r\n",
                "-- Create date: < 12/5/2024 >\r\n",
                "-- Description:\t< Create the `[Location].[RoomLocation]` table >\r\n",
                "-- =============================================\r\n",
                "\r\n",
                "USE QueensClassSchedule\r\n",
                "GO\r\n",
                "\r\n",
                "-- Create the Department table\r\n",
                "CREATE TABLE [Department].[Department] (\r\n",
                "    [DepartmentID]  [Udt].[SurrogateKeyInt] IDENTITY(1,1)   NOT NULL\r\n",
                "        PRIMARY KEY CLUSTERED,\r\n",
                "    [InstructorID]  [Udt].[SurrogateKeyInt]    NOT NULL,\r\n",
                "    [DepartmentName] [Udt].[String8] NOT NULL UNIQUE,\r\n",
                "    -- Required fields for all tables:\r\n",
                "\t[UserAuthorizationKey]  [Udt].[SurrogateKeyInt]                     NULL,\r\n",
                "\t[DateAdded]             [Udt].[DateAdded]                           NULL,\r\n",
                "\t[DateOfLastUpdate]      [Udt].[DateAdded]                           NULL\r\n",
                ");\r\n",
                "GO\r\n",
                "\r\n",
                "-- Insert department names into the Department table\r\n",
                "-- INSERT INTO [Department].[Department] (DepartmentName)\r\n",
                "-- SELECT DISTINCT\r\n",
                "--     LEFT([Course (hr, crd)], CHARINDEX(' ', [Course (hr, crd)]) - 1)\r\n",
                "-- FROM [Uploadfile].[CurrentSemesterCourseOfferings]\r\n",
                "-- WHERE [Course (hr, crd)] IS NOT NULL AND CHARINDEX(' ', [Course (hr, crd)]) > 0;\r\n",
                "-- GO\r\n",
                ""
            ],
            "metadata": {
                "language": "sql",
                "azdata_cell_guid": "43765a91-8169-4474-995c-429a9e82c707"
            },
            "outputs": [
                {
                    "output_type": "display_data",
                    "data": {
                        "text/html": "Commands completed successfully."
                    },
                    "metadata": {}
                },
                {
                    "output_type": "display_data",
                    "data": {
                        "text/html": "Commands completed successfully."
                    },
                    "metadata": {}
                },
                {
                    "output_type": "display_data",
                    "data": {
                        "text/html": "Commands completed successfully."
                    },
                    "metadata": {}
                },
                {
                    "output_type": "display_data",
                    "data": {
                        "text/html": "Total execution time: 00:00:00.007"
                    },
                    "metadata": {}
                }
            ],
            "execution_count": 50
        },
        {
            "cell_type": "markdown",
            "source": [
                "# Create `[Department].[Instructor]` Table"
            ],
            "metadata": {
                "language": "sql",
                "azdata_cell_guid": "4c8bb17a-d2fd-4813-a8a0-b68fc283d950"
            },
            "attachments": {}
        },
        {
            "cell_type": "code",
            "source": [
                "USE QueensClassSchedule\r\n",
                "GO\r\n",
                "\r\n",
                "CREATE TABLE [Department].[Instructor] (\r\n",
                "    [InstructorID]  [Udt].[SurrogateKeyInt] IDENTITY(1,1)   NOT NULL\r\n",
                "        PRIMARY KEY CLUSTERED,\r\n",
                "    [DepartmentID]  [Udt].[SurrogateKeyInt]    NOT NULL,\r\n",
                "    [FirstName] [Udt].[String30] NOT NULL,\r\n",
                "    [LastName] [Udt].[String30]   NOT NULL,\r\n",
                "    -- Required fields for all tables:\r\n",
                "\t[UserAuthorizationKey]  [Udt].[SurrogateKeyInt]                     NULL,\r\n",
                "\t[DateAdded]             [Udt].[DateAdded]                           NULL,\r\n",
                "\t[DateOfLastUpdate]      [Udt].[DateAdded]                           NULL\r\n",
                ");\r\n",
                "GO"
            ],
            "metadata": {
                "language": "sql",
                "azdata_cell_guid": "b22ad402-a859-43c2-a13e-c448cfcef6ef"
            },
            "outputs": [
                {
                    "output_type": "display_data",
                    "data": {
                        "text/html": "Commands completed successfully."
                    },
                    "metadata": {}
                },
                {
                    "output_type": "display_data",
                    "data": {
                        "text/html": "Commands completed successfully."
                    },
                    "metadata": {}
                },
                {
                    "output_type": "display_data",
                    "data": {
                        "text/html": "Total execution time: 00:00:00.006"
                    },
                    "metadata": {}
                }
            ],
            "execution_count": 53
        }
    ]
}