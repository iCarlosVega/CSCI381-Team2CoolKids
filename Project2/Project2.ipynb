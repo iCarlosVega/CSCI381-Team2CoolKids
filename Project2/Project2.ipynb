{
    "metadata": {
        "kernelspec": {
            "name": "SQL",
            "display_name": "SQL",
            "language": "sql"
        },
        "language_info": {
            "name": "sql",
            "version": ""
        }
    },
    "nbformat_minor": 2,
    "nbformat": 4,
    "cells": [
        {
            "cell_type": "markdown",
            "source": [
                "## Process `FileUpload.OriginallyLoadedData` table into the `ParsedFileUpload.OriginallyLoadedData` table:\r\n",
                ""
            ],
            "metadata": {
                "azdata_cell_guid": "06c89eb9-66b9-45fa-8285-22e6f761860b"
            },
            "attachments": {}
        },
        {
            "cell_type": "code",
            "source": [
                "/* Author: Daniel Gargiullo */\r\n",
                "USE BIClass\r\n",
                "GO\r\n",
                "\r\n",
                "SELECT\r\n",
                "    *\r\n",
                "    INTO\r\n",
                "        FileUpload.ParsedOriginallyLoadedData\r\n",
                "FROM\r\n",
                "    FileUpload.OriginallyLoadedData;"
            ],
            "metadata": {
                "language": "sql",
                "azdata_cell_guid": "8d4db055-8e95-4dd1-a892-939b0ebfc390",
                "tags": []
            },
            "outputs": [
                {
                    "output_type": "display_data",
                    "data": {
                        "text/html": "Commands completed successfully."
                    },
                    "metadata": {}
                },
                {
                    "output_type": "display_data",
                    "data": {
                        "text/html": "(60398 rows affected)"
                    },
                    "metadata": {}
                },
                {
                    "output_type": "display_data",
                    "data": {
                        "text/html": "Total execution time: 00:00:01.519"
                    },
                    "metadata": {}
                }
            ],
            "execution_count": 33
        },
        {
            "cell_type": "markdown",
            "source": [
                "## Create a new table `DbSecurity.UserAuthorization` in this project for adding the users who worked on the project:"
            ],
            "metadata": {
                "language": "sql",
                "azdata_cell_guid": "aeeb99db-ed30-4053-b105-1fe76278a449"
            },
            "attachments": {}
        },
        {
            "cell_type": "code",
            "source": [
                "/* Author: Daniel Gargiullo */\r\n",
                "USE BIClass\r\n",
                "GO\r\n",
                "\r\n",
                "CREATE  SCHEMA  DbSecurity\r\n",
                "\r\n",
                "CREATE  TABLE   DbSecurity.UserAuthorization    (\r\n",
                "    UserAuthorizationKey    INT             NOT NULL    PRIMARY KEY,\r\n",
                "    ClassTime               NCHAR(5)            NULL    DEFAULT '10:45',\r\n",
                "    IndividualProject       NVARCHAR(60)        NULL    DEFAULT 'PROJECT 2 RECREATE THE BICLASS DATABASE STAR SCHEMA',\r\n",
                "    GroupMemberLastName     NVARCHAR(35)    NOT NULL,\r\n",
                "    GroupMemberFirstName    NVARCHAR(25)    NOT NULL,\r\n",
                "    GroupName               NVARCHAR(20)    NOT NULL    DEFAULT 'Group 2',\r\n",
                "    DateAdded               DATETIME2           NULL    DEFAULT SYSDATETIME()\r\n",
                ");"
            ],
            "metadata": {
                "language": "sql",
                "azdata_cell_guid": "74657777-d238-426c-b612-c469fa76a366",
                "tags": []
            },
            "outputs": [
                {
                    "output_type": "display_data",
                    "data": {
                        "text/html": "Commands completed successfully."
                    },
                    "metadata": {}
                },
                {
                    "output_type": "display_data",
                    "data": {
                        "text/html": "Commands completed successfully."
                    },
                    "metadata": {}
                },
                {
                    "output_type": "display_data",
                    "data": {
                        "text/html": "Total execution time: 00:00:00.009"
                    },
                    "metadata": {}
                }
            ],
            "execution_count": 34
        },
        {
            "cell_type": "markdown",
            "source": [
                "## Insert group member names into the `DbSecurity.UserAuthorization` table:"
            ],
            "metadata": {
                "language": "sql",
                "azdata_cell_guid": "0002a2c9-cad5-4897-99c4-bdae34d2dee2"
            },
            "attachments": {}
        },
        {
            "cell_type": "code",
            "source": [
                "/* Author: Daniel Gargiullo */\r\n",
                "USE BIClass\r\n",
                "GO\r\n",
                "\r\n",
                "INSERT  INTO    DbSecurity.UserAuthorization   \r\n",
                "    (UserAuthorizationKey, ClassTime, IndividualProject, GroupMemberLastName, GroupMemberFirstName, GroupName, DateAdded)\r\n",
                "    VALUES\r\n",
                "        (1, DEFAULT, DEFAULT, 'Gargiullo'           , 'Daniel'      , DEFAULT, DEFAULT),\r\n",
                "        (2, DEFAULT, DEFAULT, 'Vega'                , 'Carlos'      , DEFAULT, DEFAULT),\r\n",
                "        (3, DEFAULT, DEFAULT, 'Ali'                 , 'Sarmad'      , DEFAULT, DEFAULT),\r\n",
                "        (4, DEFAULT, DEFAULT, 'Weigand-Suminski'    , 'Oksana'      , DEFAULT, DEFAULT),\r\n",
                "        (5, DEFAULT, DEFAULT, 'Singh'               , 'Jaschiran'   , DEFAULT, DEFAULT),\r\n",
                "        (6, DEFAULT, DEFAULT, 'Na'                  , 'Augusta'     , DEFAULT, DEFAULT);"
            ],
            "metadata": {
                "language": "sql",
                "azdata_cell_guid": "d1476641-c078-4a05-b6f1-12c77953bf68",
                "tags": []
            },
            "outputs": [
                {
                    "output_type": "display_data",
                    "data": {
                        "text/html": "Commands completed successfully."
                    },
                    "metadata": {}
                },
                {
                    "output_type": "display_data",
                    "data": {
                        "text/html": "(6 rows affected)"
                    },
                    "metadata": {}
                },
                {
                    "output_type": "display_data",
                    "data": {
                        "text/html": "Total execution time: 00:00:00.008"
                    },
                    "metadata": {}
                }
            ],
            "execution_count": 35
        },
        {
            "cell_type": "markdown",
            "source": [
                "## Create a new schema called `Process`, and a table called `WorkflowSteps`:"
            ],
            "metadata": {
                "language": "sql",
                "azdata_cell_guid": "8d11dc37-57f2-48a3-809e-d9a6f543d5e0"
            },
            "attachments": {}
        },
        {
            "cell_type": "code",
            "source": [
                "/* Author: Daniel Gargiullo */\r\n",
                "USE BIClass\r\n",
                "GO\r\n",
                "\r\n",
                "CREATE  SCHEMA  Process\r\n",
                "\r\n",
                "CREATE  TABLE   Process.WorkflowSteps   (\r\n",
                "    WorkflowStepKey             INT             NOT NULL    PRIMARY KEY,\r\n",
                "    UserAuthorizationKey        INT             NOT NULL    FOREIGN KEY REFERENCES  DbSecurity.UserAuthorization(UserAuthorizationKey),\r\n",
                "    WorkFlowStepDescription     NVARCHAR(100)   NOT NULL,\r\n",
                "    WorkFlowStepTableRowCount   INT                 NULL    DEFAULT 0,\r\n",
                "    StartingDateTime            DATETIME2(7)        NULL    DEFAULT SYSDATETIME(),\r\n",
                "    EndingDateTime              DATETIME2(7)        NULL    DEFAULT SYSDATETIME(),\r\n",
                "    ClassTime                   CHAR(5)             NULL    DEFAULT '10:45'\r\n",
                ");"
            ],
            "metadata": {
                "language": "sql",
                "azdata_cell_guid": "2c253a98-861b-4600-8922-2d61942ea2d8"
            },
            "outputs": [
                {
                    "output_type": "display_data",
                    "data": {
                        "text/html": "Commands completed successfully."
                    },
                    "metadata": {}
                },
                {
                    "output_type": "display_data",
                    "data": {
                        "text/html": "Commands completed successfully."
                    },
                    "metadata": {}
                },
                {
                    "output_type": "display_data",
                    "data": {
                        "text/html": "Total execution time: 00:00:00.009"
                    },
                    "metadata": {}
                }
            ],
            "execution_count": 36
        },
        {
            "cell_type": "markdown",
            "source": [
                "## Modify pre-existing tables according to project specifications.\r\n",
                "### Each table will be given three (3) and two (2) new constraints:\r\n",
                "#### Columns\r\n",
                "- `UserAuthorizationKey`\r\n",
                "    - This is so that we eliminate the identity key and instead use sequence objects in its place.\r\n",
                "- `DateAdded`\r\n",
                "- `DateOfLastUpdate`\r\n",
                "#### Constraints\r\n",
                "- `DF_DimCustomer_DateAdded`\r\n",
                "- `DF_DimCustomer_DateOfLastUpdate`"
            ],
            "metadata": {
                "language": "sql",
                "azdata_cell_guid": "a7bf1e73-2106-47f5-924b-1d35f09f46e9"
            },
            "attachments": {}
        },
        {
            "cell_type": "code",
            "source": [
                "/* Author: Daniel Gargiullo */\r\n",
                "USE BIClass;\r\n",
                "\r\n",
                "ALTER   TABLE   [CH01-01-Dimension].DimCustomer\r\n",
                "    ADD\r\n",
                "        DateAdded                       DATETIME2   NULL\r\n",
                "            CONSTRAINT  DF_DimCustomer_DateAdded        DEFAULT (SYSDATETIME()),\r\n",
                "        DateOfLastUpdate                DATETIME2   NULL\r\n",
                "            CONSTRAINT  DF_DimCustomer_DateOfLastUpdate DEFAULT (SYSDATETIME());\r\n",
                "GO"
            ],
            "metadata": {
                "language": "sql",
                "azdata_cell_guid": "cf40dbfd-92c9-4aba-b51f-6b1af7e3df8f",
                "tags": []
            },
            "outputs": [
                {
                    "output_type": "display_data",
                    "data": {
                        "text/html": "Commands completed successfully."
                    },
                    "metadata": {}
                },
                {
                    "output_type": "display_data",
                    "data": {
                        "text/html": "Total execution time: 00:00:00.008"
                    },
                    "metadata": {}
                }
            ],
            "execution_count": 37
        },
        {
            "cell_type": "code",
            "source": [
                "/* Author: Daniel Gargiullo */\r\n",
                "USE BIClass;\r\n",
                "\r\n",
                "ALTER   TABLE   [CH01-01-Dimension].DimCustomer\r\n",
                "    ADD\r\n",
                "        UserAuthorizationKey    INT NOT NULL    DEFAULT -1\r\n",
                "GO"
            ],
            "metadata": {
                "language": "sql",
                "azdata_cell_guid": "933b8a68-6a70-4100-beba-2c2b795c8a9a"
            },
            "outputs": [
                {
                    "output_type": "display_data",
                    "data": {
                        "text/html": "Commands completed successfully."
                    },
                    "metadata": {}
                },
                {
                    "output_type": "display_data",
                    "data": {
                        "text/html": "Total execution time: 00:00:00.006"
                    },
                    "metadata": {}
                }
            ],
            "execution_count": 38
        },
        {
            "cell_type": "code",
            "source": [
                "/* Author: Daniel Gargiullo */\r\n",
                "USE BIClass;\r\n",
                "\r\n",
                "ALTER   TABLE   [CH01-01-Dimension].DimGender\r\n",
                "    ADD\r\n",
                "        DateAdded                       DATETIME2   NULL\r\n",
                "            CONSTRAINT  DF_DimGender_DateAdded        DEFAULT (SYSDATETIME()),\r\n",
                "        DateOfLastUpdate                DATETIME2   NULL\r\n",
                "            CONSTRAINT  DF_DimGender_DateOfLastUpdate DEFAULT (SYSDATETIME());\r\n",
                "GO"
            ],
            "metadata": {
                "language": "sql",
                "azdata_cell_guid": "33913428-6fe2-4976-b4e3-89e689f46692"
            },
            "outputs": [
                {
                    "output_type": "display_data",
                    "data": {
                        "text/html": "Commands completed successfully."
                    },
                    "metadata": {}
                },
                {
                    "output_type": "display_data",
                    "data": {
                        "text/html": "Total execution time: 00:00:00.006"
                    },
                    "metadata": {}
                }
            ],
            "execution_count": 40
        },
        {
            "cell_type": "code",
            "source": [
                "/* Author: Daniel Gargiullo */\r\n",
                "USE BIClass;\r\n",
                "\r\n",
                "ALTER   TABLE   [CH01-01-Dimension].DimGender\r\n",
                "    ADD\r\n",
                "        UserAuthorizationKey    INT NOT NULL    DEFAULT -1\r\n",
                "GO"
            ],
            "metadata": {
                "language": "sql",
                "azdata_cell_guid": "e531c7d6-a15f-43e0-91d3-be0a2a642369"
            },
            "outputs": [
                {
                    "output_type": "display_data",
                    "data": {
                        "text/html": "Commands completed successfully."
                    },
                    "metadata": {}
                },
                {
                    "output_type": "display_data",
                    "data": {
                        "text/html": "Total execution time: 00:00:00.006"
                    },
                    "metadata": {}
                }
            ],
            "execution_count": 41
        },
        {
            "cell_type": "code",
            "source": [
                "/* Author: Daniel Gargiullo */\r\n",
                "USE BIClass;\r\n",
                "\r\n",
                "ALTER   TABLE   [CH01-01-Dimension].DimMaritalStatus\r\n",
                "    ADD\r\n",
                "        DateAdded                       DATETIME2   NULL\r\n",
                "            CONSTRAINT  DF_DimMaritalStatus_DateAdded        DEFAULT (SYSDATETIME()),\r\n",
                "        DateOfLastUpdate                DATETIME2   NULL\r\n",
                "            CONSTRAINT  DF_DimMaritalStatus_DateOfLastUpdate DEFAULT (SYSDATETIME());\r\n",
                "GO"
            ],
            "metadata": {
                "language": "sql",
                "azdata_cell_guid": "6d3d8baa-556b-4e1c-91a1-9a257224f386"
            },
            "outputs": [
                {
                    "output_type": "display_data",
                    "data": {
                        "text/html": "Commands completed successfully."
                    },
                    "metadata": {}
                },
                {
                    "output_type": "display_data",
                    "data": {
                        "text/html": "Total execution time: 00:00:00.007"
                    },
                    "metadata": {}
                }
            ],
            "execution_count": 42
        },
        {
            "cell_type": "code",
            "source": [
                "/* Author: Daniel Gargiullo */\r\n",
                "USE BIClass;\r\n",
                "\r\n",
                "ALTER   TABLE   [CH01-01-Dimension].DimMaritalStatus\r\n",
                "    ADD\r\n",
                "        UserAuthorizationKey    INT NOT NULL    DEFAULT -1\r\n",
                "GO"
            ],
            "metadata": {
                "language": "sql",
                "azdata_cell_guid": "380116fc-04f8-40bd-8b27-0b9e5d7496e4"
            },
            "outputs": [
                {
                    "output_type": "display_data",
                    "data": {
                        "text/html": "Commands completed successfully."
                    },
                    "metadata": {}
                },
                {
                    "output_type": "display_data",
                    "data": {
                        "text/html": "Total execution time: 00:00:00.007"
                    },
                    "metadata": {}
                }
            ],
            "execution_count": 43
        },
        {
            "cell_type": "code",
            "source": [
                "/* Author: Daniel Gargiullo */\r\n",
                "USE BIClass;\r\n",
                "\r\n",
                "ALTER   TABLE   [CH01-01-Dimension].DimOccupation\r\n",
                "    ADD\r\n",
                "        DateAdded                       DATETIME2   NULL\r\n",
                "            CONSTRAINT  DF_DimOccupation_DateAdded        DEFAULT (SYSDATETIME()),\r\n",
                "        DateOfLastUpdate                DATETIME2   NULL\r\n",
                "            CONSTRAINT  DF_DimOccupation_DateOfLastUpdate DEFAULT (SYSDATETIME());\r\n",
                "GO"
            ],
            "metadata": {
                "language": "sql",
                "azdata_cell_guid": "675cc233-34cc-4f8c-ab40-84d86598a90a"
            },
            "outputs": [
                {
                    "output_type": "display_data",
                    "data": {
                        "text/html": "Commands completed successfully."
                    },
                    "metadata": {}
                },
                {
                    "output_type": "display_data",
                    "data": {
                        "text/html": "Total execution time: 00:00:00.007"
                    },
                    "metadata": {}
                }
            ],
            "execution_count": 44
        },
        {
            "cell_type": "code",
            "source": [
                "/* Author: Daniel Gargiullo */\r\n",
                "USE BIClass;\r\n",
                "\r\n",
                "ALTER   TABLE   [CH01-01-Dimension].DimOccupation\r\n",
                "    ADD\r\n",
                "        UserAuthorizationKey    INT NOT NULL    DEFAULT -1\r\n",
                "GO"
            ],
            "metadata": {
                "language": "sql",
                "azdata_cell_guid": "b2eb9138-a9bb-4b0a-8d97-044a5988c4b9"
            },
            "outputs": [
                {
                    "output_type": "display_data",
                    "data": {
                        "text/html": "Commands completed successfully."
                    },
                    "metadata": {}
                },
                {
                    "output_type": "display_data",
                    "data": {
                        "text/html": "Total execution time: 00:00:00.007"
                    },
                    "metadata": {}
                }
            ],
            "execution_count": 45
        },
        {
            "cell_type": "code",
            "source": [
                "/* Author: Daniel Gargiullo */\r\n",
                "USE BIClass;\r\n",
                "\r\n",
                "ALTER   TABLE   [CH01-01-Dimension].DimOrderDate\r\n",
                "    ADD\r\n",
                "        DateAdded                       DATETIME2   NULL\r\n",
                "            CONSTRAINT  DF_DimOrderDate_DateAdded        DEFAULT (SYSDATETIME()),\r\n",
                "        DateOfLastUpdate                DATETIME2   NULL\r\n",
                "            CONSTRAINT  DF_DimOrderDate_DateOfLastUpdate DEFAULT (SYSDATETIME());\r\n",
                "GO"
            ],
            "metadata": {
                "language": "sql",
                "azdata_cell_guid": "24fd5416-ef83-453e-9a4a-2bf85579390c"
            },
            "outputs": [
                {
                    "output_type": "display_data",
                    "data": {
                        "text/html": "Commands completed successfully."
                    },
                    "metadata": {}
                },
                {
                    "output_type": "display_data",
                    "data": {
                        "text/html": "Total execution time: 00:00:00.007"
                    },
                    "metadata": {}
                }
            ],
            "execution_count": 46
        },
        {
            "cell_type": "code",
            "source": [
                "/* Author: Daniel Gargiullo */\r\n",
                "USE BIClass;\r\n",
                "\r\n",
                "ALTER   TABLE   [CH01-01-Dimension].DimOrderDate\r\n",
                "    ADD\r\n",
                "        UserAuthorizationKey    INT NOT NULL    DEFAULT -1\r\n",
                "GO"
            ],
            "metadata": {
                "language": "sql",
                "azdata_cell_guid": "9e9be655-dd65-43dd-b8fb-0f7a74b67b8b"
            },
            "outputs": [
                {
                    "output_type": "display_data",
                    "data": {
                        "text/html": "Commands completed successfully."
                    },
                    "metadata": {}
                },
                {
                    "output_type": "display_data",
                    "data": {
                        "text/html": "Total execution time: 00:00:00.006"
                    },
                    "metadata": {}
                }
            ],
            "execution_count": 47
        },
        {
            "cell_type": "code",
            "source": [
                "/* Author: Daniel Gargiullo */\r\n",
                "USE BIClass;\r\n",
                "\r\n",
                "ALTER   TABLE   [CH01-01-Dimension].DimProduct\r\n",
                "    ADD\r\n",
                "        DateAdded                       DATETIME2   NULL\r\n",
                "            CONSTRAINT  DF_DimProduct_DateAdded        DEFAULT (SYSDATETIME()),\r\n",
                "        DateOfLastUpdate                DATETIME2   NULL\r\n",
                "            CONSTRAINT  DF_DimProduct_DateOfLastUpdate DEFAULT (SYSDATETIME());\r\n",
                "GO"
            ],
            "metadata": {
                "language": "sql",
                "azdata_cell_guid": "38153939-e63e-416e-b0d0-0518590e58a9"
            },
            "outputs": [
                {
                    "output_type": "display_data",
                    "data": {
                        "text/html": "Commands completed successfully."
                    },
                    "metadata": {}
                },
                {
                    "output_type": "display_data",
                    "data": {
                        "text/html": "Total execution time: 00:00:00.006"
                    },
                    "metadata": {}
                }
            ],
            "execution_count": 48
        },
        {
            "cell_type": "code",
            "source": [
                "/* Author: Daniel Gargiullo */\r\n",
                "USE BIClass;\r\n",
                "\r\n",
                "ALTER   TABLE   [CH01-01-Dimension].DimProduct\r\n",
                "    ADD\r\n",
                "        UserAuthorizationKey    INT NOT NULL    DEFAULT -1\r\n",
                "GO"
            ],
            "metadata": {
                "language": "sql",
                "azdata_cell_guid": "698d8992-f3e6-4e4c-b592-3240e432d69a"
            },
            "outputs": [
                {
                    "output_type": "display_data",
                    "data": {
                        "text/html": "Commands completed successfully."
                    },
                    "metadata": {}
                },
                {
                    "output_type": "display_data",
                    "data": {
                        "text/html": "Total execution time: 00:00:00.005"
                    },
                    "metadata": {}
                }
            ],
            "execution_count": 49
        },
        {
            "cell_type": "code",
            "source": [
                "/* Author: Daniel Gargiullo */\r\n",
                "USE BIClass;\r\n",
                "\r\n",
                "ALTER   TABLE   [CH01-01-Dimension].DimTerritory\r\n",
                "    ADD\r\n",
                "        DateAdded                       DATETIME2   NULL\r\n",
                "            CONSTRAINT  DF_DimTerritory_DateAdded        DEFAULT (SYSDATETIME()),\r\n",
                "        DateOfLastUpdate                DATETIME2   NULL\r\n",
                "            CONSTRAINT  DF_DimTerritory_DateOfLastUpdate DEFAULT (SYSDATETIME());\r\n",
                "GO"
            ],
            "metadata": {
                "language": "sql",
                "azdata_cell_guid": "d6196b82-becf-431e-994e-9b1d3f0fa4c9"
            },
            "outputs": [
                {
                    "output_type": "display_data",
                    "data": {
                        "text/html": "Commands completed successfully."
                    },
                    "metadata": {}
                },
                {
                    "output_type": "display_data",
                    "data": {
                        "text/html": "Total execution time: 00:00:00.007"
                    },
                    "metadata": {}
                }
            ],
            "execution_count": 50
        },
        {
            "cell_type": "code",
            "source": [
                "/* Author: Daniel Gargiullo */\r\n",
                "USE BIClass;\r\n",
                "\r\n",
                "ALTER   TABLE   [CH01-01-Dimension].DimTerritory\r\n",
                "    ADD\r\n",
                "        UserAuthorizationKey    INT NOT NULL    DEFAULT -1\r\n",
                "GO"
            ],
            "metadata": {
                "language": "sql",
                "azdata_cell_guid": "55c57493-5815-43a0-9002-7d873016624d"
            },
            "outputs": [
                {
                    "output_type": "display_data",
                    "data": {
                        "text/html": "Commands completed successfully."
                    },
                    "metadata": {}
                },
                {
                    "output_type": "display_data",
                    "data": {
                        "text/html": "Total execution time: 00:00:00.006"
                    },
                    "metadata": {}
                }
            ],
            "execution_count": 51
        },
        {
            "cell_type": "code",
            "source": [
                "/* Author: Daniel Gargiullo */\r\n",
                "USE BIClass;\r\n",
                "\r\n",
                "ALTER   TABLE   [CH01-01-Dimension].SalesManagers\r\n",
                "    ADD\r\n",
                "        DateAdded                       DATETIME2   NULL\r\n",
                "            CONSTRAINT  DF_SalesManagers_DateAdded        DEFAULT (SYSDATETIME()),\r\n",
                "        DateOfLastUpdate                DATETIME2   NULL\r\n",
                "            CONSTRAINT  DF_SalesManagers_DateOfLastUpdate DEFAULT (SYSDATETIME());\r\n",
                "GO"
            ],
            "metadata": {
                "language": "sql",
                "azdata_cell_guid": "9deeb3f9-a4db-4b15-8b12-f09881919201"
            },
            "outputs": [
                {
                    "output_type": "display_data",
                    "data": {
                        "text/html": "Commands completed successfully."
                    },
                    "metadata": {}
                },
                {
                    "output_type": "display_data",
                    "data": {
                        "text/html": "Total execution time: 00:00:00.007"
                    },
                    "metadata": {}
                }
            ],
            "execution_count": 53
        },
        {
            "cell_type": "code",
            "source": [
                "/* Author: Daniel Gargiullo */\r\n",
                "USE BIClass;\r\n",
                "\r\n",
                "ALTER   TABLE   [CH01-01-Dimension].SalesManagers\r\n",
                "    ADD\r\n",
                "        UserAuthorizationKey    INT NOT NULL    DEFAULT -1\r\n",
                "GO"
            ],
            "metadata": {
                "language": "sql",
                "azdata_cell_guid": "39e801e8-bc6b-46c1-9591-c790cd0ebd84"
            },
            "outputs": [
                {
                    "output_type": "display_data",
                    "data": {
                        "text/html": "Commands completed successfully."
                    },
                    "metadata": {}
                },
                {
                    "output_type": "display_data",
                    "data": {
                        "text/html": "Total execution time: 00:00:00.014"
                    },
                    "metadata": {}
                }
            ],
            "execution_count": 54
        },
        {
            "cell_type": "code",
            "source": [
                "/* Author: Daniel Gargiullo */\r\n",
                "USE BIClass;\r\n",
                "\r\n",
                "ALTER   TABLE   [CH01-01-Fact].[Data]\r\n",
                "    ADD\r\n",
                "        DateAdded                       DATETIME2   NULL\r\n",
                "            CONSTRAINT  DF_FactData_DateAdded        DEFAULT (SYSDATETIME()),\r\n",
                "        DateOfLastUpdate                DATETIME2   NULL\r\n",
                "            CONSTRAINT  DF_FactData_DateOfLastUpdate DEFAULT (SYSDATETIME());\r\n",
                "GO"
            ],
            "metadata": {
                "language": "sql",
                "azdata_cell_guid": "a8d8ab35-c647-4b70-a56c-71e272e4772c"
            },
            "outputs": [
                {
                    "output_type": "display_data",
                    "data": {
                        "text/html": "Commands completed successfully."
                    },
                    "metadata": {}
                },
                {
                    "output_type": "display_data",
                    "data": {
                        "text/html": "Total execution time: 00:00:00.006"
                    },
                    "metadata": {}
                }
            ],
            "execution_count": 57
        },
        {
            "cell_type": "code",
            "source": [
                "/* Author: Daniel Gargiullo */\r\n",
                "USE BIClass;\r\n",
                "\r\n",
                "ALTER   TABLE   [CH01-01-Fact].[Data]\r\n",
                "    ADD\r\n",
                "        UserAuthorizationKey    INT NOT NULL    DEFAULT -1\r\n",
                "GO"
            ],
            "metadata": {
                "language": "sql",
                "azdata_cell_guid": "c643fa90-4ec4-4d84-96c5-3d6ebf19b5bd"
            },
            "outputs": [
                {
                    "output_type": "display_data",
                    "data": {
                        "text/html": "Commands completed successfully."
                    },
                    "metadata": {}
                },
                {
                    "output_type": "display_data",
                    "data": {
                        "text/html": "Total execution time: 00:00:00.006"
                    },
                    "metadata": {}
                }
            ],
            "execution_count": 58
        },
        {
            "cell_type": "markdown",
            "source": [
                "## Create the `DimProductCategory` and `DimProductSubcategory` tables:"
            ],
            "metadata": {
                "language": "sql",
                "azdata_cell_guid": "64a3bf2d-d9be-4cfb-a838-bf21554b8878"
            },
            "attachments": {}
        },
        {
            "cell_type": "code",
            "source": [
                "/* Author: Daniel Gargiullo */\r\n",
                "USE BIClass;\r\n",
                "\r\n",
                "CREATE  TABLE   [CH01-01-Dimension].[DimProductCategory]    (\r\n",
                "    ProductCategoryKey  INT         NOT NULL    PRIMARY KEY,\r\n",
                "    CategoryName        VARCHAR(20) NOT NULL\r\n",
                ");"
            ],
            "metadata": {
                "language": "sql",
                "azdata_cell_guid": "16188a90-17d5-40eb-a206-a56ca9f88807"
            },
            "outputs": [],
            "execution_count": null
        },
        {
            "cell_type": "code",
            "source": [
                "/* Author: Daniel Gargiullo */\r\n",
                "USE BIClass;\r\n",
                "\r\n",
                "CREATE TABLE [CH01-01-Dimension].[DimProductSubcategory] (\r\n",
                "    ProductSubcategoryKey   INT         NOT NULL    PRIMARY KEY,\r\n",
                "    ProductCategoryKey      INT         NOT NULL,\r\n",
                "    SubcategoryName         VARCHAR(20) NOT NULL,\r\n",
                "    FOREIGN KEY (ProductCategoryKey) REFERENCES [CH01-01-Dimension].[DimProductCategory](ProductCategoryKey)\r\n",
                ");"
            ],
            "metadata": {
                "language": "sql",
                "azdata_cell_guid": "e150b07f-72a8-41df-8fea-c6ecbeb666e1"
            },
            "outputs": [],
            "execution_count": null
        }
    ]
}