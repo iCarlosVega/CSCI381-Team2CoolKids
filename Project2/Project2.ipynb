{
    "metadata": {
        "kernelspec": {
            "name": "SQL",
            "display_name": "SQL",
            "language": "sql"
        },
        "language_info": {
            "name": "sql",
            "version": ""
        }
    },
    "nbformat_minor": 2,
    "nbformat": 4,
    "cells": [
        {
            "cell_type": "markdown",
            "source": [
                "## Process `FileUpload.OriginallyLoadedData` table into the `ParsedFileUpload.OriginallyLoadedData` table:\n"
            ],
            "metadata": {
                "azdata_cell_guid": "06c89eb9-66b9-45fa-8285-22e6f761860b"
            },
            "attachments": {}
        },
        {
            "cell_type": "code",
            "source": [
                "/* Author: Daniel Gargiullo */\n",
                "USE BIClass\n",
                "GO\n",
                "\n",
                "SELECT\n",
                "    *\n",
                "    INTO\n",
                "        FileUpload.ParsedOriginallyLoadedData\n",
                "FROM\n",
                "    FileUpload.OriginallyLoadedData;"
            ],
            "metadata": {
                "azdata_cell_guid": "8d4db055-8e95-4dd1-a892-939b0ebfc390",
                "language": "sql",
                "tags": []
            },
            "outputs": [
                {
                    "output_type": "display_data",
                    "data": {
                        "text/html": "Commands completed successfully."
                    },
                    "metadata": {}
                },
                {
                    "output_type": "display_data",
                    "data": {
                        "text/html": "(60398 rows affected)"
                    },
                    "metadata": {}
                },
                {
                    "output_type": "display_data",
                    "data": {
                        "text/html": "Total execution time: 00:00:00.068"
                    },
                    "metadata": {}
                }
            ],
            "execution_count": 1
        },
        {
            "cell_type": "markdown",
            "source": [
                "## Create a new table `DbSecurity.UserAuthorization` in this project for adding the users who worked on the project:"
            ],
            "metadata": {
                "azdata_cell_guid": "aeeb99db-ed30-4053-b105-1fe76278a449",
                "language": "sql"
            },
            "attachments": {}
        },
        {
            "cell_type": "code",
            "source": [
                "/* Author: Daniel Gargiullo */\n",
                "USE BIClass\n",
                "GO\n",
                "\n",
                "CREATE  SCHEMA  DbSecurity\n",
                "\n",
                "CREATE  TABLE   DbSecurity.UserAuthorization    (\n",
                "    UserAuthorizationKey    INT             NOT NULL    PRIMARY KEY,\n",
                "    ClassTime               NCHAR(5)            NULL    DEFAULT '10:45',\n",
                "    IndividualProject       NVARCHAR(60)        NULL    DEFAULT 'PROJECT 2 RECREATE THE BICLASS DATABASE STAR SCHEMA',\n",
                "    GroupMemberLastName     NVARCHAR(35)    NOT NULL,\n",
                "    GroupMemberFirstName    NVARCHAR(25)    NOT NULL,\n",
                "    GroupName               NVARCHAR(20)    NOT NULL    DEFAULT 'Group 2',\n",
                "    DateAdded               DATETIME2           NULL    DEFAULT SYSDATETIME()\n",
                ");"
            ],
            "metadata": {
                "azdata_cell_guid": "74657777-d238-426c-b612-c469fa76a366",
                "language": "sql",
                "tags": []
            },
            "outputs": [
                {
                    "output_type": "display_data",
                    "data": {
                        "text/html": "Commands completed successfully."
                    },
                    "metadata": {}
                },
                {
                    "output_type": "display_data",
                    "data": {
                        "text/html": "Commands completed successfully."
                    },
                    "metadata": {}
                },
                {
                    "output_type": "display_data",
                    "data": {
                        "text/html": "Total execution time: 00:00:00.015"
                    },
                    "metadata": {}
                }
            ],
            "execution_count": 2
        },
        {
            "cell_type": "markdown",
            "source": [
                "## Insert group member names into the `DbSecurity.UserAuthorization` table:"
            ],
            "metadata": {
                "azdata_cell_guid": "0002a2c9-cad5-4897-99c4-bdae34d2dee2",
                "language": "sql"
            },
            "attachments": {}
        },
        {
            "cell_type": "code",
            "source": [
                "/* Author: Daniel Gargiullo */\n",
                "USE BIClass\n",
                "GO\n",
                "\n",
                "INSERT  INTO    DbSecurity.UserAuthorization   \n",
                "    (UserAuthorizationKey, ClassTime, IndividualProject, GroupMemberLastName, GroupMemberFirstName, GroupName, DateAdded)\n",
                "    VALUES\n",
                "        (1, DEFAULT, DEFAULT, 'Gargiullo'           , 'Daniel'      , DEFAULT, DEFAULT),\n",
                "        (2, DEFAULT, DEFAULT, 'Vega'                , 'Carlos'      , DEFAULT, DEFAULT),\n",
                "        (3, DEFAULT, DEFAULT, 'Ali'                 , 'Sarmad'      , DEFAULT, DEFAULT),\n",
                "        (4, DEFAULT, DEFAULT, 'Weigand-Suminski'    , 'Oksana'      , DEFAULT, DEFAULT),\n",
                "        (5, DEFAULT, DEFAULT, 'Singh'               , 'Jaschiran'   , DEFAULT, DEFAULT),\n",
                "        (6, DEFAULT, DEFAULT, 'Na'                  , 'Augusta'     , DEFAULT, DEFAULT);"
            ],
            "metadata": {
                "azdata_cell_guid": "d1476641-c078-4a05-b6f1-12c77953bf68",
                "language": "sql",
                "tags": []
            },
            "outputs": [
                {
                    "output_type": "display_data",
                    "data": {
                        "text/html": "Commands completed successfully."
                    },
                    "metadata": {}
                },
                {
                    "output_type": "error",
                    "evalue": "Msg 2627, Level 14, State 1, Line 5\nViolation of PRIMARY KEY constraint 'PK__UserAuth__0FEC36CB1C34E98D'. Cannot insert duplicate key in object 'DbSecurity.UserAuthorization'. The duplicate key value is (1).",
                    "ename": "",
                    "traceback": []
                },
                {
                    "output_type": "display_data",
                    "data": {
                        "text/html": "The statement has been terminated."
                    },
                    "metadata": {}
                },
                {
                    "output_type": "display_data",
                    "data": {
                        "text/html": "Total execution time: 00:00:00.005"
                    },
                    "metadata": {}
                }
            ],
            "execution_count": 4
        },
        {
            "cell_type": "markdown",
            "source": [
                "## Create a new schema called `Process`, and a table called `WorkflowSteps`:"
            ],
            "metadata": {
                "azdata_cell_guid": "8d11dc37-57f2-48a3-809e-d9a6f543d5e0",
                "language": "sql"
            },
            "attachments": {}
        },
        {
            "cell_type": "code",
            "source": [
                "/* Author: Daniel Gargiullo */\n",
                "USE BIClass\n",
                "GO\n",
                "\n",
                "CREATE  SCHEMA  Process\n",
                "\n",
                "CREATE  TABLE   Process.WorkflowSteps   (\n",
                "    WorkflowStepKey             INT             NOT NULL    PRIMARY KEY,\n",
                "    UserAuthorizationKey        INT             NOT NULL    FOREIGN KEY REFERENCES  DbSecurity.UserAuthorization(UserAuthorizationKey),\n",
                "    WorkFlowStepDescription     NVARCHAR(100)   NOT NULL,\n",
                "    WorkFlowStepTableRowCount   INT                 NULL    DEFAULT 0,\n",
                "    StartingDateTime            DATETIME2(7)        NULL    DEFAULT SYSDATETIME(),\n",
                "    EndingDateTime              DATETIME2(7)        NULL    DEFAULT SYSDATETIME(),\n",
                "    ClassTime                   CHAR(5)             NULL    DEFAULT '10:45'\n",
                ");"
            ],
            "metadata": {
                "azdata_cell_guid": "2c253a98-861b-4600-8922-2d61942ea2d8",
                "language": "sql"
            },
            "outputs": [
                {
                    "output_type": "display_data",
                    "data": {
                        "text/html": "Commands completed successfully."
                    },
                    "metadata": {}
                },
                {
                    "output_type": "display_data",
                    "data": {
                        "text/html": "Commands completed successfully."
                    },
                    "metadata": {}
                },
                {
                    "output_type": "display_data",
                    "data": {
                        "text/html": "Total execution time: 00:00:00.018"
                    },
                    "metadata": {}
                }
            ],
            "execution_count": 5
        },
        {
            "cell_type": "markdown",
            "source": [
                "## Modify pre-existing tables according to project specifications.\n",
                "### Each table will be given three (3) and two (2) new constraints:\n",
                "#### Columns\n",
                "- `UserAuthorizationKey`\n",
                "    - This is so that we eliminate the identity key and instead use sequence objects in its place.\n",
                "- `DateAdded`\n",
                "- `DateOfLastUpdate`\n",
                "#### Constraints\n",
                "- `DF_DimCustomer_DateAdded`\n",
                "- `DF_DimCustomer_DateOfLastUpdate`"
            ],
            "metadata": {
                "azdata_cell_guid": "a7bf1e73-2106-47f5-924b-1d35f09f46e9",
                "language": "sql"
            },
            "attachments": {}
        },
        {
            "cell_type": "code",
            "source": [
                "/* Author: Daniel Gargiullo */\n",
                "USE BIClass;\n",
                "\n",
                "ALTER   TABLE   [CH01-01-Dimension].DimCustomer\n",
                "    ADD\n",
                "        DateAdded                       DATETIME2   NULL\n",
                "            CONSTRAINT  DF_DimCustomer_DateAdded        DEFAULT (SYSDATETIME()),\n",
                "        DateOfLastUpdate                DATETIME2   NULL\n",
                "            CONSTRAINT  DF_DimCustomer_DateOfLastUpdate DEFAULT (SYSDATETIME());\n",
                "GO"
            ],
            "metadata": {
                "azdata_cell_guid": "cf40dbfd-92c9-4aba-b51f-6b1af7e3df8f",
                "language": "sql",
                "tags": []
            },
            "outputs": [
                {
                    "output_type": "display_data",
                    "data": {
                        "text/html": "Commands completed successfully."
                    },
                    "metadata": {}
                },
                {
                    "output_type": "display_data",
                    "data": {
                        "text/html": "Total execution time: 00:00:00.011"
                    },
                    "metadata": {}
                }
            ],
            "execution_count": 6
        },
        {
            "cell_type": "code",
            "source": [
                "/* Author: Daniel Gargiullo */\n",
                "USE BIClass;\n",
                "\n",
                "ALTER   TABLE   [CH01-01-Dimension].DimCustomer\n",
                "    ADD\n",
                "        UserAuthorizationKey    INT NOT NULL    DEFAULT -1\n",
                "GO"
            ],
            "metadata": {
                "azdata_cell_guid": "933b8a68-6a70-4100-beba-2c2b795c8a9a",
                "language": "sql"
            },
            "outputs": [
                {
                    "output_type": "display_data",
                    "data": {
                        "text/html": "Commands completed successfully."
                    },
                    "metadata": {}
                },
                {
                    "output_type": "display_data",
                    "data": {
                        "text/html": "Total execution time: 00:00:00.062"
                    },
                    "metadata": {}
                }
            ],
            "execution_count": 7
        },
        {
            "cell_type": "code",
            "source": [
                "/* Author: Daniel Gargiullo */\n",
                "USE BIClass;\n",
                "\n",
                "ALTER   TABLE   [CH01-01-Dimension].DimGender\n",
                "    ADD\n",
                "        DateAdded                       DATETIME2   NULL\n",
                "            CONSTRAINT  DF_DimGender_DateAdded        DEFAULT (SYSDATETIME()),\n",
                "        DateOfLastUpdate                DATETIME2   NULL\n",
                "            CONSTRAINT  DF_DimGender_DateOfLastUpdate DEFAULT (SYSDATETIME());\n",
                "GO"
            ],
            "metadata": {
                "azdata_cell_guid": "33913428-6fe2-4976-b4e3-89e689f46692",
                "language": "sql"
            },
            "outputs": [
                {
                    "output_type": "error",
                    "evalue": "Msg 2705, Level 16, State 4, Line 4\nColumn names in each table must be unique. Column name 'DateAdded' in table 'CH01-01-Dimension.DimGender' is specified more than once.",
                    "ename": "",
                    "traceback": []
                },
                {
                    "output_type": "display_data",
                    "data": {
                        "text/html": "Total execution time: 00:00:00.004"
                    },
                    "metadata": {}
                }
            ],
            "execution_count": 9
        },
        {
            "cell_type": "code",
            "source": [
                "/* Author: Daniel Gargiullo */\n",
                "USE BIClass;\n",
                "\n",
                "ALTER   TABLE   [CH01-01-Dimension].DimGender\n",
                "    ADD\n",
                "        UserAuthorizationKey    INT NOT NULL    DEFAULT -1\n",
                "GO"
            ],
            "metadata": {
                "azdata_cell_guid": "e531c7d6-a15f-43e0-91d3-be0a2a642369",
                "language": "sql"
            },
            "outputs": [
                {
                    "output_type": "display_data",
                    "data": {
                        "text/html": "Commands completed successfully."
                    },
                    "metadata": {}
                },
                {
                    "output_type": "display_data",
                    "data": {
                        "text/html": "Total execution time: 00:00:00.012"
                    },
                    "metadata": {}
                }
            ],
            "execution_count": 10
        },
        {
            "cell_type": "code",
            "source": [
                "/* Author: Daniel Gargiullo */\n",
                "USE BIClass;\n",
                "\n",
                "ALTER   TABLE   [CH01-01-Dimension].DimMaritalStatus\n",
                "    ADD\n",
                "        DateAdded                       DATETIME2   NULL\n",
                "            CONSTRAINT  DF_DimMaritalStatus_DateAdded        DEFAULT (SYSDATETIME()),\n",
                "        DateOfLastUpdate                DATETIME2   NULL\n",
                "            CONSTRAINT  DF_DimMaritalStatus_DateOfLastUpdate DEFAULT (SYSDATETIME());\n",
                "GO"
            ],
            "metadata": {
                "azdata_cell_guid": "6d3d8baa-556b-4e1c-91a1-9a257224f386",
                "language": "sql"
            },
            "outputs": [
                {
                    "output_type": "display_data",
                    "data": {
                        "text/html": "Commands completed successfully."
                    },
                    "metadata": {}
                },
                {
                    "output_type": "display_data",
                    "data": {
                        "text/html": "Total execution time: 00:00:00.011"
                    },
                    "metadata": {}
                }
            ],
            "execution_count": 11
        },
        {
            "cell_type": "code",
            "source": [
                "/* Author: Daniel Gargiullo */\n",
                "USE BIClass;\n",
                "\n",
                "ALTER   TABLE   [CH01-01-Dimension].DimMaritalStatus\n",
                "    ADD\n",
                "        UserAuthorizationKey    INT NOT NULL    DEFAULT -1\n",
                "GO"
            ],
            "metadata": {
                "azdata_cell_guid": "380116fc-04f8-40bd-8b27-0b9e5d7496e4",
                "language": "sql"
            },
            "outputs": [
                {
                    "output_type": "display_data",
                    "data": {
                        "text/html": "Commands completed successfully."
                    },
                    "metadata": {}
                },
                {
                    "output_type": "display_data",
                    "data": {
                        "text/html": "Total execution time: 00:00:00.013"
                    },
                    "metadata": {}
                }
            ],
            "execution_count": 12
        },
        {
            "cell_type": "code",
            "source": [
                "/* Author: Daniel Gargiullo */\n",
                "USE BIClass;\n",
                "\n",
                "ALTER   TABLE   [CH01-01-Dimension].DimOccupation\n",
                "    ADD\n",
                "        DateAdded                       DATETIME2   NULL\n",
                "            CONSTRAINT  DF_DimOccupation_DateAdded        DEFAULT (SYSDATETIME()),\n",
                "        DateOfLastUpdate                DATETIME2   NULL\n",
                "            CONSTRAINT  DF_DimOccupation_DateOfLastUpdate DEFAULT (SYSDATETIME());\n",
                "GO"
            ],
            "metadata": {
                "azdata_cell_guid": "675cc233-34cc-4f8c-ab40-84d86598a90a",
                "language": "sql"
            },
            "outputs": [
                {
                    "output_type": "display_data",
                    "data": {
                        "text/html": "Commands completed successfully."
                    },
                    "metadata": {}
                },
                {
                    "output_type": "display_data",
                    "data": {
                        "text/html": "Total execution time: 00:00:00.009"
                    },
                    "metadata": {}
                }
            ],
            "execution_count": 13
        },
        {
            "cell_type": "code",
            "source": [
                "/* Author: Daniel Gargiullo */\n",
                "USE BIClass;\n",
                "\n",
                "ALTER   TABLE   [CH01-01-Dimension].DimOccupation\n",
                "    ADD\n",
                "        UserAuthorizationKey    INT NOT NULL    DEFAULT -1\n",
                "GO"
            ],
            "metadata": {
                "azdata_cell_guid": "b2eb9138-a9bb-4b0a-8d97-044a5988c4b9",
                "language": "sql"
            },
            "outputs": [
                {
                    "output_type": "display_data",
                    "data": {
                        "text/html": "Commands completed successfully."
                    },
                    "metadata": {}
                },
                {
                    "output_type": "display_data",
                    "data": {
                        "text/html": "Total execution time: 00:00:00.014"
                    },
                    "metadata": {}
                }
            ],
            "execution_count": 14
        },
        {
            "cell_type": "code",
            "source": [
                "/* Author: Daniel Gargiullo */\n",
                "USE BIClass;\n",
                "\n",
                "ALTER   TABLE   [CH01-01-Dimension].DimOrderDate\n",
                "    ADD\n",
                "        DateAdded                       DATETIME2   NULL\n",
                "            CONSTRAINT  DF_DimOrderDate_DateAdded        DEFAULT (SYSDATETIME()),\n",
                "        DateOfLastUpdate                DATETIME2   NULL\n",
                "            CONSTRAINT  DF_DimOrderDate_DateOfLastUpdate DEFAULT (SYSDATETIME());\n",
                "GO"
            ],
            "metadata": {
                "azdata_cell_guid": "24fd5416-ef83-453e-9a4a-2bf85579390c",
                "language": "sql"
            },
            "outputs": [
                {
                    "output_type": "display_data",
                    "data": {
                        "text/html": "Commands completed successfully."
                    },
                    "metadata": {}
                },
                {
                    "output_type": "display_data",
                    "data": {
                        "text/html": "Total execution time: 00:00:00.022"
                    },
                    "metadata": {}
                }
            ],
            "execution_count": 15
        },
        {
            "cell_type": "code",
            "source": [
                "/* Author: Daniel Gargiullo */\n",
                "USE BIClass;\n",
                "\n",
                "ALTER   TABLE   [CH01-01-Dimension].DimOrderDate\n",
                "    ADD\n",
                "        UserAuthorizationKey    INT NOT NULL    DEFAULT -1\n",
                "GO"
            ],
            "metadata": {
                "azdata_cell_guid": "9e9be655-dd65-43dd-b8fb-0f7a74b67b8b",
                "language": "sql"
            },
            "outputs": [
                {
                    "output_type": "display_data",
                    "data": {
                        "text/html": "Commands completed successfully."
                    },
                    "metadata": {}
                },
                {
                    "output_type": "display_data",
                    "data": {
                        "text/html": "Total execution time: 00:00:00.025"
                    },
                    "metadata": {}
                }
            ],
            "execution_count": 16
        },
        {
            "cell_type": "code",
            "source": [
                "/* Author: Daniel Gargiullo */\n",
                "USE BIClass;\n",
                "\n",
                "ALTER   TABLE   [CH01-01-Dimension].DimProduct\n",
                "    ADD\n",
                "        DateAdded                       DATETIME2   NULL\n",
                "            CONSTRAINT  DF_DimProduct_DateAdded        DEFAULT (SYSDATETIME()),\n",
                "        DateOfLastUpdate                DATETIME2   NULL\n",
                "            CONSTRAINT  DF_DimProduct_DateOfLastUpdate DEFAULT (SYSDATETIME());\n",
                "GO"
            ],
            "metadata": {
                "azdata_cell_guid": "38153939-e63e-416e-b0d0-0518590e58a9",
                "language": "sql"
            },
            "outputs": [
                {
                    "output_type": "display_data",
                    "data": {
                        "text/html": "Commands completed successfully."
                    },
                    "metadata": {}
                },
                {
                    "output_type": "display_data",
                    "data": {
                        "text/html": "Total execution time: 00:00:00.014"
                    },
                    "metadata": {}
                }
            ],
            "execution_count": 17
        },
        {
            "cell_type": "code",
            "source": [
                "/* Author: Daniel Gargiullo */\n",
                "USE BIClass;\n",
                "\n",
                "ALTER   TABLE   [CH01-01-Dimension].DimProduct\n",
                "    ADD\n",
                "        UserAuthorizationKey    INT NOT NULL    DEFAULT -1\n",
                "GO"
            ],
            "metadata": {
                "azdata_cell_guid": "698d8992-f3e6-4e4c-b592-3240e432d69a",
                "language": "sql"
            },
            "outputs": [
                {
                    "output_type": "display_data",
                    "data": {
                        "text/html": "Commands completed successfully."
                    },
                    "metadata": {}
                },
                {
                    "output_type": "display_data",
                    "data": {
                        "text/html": "Total execution time: 00:00:00.015"
                    },
                    "metadata": {}
                }
            ],
            "execution_count": 18
        },
        {
            "cell_type": "code",
            "source": [
                "/* Author: Daniel Gargiullo */\n",
                "USE BIClass;\n",
                "\n",
                "ALTER   TABLE   [CH01-01-Dimension].DimTerritory\n",
                "    ADD\n",
                "        DateAdded                       DATETIME2   NULL\n",
                "            CONSTRAINT  DF_DimTerritory_DateAdded        DEFAULT (SYSDATETIME()),\n",
                "        DateOfLastUpdate                DATETIME2   NULL\n",
                "            CONSTRAINT  DF_DimTerritory_DateOfLastUpdate DEFAULT (SYSDATETIME());\n",
                "GO"
            ],
            "metadata": {
                "azdata_cell_guid": "d6196b82-becf-431e-994e-9b1d3f0fa4c9",
                "language": "sql"
            },
            "outputs": [
                {
                    "output_type": "display_data",
                    "data": {
                        "text/html": "Commands completed successfully."
                    },
                    "metadata": {}
                },
                {
                    "output_type": "display_data",
                    "data": {
                        "text/html": "Total execution time: 00:00:00.014"
                    },
                    "metadata": {}
                }
            ],
            "execution_count": 19
        },
        {
            "cell_type": "code",
            "source": [
                "/* Author: Daniel Gargiullo */\n",
                "USE BIClass;\n",
                "\n",
                "ALTER   TABLE   [CH01-01-Dimension].DimTerritory\n",
                "    ADD\n",
                "        UserAuthorizationKey    INT NOT NULL    DEFAULT -1\n",
                "GO"
            ],
            "metadata": {
                "azdata_cell_guid": "55c57493-5815-43a0-9002-7d873016624d",
                "language": "sql"
            },
            "outputs": [
                {
                    "output_type": "display_data",
                    "data": {
                        "text/html": "Commands completed successfully."
                    },
                    "metadata": {}
                },
                {
                    "output_type": "display_data",
                    "data": {
                        "text/html": "Total execution time: 00:00:00.011"
                    },
                    "metadata": {}
                }
            ],
            "execution_count": 20
        },
        {
            "cell_type": "code",
            "source": [
                "/* Author: Daniel Gargiullo */\n",
                "USE BIClass;\n",
                "\n",
                "ALTER   TABLE   [CH01-01-Dimension].SalesManagers\n",
                "    ADD\n",
                "        DateAdded                       DATETIME2   NULL\n",
                "            CONSTRAINT  DF_SalesManagers_DateAdded        DEFAULT (SYSDATETIME()),\n",
                "        DateOfLastUpdate                DATETIME2   NULL\n",
                "            CONSTRAINT  DF_SalesManagers_DateOfLastUpdate DEFAULT (SYSDATETIME());\n",
                "GO"
            ],
            "metadata": {
                "azdata_cell_guid": "9deeb3f9-a4db-4b15-8b12-f09881919201",
                "language": "sql"
            },
            "outputs": [
                {
                    "output_type": "display_data",
                    "data": {
                        "text/html": "Commands completed successfully."
                    },
                    "metadata": {}
                },
                {
                    "output_type": "display_data",
                    "data": {
                        "text/html": "Total execution time: 00:00:00.008"
                    },
                    "metadata": {}
                }
            ],
            "execution_count": 21
        },
        {
            "cell_type": "code",
            "source": [
                "/* Author: Daniel Gargiullo */\n",
                "USE BIClass;\n",
                "\n",
                "ALTER   TABLE   [CH01-01-Dimension].SalesManagers\n",
                "    ADD\n",
                "        UserAuthorizationKey    INT NOT NULL    DEFAULT -1\n",
                "GO"
            ],
            "metadata": {
                "azdata_cell_guid": "39e801e8-bc6b-46c1-9591-c790cd0ebd84",
                "language": "sql"
            },
            "outputs": [
                {
                    "output_type": "display_data",
                    "data": {
                        "text/html": "Commands completed successfully."
                    },
                    "metadata": {}
                },
                {
                    "output_type": "display_data",
                    "data": {
                        "text/html": "Total execution time: 00:00:00.006"
                    },
                    "metadata": {}
                }
            ],
            "execution_count": 22
        },
        {
            "cell_type": "code",
            "source": [
                "/* Author: Daniel Gargiullo */\n",
                "USE BIClass;\n",
                "\n",
                "ALTER   TABLE   [CH01-01-Fact].[Data]\n",
                "    ADD\n",
                "        DateAdded                       DATETIME2   NULL\n",
                "            CONSTRAINT  DF_FactData_DateAdded        DEFAULT (SYSDATETIME()),\n",
                "        DateOfLastUpdate                DATETIME2   NULL\n",
                "            CONSTRAINT  DF_FactData_DateOfLastUpdate DEFAULT (SYSDATETIME());\n",
                "GO"
            ],
            "metadata": {
                "azdata_cell_guid": "a8d8ab35-c647-4b70-a56c-71e272e4772c",
                "language": "sql"
            },
            "outputs": [
                {
                    "output_type": "display_data",
                    "data": {
                        "text/html": "Commands completed successfully."
                    },
                    "metadata": {}
                },
                {
                    "output_type": "display_data",
                    "data": {
                        "text/html": "Total execution time: 00:00:00.008"
                    },
                    "metadata": {}
                }
            ],
            "execution_count": 23
        },
        {
            "cell_type": "code",
            "source": [
                "/* Author: Daniel Gargiullo */\n",
                "USE BIClass;\n",
                "\n",
                "ALTER   TABLE   [CH01-01-Fact].[Data]\n",
                "    ADD\n",
                "        UserAuthorizationKey    INT NOT NULL    DEFAULT -1\n",
                "GO"
            ],
            "metadata": {
                "azdata_cell_guid": "c643fa90-4ec4-4d84-96c5-3d6ebf19b5bd",
                "language": "sql"
            },
            "outputs": [
                {
                    "output_type": "display_data",
                    "data": {
                        "text/html": "Commands completed successfully."
                    },
                    "metadata": {}
                },
                {
                    "output_type": "display_data",
                    "data": {
                        "text/html": "Total execution time: 00:00:00.208"
                    },
                    "metadata": {}
                }
            ],
            "execution_count": 24
        },
        {
            "cell_type": "markdown",
            "source": [
                "## Create the `DimProductCategory` and `DimProductSubcategory` tables:"
            ],
            "metadata": {
                "azdata_cell_guid": "64a3bf2d-d9be-4cfb-a838-bf21554b8878",
                "language": "sql"
            },
            "attachments": {}
        },
        {
            "cell_type": "code",
            "source": [
                "/* Author: Daniel Gargiullo */\n",
                "USE BIClass;\n",
                "\n",
                "CREATE  TABLE   [CH01-01-Dimension].[DimProductCategory]    (\n",
                "    ProductCategoryKey  INT         NOT NULL    PRIMARY KEY,\n",
                "    CategoryName        VARCHAR(20) NOT NULL\n",
                ");"
            ],
            "metadata": {
                "azdata_cell_guid": "16188a90-17d5-40eb-a206-a56ca9f88807",
                "language": "sql"
            },
            "outputs": [
                {
                    "output_type": "display_data",
                    "data": {
                        "text/html": "Commands completed successfully."
                    },
                    "metadata": {}
                },
                {
                    "output_type": "display_data",
                    "data": {
                        "text/html": "Total execution time: 00:00:00.010"
                    },
                    "metadata": {}
                }
            ],
            "execution_count": 25
        },
        {
            "cell_type": "code",
            "source": [
                "/* Author: Daniel Gargiullo */\n",
                "USE BIClass;\n",
                "\n",
                "CREATE TABLE [CH01-01-Dimension].[DimProductSubcategory] (\n",
                "    ProductSubcategoryKey   INT         NOT NULL    PRIMARY KEY,\n",
                "    ProductCategoryKey      INT         NOT NULL,\n",
                "    SubcategoryName         VARCHAR(20) NOT NULL,\n",
                "    FOREIGN KEY (ProductCategoryKey) REFERENCES [CH01-01-Dimension].[DimProductCategory](ProductCategoryKey)\n",
                ");"
            ],
            "metadata": {
                "azdata_cell_guid": "e150b07f-72a8-41df-8fea-c6ecbeb666e1",
                "language": "sql"
            },
            "outputs": [
                {
                    "output_type": "display_data",
                    "data": {
                        "text/html": "Commands completed successfully."
                    },
                    "metadata": {}
                },
                {
                    "output_type": "display_data",
                    "data": {
                        "text/html": "Total execution time: 00:00:00.010"
                    },
                    "metadata": {}
                }
            ],
            "execution_count": 26
        },
        {
            "cell_type": "code",
            "source": [
                "/* Author: Sarmad Ali */\n",
                "CREATE PROCEDURE [Process].[usp_TrackWorkFlow]\n",
                "    @StartTime DATETIME2,\n",
                "    @WorkFlowDescription NVARCHAR(100),\n",
                "    @WorkFlowStepTableRowCount int,\n",
                "    @UserAuthorizationKey int\n",
                "AS\n",
                "BEGIN\n",
                "    SET NOCOUNT ON;\n",
                "\n",
                "    INSERT INTO Process.WorkflowSteps (\n",
                "        WorkFlowStepKey,  \n",
                "        WorkFlowStepDescription,\n",
                "        WorkFlowStepTableRowCount,\n",
                "        StartingDateTime,\n",
                "        EndingDateTime, \n",
                "        ClassTime,      \n",
                "        UserAuthorizationKey\n",
                "    )\n",
                "    VALUES (\n",
                "        NEXT VALUE FOR Process.WorkflowStepSequence, \n",
                "        @WorkFlowDescription,\n",
                "        @WorkFlowStepTableRowCount,\n",
                "        @StartTime,\n",
                "        SYSDATETIME(), \n",
                "        DEFAULT,      \n",
                "        @UserAuthorizationKey\n",
                "    );\n",
                "END;\n",
                "GO"
            ],
            "metadata": {
                "azdata_cell_guid": "707a747a-7cc4-4856-8c66-eeeffd6f2707",
                "language": "sql"
            },
            "outputs": [
                {
                    "output_type": "display_data",
                    "data": {
                        "text/html": "Commands completed successfully."
                    },
                    "metadata": {}
                },
                {
                    "output_type": "display_data",
                    "data": {
                        "text/html": "Total execution time: 00:00:00.013"
                    },
                    "metadata": {}
                }
            ],
            "execution_count": 27
        },
        {
            "cell_type": "markdown",
            "source": [
                "## CREATE OR ALTER PROCEDURE `[Process].[Load_DimCustomer]` TO LOAD DISTINCT CUSTOMERS INTO `[DimCustomer]`\n",
                ""
            ],
            "metadata": {
                "language": "sql",
                "azdata_cell_guid": "c04b51bf-39b9-4ef4-8cb4-5c8d0e0591fb"
            },
            "attachments": {}
        },
        {
            "cell_type": "code",
            "source": [
                "-- Author Jascharan Singh and Daniel Gargiullo\n",
                "use BIClass\n",
                "go \n",
                "CREATE or ALTER PROCEDURE [Process].[Load_DimCustomer]\n",
                "AS\n",
                "BEGIN\n",
                "    SET NOCOUNT ON;\n",
                "\n",
                "    INSERT INTO [CH01-01-Dimension].[DimCustomer] (\n",
                "        CustomerName,\n",
                "        DateAdded,\n",
                "        DateOfLastUpdate,\n",
                "        UserAuthorizationKey\n",
                "    )\n",
                "    SELECT DISTINCT\n",
                "        CustomerName,\n",
                "        GETDATE() AS DateAdded,\n",
                "        GETDATE() AS DateOfLastUpdate,\n",
                "        -1 AS UserAuthorizationKey\n",
                "    FROM [FileUpload].[OriginallyLoadedData];\n",
                "END;\n",
                "GO\n",
                ""
            ],
            "metadata": {
                "azdata_cell_guid": "c432c022-bb83-40fd-8ecd-3a7746d9fcf6",
                "language": "sql"
            },
            "outputs": [
                {
                    "output_type": "display_data",
                    "data": {
                        "text/html": "Commands completed successfully."
                    },
                    "metadata": {}
                },
                {
                    "output_type": "display_data",
                    "data": {
                        "text/html": "Commands completed successfully."
                    },
                    "metadata": {}
                },
                {
                    "output_type": "display_data",
                    "data": {
                        "text/html": "Total execution time: 00:00:00.009"
                    },
                    "metadata": {}
                }
            ],
            "execution_count": 28
        },
        {
            "cell_type": "markdown",
            "source": [
                "## CREATE OR ALTER PROCEDURE `[Process].[Load_DimGender]` TO LOAD DISTINCT GENDERS INTO `[CH01-01-Dimension].[DimGender]`\n",
                ""
            ],
            "metadata": {
                "language": "sql",
                "azdata_cell_guid": "cb4bf1ed-b12c-41fe-b9d5-4bb1498b86b4"
            },
            "attachments": {}
        },
        {
            "cell_type": "code",
            "source": [
                "-- Author Jascharan Singh and Daniel Gargiullo\n",
                "use BIClass\n",
                "go \n",
                "CREATE or ALTER PROCEDURE [Process].[Load_DimGender]\n",
                "AS\n",
                "BEGIN\n",
                "    SET NOCOUNT ON;\n",
                "\n",
                "    INSERT INTO [CH01-01-Dimension].[DimGender] (\n",
                "        Gender,\n",
                "        GenderDescription,\n",
                "        DateAdded,\n",
                "        DateOfLastUpdate,\n",
                "        UserAuthorizationKey\n",
                "    )\n",
                "    SELECT DISTINCT\n",
                "        Gender,\n",
                "        CASE Gender\n",
                "            WHEN 'M' THEN 'Male'\n",
                "            WHEN 'F' THEN 'Female'\n",
                "            ELSE 'Unknown'\n",
                "        END AS GenderDescription,\n",
                "        GETDATE() AS DateAdded,\n",
                "        GETDATE() AS DateOfLastUpdate,\n",
                "        -1 AS UserAuthorizationKey\n",
                "    FROM [FileUpload].[OriginallyLoadedData];\n",
                "END;\n",
                "GO\n",
                ""
            ],
            "metadata": {
                "language": "sql",
                "azdata_cell_guid": "a62adb94-d580-431e-bb03-1929138758db"
            },
            "outputs": [
                {
                    "output_type": "display_data",
                    "data": {
                        "text/html": "Commands completed successfully."
                    },
                    "metadata": {}
                },
                {
                    "output_type": "display_data",
                    "data": {
                        "text/html": "Commands completed successfully."
                    },
                    "metadata": {}
                },
                {
                    "output_type": "display_data",
                    "data": {
                        "text/html": "Total execution time: 00:00:00.007"
                    },
                    "metadata": {}
                }
            ],
            "execution_count": 29
        },
        {
            "cell_type": "markdown",
            "source": [
                "## CREATE OR ALTER PROCEDURE `[Process].[Load_DimMaritalStatus]` TO LOAD DISTINCT MARITAL STATUSES INTO `[CH01-01-Dimension].[DimMaritalStatus]`\n",
                ""
            ],
            "metadata": {
                "language": "sql",
                "azdata_cell_guid": "495157a9-0cfd-4453-954a-92cec6beb134"
            },
            "attachments": {}
        },
        {
            "cell_type": "code",
            "source": [
                "-- Author Jascharan Singh and Daniel Gargiullo\n",
                "use BIClass\n",
                "go\n",
                "CREATE or ALTER PROCEDURE [Process].[Load_DimMaritalStatus]\n",
                "AS\n",
                "BEGIN\n",
                "    SET NOCOUNT ON;\n",
                "\n",
                "    INSERT INTO [CH01-01-Dimension].[DimMaritalStatus] (\n",
                "        MaritalStatus,\n",
                "        MaritalStatusDescription,\n",
                "        DateAdded,\n",
                "        DateOfLastUpdate,\n",
                "        UserAuthorizationKey\n",
                "    )\n",
                "    SELECT DISTINCT\n",
                "        MaritalStatus,\n",
                "        CASE MaritalStatus\n",
                "            WHEN 'S' THEN 'Single'\n",
                "            WHEN 'M' THEN 'Married'\n",
                "            ELSE 'Unknown'\n",
                "        END AS MaritalStatusDescription,\n",
                "        GETDATE() AS DateAdded,\n",
                "        GETDATE() AS DateOfLastUpdate,\n",
                "        -1 AS UserAuthorizationKey\n",
                "    FROM [FileUpload].[OriginallyLoadedData];\n",
                "END;\n",
                "GO\n",
                ""
            ],
            "metadata": {
                "language": "sql",
                "azdata_cell_guid": "d8f32538-5e7e-4557-8578-fd7bf53d5e78"
            },
            "outputs": [
                {
                    "output_type": "display_data",
                    "data": {
                        "text/html": "Commands completed successfully."
                    },
                    "metadata": {}
                },
                {
                    "output_type": "display_data",
                    "data": {
                        "text/html": "Commands completed successfully."
                    },
                    "metadata": {}
                },
                {
                    "output_type": "display_data",
                    "data": {
                        "text/html": "Total execution time: 00:00:00.010"
                    },
                    "metadata": {}
                }
            ],
            "execution_count": 30
        },
        {
            "cell_type": "markdown",
            "source": [
                "## CREATE OR ALTER PROCEDURE `[Process].[Load_DimProduct]` TO LOAD DISTINCT PRODUCTS INTO `[CH01-01-Dimension].[DimProduct]`\n",
                ""
            ],
            "metadata": {
                "language": "sql",
                "azdata_cell_guid": "0310e1b5-49e6-42e0-98c8-96619579e48a"
            },
            "attachments": {}
        },
        {
            "cell_type": "code",
            "source": [
                "-- Author Jascharan Singh and Daniel Gargiullo\n",
                "use BIClass\n",
                "go\n",
                "CREATE or ALTER PROCEDURE [Process].[Load_DimProduct]\n",
                "AS\n",
                "BEGIN\n",
                "    SET NOCOUNT ON;\n",
                "\n",
                "    INSERT INTO [CH01-01-Dimension].[DimProduct] (\n",
                "        ProductSubcategoryKey,\n",
                "        ProductCategory,\n",
                "        ProductSubcategory,\n",
                "        ProductCode,\n",
                "        ProductName,\n",
                "        Color,\n",
                "        ModelName,\n",
                "        DateAdded,\n",
                "        DateOfLastUpdate,\n",
                "        UserAuthorizationKey\n",
                "    )\n",
                "    SELECT DISTINCT\n",
                "        NULL AS ProductSubcategoryKey,  -- Adjust if a mapping exists\n",
                "        ProductCategory,\n",
                "        ProductSubcategory,\n",
                "        ProductCode,\n",
                "        ProductName,\n",
                "        Color,\n",
                "        ModelName,\n",
                "        GETDATE() AS DateAdded,\n",
                "        GETDATE() AS DateOfLastUpdate,\n",
                "        -1 AS UserAuthorizationKey\n",
                "    FROM [FileUpload].[OriginallyLoadedData];\n",
                "END;\n",
                "GO\n",
                ""
            ],
            "metadata": {
                "language": "sql",
                "azdata_cell_guid": "85ed183e-833e-4efd-87b7-5bf9027d2005"
            },
            "outputs": [
                {
                    "output_type": "display_data",
                    "data": {
                        "text/html": "Commands completed successfully."
                    },
                    "metadata": {}
                },
                {
                    "output_type": "display_data",
                    "data": {
                        "text/html": "Commands completed successfully."
                    },
                    "metadata": {}
                },
                {
                    "output_type": "display_data",
                    "data": {
                        "text/html": "Total execution time: 00:00:00.011"
                    },
                    "metadata": {}
                }
            ],
            "execution_count": 31
        },
        {
            "cell_type": "markdown",
            "source": [
                "## CREATE OR ALTER PROCEDURE `[Process].[Load_Data]` TO LOAD DISTINCT TRANSACTION DATA INTO `[CH01-01-Fact].[Data]`\n",
                ""
            ],
            "metadata": {
                "language": "sql",
                "azdata_cell_guid": "809cebbe-ac54-458d-bcc5-2d293b4d316c"
            },
            "attachments": {}
        },
        {
            "cell_type": "code",
            "source": [
                "-- Author Jascharan Singh and Daniel Gargiullo\n",
                "use BIClass\n",
                "go\n",
                "CREATE or ALTER PROCEDURE [Process].[Load_Data]\n",
                "AS\n",
                "BEGIN\n",
                "    SET NOCOUNT ON;\n",
                "\n",
                "    INSERT INTO [CH01-01-Fact].[Data] (\n",
                "        SalesManagerKey,\n",
                "        OccupationKey,\n",
                "        TerritoryKey,\n",
                "        ProductKey,\n",
                "        CustomerKey,\n",
                "        ProductCategory,\n",
                "        ProductSubcategory,\n",
                "        ProductCode,\n",
                "        ProductName,\n",
                "        Color,\n",
                "        ModelName,\n",
                "        OrderQuantity,\n",
                "        UnitPrice,\n",
                "        ProductStandardCost,\n",
                "        SalesAmount,\n",
                "        OrderDate,\n",
                "        MonthName,\n",
                "        MonthNumber,\n",
                "        Year,\n",
                "        CustomerName,\n",
                "        MaritalStatus,\n",
                "        Gender,\n",
                "        Education,\n",
                "        Occupation,\n",
                "        TerritoryRegion,\n",
                "        TerritoryCountry,\n",
                "        TerritoryGroup,\n",
                "        DateAdded,\n",
                "        DateOfLastUpdate,\n",
                "        UserAuthorizationKey\n",
                "    )\n",
                "    SELECT DISTINCT\n",
                "        NULL AS SalesManagerKey, -- Replace with proper mapping if available\n",
                "        NULL AS OccupationKey,   -- Replace with proper mapping if available\n",
                "        NULL AS TerritoryKey,    -- Replace with proper mapping if available\n",
                "        NULL AS ProductKey,      -- Replace with proper mapping if available\n",
                "        NULL AS CustomerKey,     -- Replace with proper mapping if available\n",
                "        ProductCategory,\n",
                "        ProductSubcategory,\n",
                "        ProductCode,\n",
                "        ProductName,\n",
                "        Color,\n",
                "        ModelName,\n",
                "        OrderQuantity,\n",
                "        UnitPrice,\n",
                "        ProductStandardCost,\n",
                "        SalesAmount,\n",
                "        OrderDate,\n",
                "        DATENAME(MONTH, OrderDate) AS MonthName,\n",
                "        MONTH(OrderDate) AS MonthNumber,\n",
                "        YEAR(OrderDate) AS Year,\n",
                "        CustomerName,\n",
                "        MaritalStatus,\n",
                "        Gender,\n",
                "        Education,\n",
                "        Occupation,\n",
                "        TerritoryRegion,\n",
                "        TerritoryCountry,\n",
                "        TerritoryGroup,\n",
                "        GETDATE() AS DateAdded,\n",
                "        GETDATE() AS DateOfLastUpdate,\n",
                "        -1 AS UserAuthorizationKey\n",
                "    FROM [FileUpload].[OriginallyLoadedData];\n",
                "END;\n",
                "GO\n",
                ""
            ],
            "metadata": {
                "language": "sql",
                "azdata_cell_guid": "4937cb45-11bc-4f45-9b8e-c7295eca0956"
            },
            "outputs": [
                {
                    "output_type": "display_data",
                    "data": {
                        "text/html": "Commands completed successfully."
                    },
                    "metadata": {}
                },
                {
                    "output_type": "display_data",
                    "data": {
                        "text/html": "Commands completed successfully."
                    },
                    "metadata": {}
                },
                {
                    "output_type": "display_data",
                    "data": {
                        "text/html": "Total execution time: 00:00:00.016"
                    },
                    "metadata": {}
                }
            ],
            "execution_count": 32
        },
        {
            "cell_type": "markdown",
            "source": [
                "## CREATE PROCEDURE `[Process].[usp_ShowWorkflowSteps]` TO DISPLAY WORKFLOW STEPS FROM `[Process].[WorkflowSteps]`\n",
                ""
            ],
            "metadata": {
                "language": "sql",
                "azdata_cell_guid": "39afed98-1e1d-4bfd-8667-b23cb7463881"
            },
            "attachments": {}
        },
        {
            "cell_type": "code",
            "source": [
                "-- Author Jascharan Singh and Daniel Gargiullo\n",
                "CREATE PROCEDURE [Process].[usp_ShowWorkflowSteps]\n",
                "AS\n",
                "BEGIN\n",
                "    SET NOCOUNT ON;\n",
                "\n",
                "\n",
                "    SELECT \n",
                "        WorkflowStepKey,\n",
                "        UserAuthorizationKey,\n",
                "        WorkFlowStepDescription,\n",
                "        WorkFlowStepTableRowCount,\n",
                "        StartingDateTime,\n",
                "        EndingDateTime,\n",
                "        ClassTime\n",
                "    FROM \n",
                "        [Process].[WorkflowSteps]\n",
                "    ORDER BY \n",
                "        WorkflowStepKey; \n",
                "END;\n",
                "GO\n",
                ""
            ],
            "metadata": {
                "azdata_cell_guid": "1360afca-dc38-447c-acac-4b0497eaff5e",
                "language": "sql"
            },
            "outputs": [
                {
                    "output_type": "display_data",
                    "data": {
                        "text/html": "Commands completed successfully."
                    },
                    "metadata": {}
                },
                {
                    "output_type": "display_data",
                    "data": {
                        "text/html": "Total execution time: 00:00:00.024"
                    },
                    "metadata": {}
                }
            ],
            "execution_count": 33
        },
        {
            "cell_type": "markdown",
            "source": [
                "## QUERY TO CALCULATE TOTAL EXECUTION TIME IN SECONDS FOR LOADING WORKFLOW STEPS IN `[Process].[WorkflowSteps]`\n",
                ""
            ],
            "metadata": {
                "language": "sql",
                "azdata_cell_guid": "88581ab6-96a9-4ea1-88d4-5ff910407758"
            },
            "attachments": {}
        },
        {
            "cell_type": "code",
            "source": [
                "-- Author Jascharan Singh\n",
                "\n",
                "\n",
                "SELECT \n",
                "    SUM(DATEDIFF(SECOND, StartingDateTime, EndingDateTime)) AS TotalExecutionTimeInSeconds\n",
                "FROM \n",
                "    [Process].[WorkflowSteps]\n",
                "WHERE \n",
                "    WorkFlowStepDescription LIKE '%Load%'; -- Filters steps related to loading the star schema\n",
                ""
            ],
            "metadata": {
                "language": "sql",
                "azdata_cell_guid": "a01069bb-75a5-4935-9ee0-9540abecf924"
            },
            "outputs": [
                {
                    "output_type": "display_data",
                    "data": {
                        "text/html": "(1 row affected)"
                    },
                    "metadata": {}
                },
                {
                    "output_type": "display_data",
                    "data": {
                        "text/html": "(1 row affected)"
                    },
                    "metadata": {}
                },
                {
                    "output_type": "display_data",
                    "data": {
                        "text/html": "Total execution time: 00:00:00.025"
                    },
                    "metadata": {}
                },
                {
                    "output_type": "execute_result",
                    "metadata": {},
                    "execution_count": 56,
                    "data": {
                        "application/vnd.dataresource+json": {
                            "schema": {
                                "fields": [
                                    {
                                        "name": "TotalExecutionTimeInSeconds"
                                    }
                                ]
                            },
                            "data": [
                                {
                                    "TotalExecutionTimeInSeconds": "NULL"
                                }
                            ]
                        },
                        "text/html": [
                            "<table>",
                            "<tr><th>TotalExecutionTimeInSeconds</th></tr>",
                            "<tr><td>NULL</td></tr>",
                            "</table>"
                        ]
                    }
                }
            ],
            "execution_count": 56
        },
        {
            "cell_type": "code",
            "source": [
                "ALTER TABLE [Process].[GroupMemberMapping]\n",
                "DROP COLUMN ExecutionTimeInSeconds;\n",
                "\n",
                "ALTER TABLE [Process].[GroupMemberMapping]\n",
                "ADD ExecutionTimeInSeconds INT; -- Use INT for seconds or DECIMAL for finer granularity\n",
                "-- Insert numeric execution times\n",
                "INSERT INTO [Process].[GroupMemberMapping] (GroupMember, StoredProcedureName, ExecutionTimeInSeconds)\n",
                "VALUES \n",
                "    ('Jascharan Singh', 'Load_DimCustomer', 9),   -- 9 milliseconds converted to seconds\n",
                "    ('Daniel Gargiullo', 'Load_DimGender', 10),  -- 10 milliseconds converted to seconds\n",
                "    ('Jascharan Singh', 'Load_DimProduct', 11),\n",
                "    ('Daniel Gargiullo', 'Load_Data', 16);\n",
                ""
            ],
            "metadata": {
                "language": "sql",
                "azdata_cell_guid": "f187ca1e-2cac-4b7c-a148-c91e685247dd"
            },
            "outputs": [
                {
                    "output_type": "display_data",
                    "data": {
                        "text/html": "(4 rows affected)"
                    },
                    "metadata": {}
                },
                {
                    "output_type": "display_data",
                    "data": {
                        "text/html": "Total execution time: 00:00:00.024"
                    },
                    "metadata": {}
                }
            ],
            "execution_count": 54
        },
        {
            "cell_type": "markdown",
            "source": [
                "## Total number of group members working on `Procedures`"
            ],
            "metadata": {
                "language": "sql",
                "azdata_cell_guid": "70365f59-6138-4f35-8af2-31bce479695d"
            },
            "attachments": {}
        },
        {
            "cell_type": "code",
            "source": [
                "SELECT \n",
                "    GroupMember,\n",
                "    COUNT(StoredProcedureName) AS TotalStoredProceduresWorkedOn,\n",
                "    SUM(ExecutionTimeInSeconds) AS TotalExecutionTimeInSeconds\n",
                "FROM \n",
                "    [Process].[GroupMemberMapping]\n",
                "GROUP BY \n",
                "    GroupMember;\n",
                ""
            ],
            "metadata": {
                "language": "sql",
                "azdata_cell_guid": "c0757308-7c7b-40d1-8471-8b60eb317919"
            },
            "outputs": [
                {
                    "output_type": "display_data",
                    "data": {
                        "text/html": "Warning: Null value is eliminated by an aggregate or other SET operation."
                    },
                    "metadata": {}
                },
                {
                    "output_type": "display_data",
                    "data": {
                        "text/html": "(2 rows affected)"
                    },
                    "metadata": {}
                },
                {
                    "output_type": "display_data",
                    "data": {
                        "text/html": "Total execution time: 00:00:00.024"
                    },
                    "metadata": {}
                },
                {
                    "output_type": "execute_result",
                    "metadata": {},
                    "execution_count": 55,
                    "data": {
                        "application/vnd.dataresource+json": {
                            "schema": {
                                "fields": [
                                    {
                                        "name": "GroupMember"
                                    },
                                    {
                                        "name": "TotalStoredProceduresWorkedOn"
                                    },
                                    {
                                        "name": "TotalExecutionTimeInSeconds"
                                    }
                                ]
                            },
                            "data": [
                                {
                                    "GroupMember": "Daniel Gargiullo",
                                    "TotalStoredProceduresWorkedOn": "4",
                                    "TotalExecutionTimeInSeconds": "26"
                                },
                                {
                                    "GroupMember": "Jascharan Singh",
                                    "TotalStoredProceduresWorkedOn": "4",
                                    "TotalExecutionTimeInSeconds": "20"
                                }
                            ]
                        },
                        "text/html": [
                            "<table>",
                            "<tr><th>GroupMember</th><th>TotalStoredProceduresWorkedOn</th><th>TotalExecutionTimeInSeconds</th></tr>",
                            "<tr><td>Daniel Gargiullo</td><td>4</td><td>26</td></tr>",
                            "<tr><td>Jascharan Singh</td><td>4</td><td>20</td></tr>",
                            "</table>"
                        ]
                    }
                }
            ],
            "execution_count": 55
        }
    ]
}