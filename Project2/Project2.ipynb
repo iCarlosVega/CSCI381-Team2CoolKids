{
    "cells": [
        {
            "attachments": {},
            "cell_type": "markdown",
            "metadata": {
                "azdata_cell_guid": "06c89eb9-66b9-45fa-8285-22e6f761860b"
            },
            "source": [
                "## Process `FileUpload.OriginallyLoadedData` table into the `ParsedFileUpload.OriginallyLoadedData` table:\n"
            ]
        },
        {
            "cell_type": "code",
            "execution_count": 33,
            "metadata": {
                "azdata_cell_guid": "8d4db055-8e95-4dd1-a892-939b0ebfc390",
                "language": "sql",
                "tags": []
            },
            "outputs": [
                {
                    "data": {
                        "text/html": [
                            "Commands completed successfully."
                        ]
                    },
                    "metadata": {},
                    "output_type": "display_data"
                },
                {
                    "data": {
                        "text/html": [
                            "(60398 rows affected)"
                        ]
                    },
                    "metadata": {},
                    "output_type": "display_data"
                },
                {
                    "data": {
                        "text/html": [
                            "Total execution time: 00:00:01.519"
                        ]
                    },
                    "metadata": {},
                    "output_type": "display_data"
                }
            ],
            "source": [
                "/* Author: Daniel Gargiullo */\n",
                "USE BIClass\n",
                "GO\n",
                "\n",
                "SELECT\n",
                "    *\n",
                "    INTO\n",
                "        FileUpload.ParsedOriginallyLoadedData\n",
                "FROM\n",
                "    FileUpload.OriginallyLoadedData;"
            ]
        },
        {
            "attachments": {},
            "cell_type": "markdown",
            "metadata": {
                "azdata_cell_guid": "aeeb99db-ed30-4053-b105-1fe76278a449",
                "language": "sql"
            },
            "source": [
                "## Create a new table `DbSecurity.UserAuthorization` in this project for adding the users who worked on the project:"
            ]
        },
        {
            "cell_type": "code",
            "execution_count": 34,
            "metadata": {
                "azdata_cell_guid": "74657777-d238-426c-b612-c469fa76a366",
                "language": "sql",
                "tags": []
            },
            "outputs": [
                {
                    "data": {
                        "text/html": [
                            "Commands completed successfully."
                        ]
                    },
                    "metadata": {},
                    "output_type": "display_data"
                },
                {
                    "data": {
                        "text/html": [
                            "Commands completed successfully."
                        ]
                    },
                    "metadata": {},
                    "output_type": "display_data"
                },
                {
                    "data": {
                        "text/html": [
                            "Total execution time: 00:00:00.009"
                        ]
                    },
                    "metadata": {},
                    "output_type": "display_data"
                }
            ],
            "source": [
                "/* Author: Daniel Gargiullo */\n",
                "USE BIClass\n",
                "GO\n",
                "\n",
                "CREATE  SCHEMA  DbSecurity\n",
                "\n",
                "CREATE  TABLE   DbSecurity.UserAuthorization    (\n",
                "    UserAuthorizationKey    INT             NOT NULL    PRIMARY KEY,\n",
                "    ClassTime               NCHAR(5)            NULL    DEFAULT '10:45',\n",
                "    IndividualProject       NVARCHAR(60)        NULL    DEFAULT 'PROJECT 2 RECREATE THE BICLASS DATABASE STAR SCHEMA',\n",
                "    GroupMemberLastName     NVARCHAR(35)    NOT NULL,\n",
                "    GroupMemberFirstName    NVARCHAR(25)    NOT NULL,\n",
                "    GroupName               NVARCHAR(20)    NOT NULL    DEFAULT 'Group 2',\n",
                "    DateAdded               DATETIME2           NULL    DEFAULT SYSDATETIME()\n",
                ");"
            ]
        },
        {
            "attachments": {},
            "cell_type": "markdown",
            "metadata": {
                "azdata_cell_guid": "0002a2c9-cad5-4897-99c4-bdae34d2dee2",
                "language": "sql"
            },
            "source": [
                "## Insert group member names into the `DbSecurity.UserAuthorization` table:"
            ]
        },
        {
            "cell_type": "code",
            "execution_count": 35,
            "metadata": {
                "azdata_cell_guid": "d1476641-c078-4a05-b6f1-12c77953bf68",
                "language": "sql",
                "tags": []
            },
            "outputs": [
                {
                    "data": {
                        "text/html": [
                            "Commands completed successfully."
                        ]
                    },
                    "metadata": {},
                    "output_type": "display_data"
                },
                {
                    "data": {
                        "text/html": [
                            "(6 rows affected)"
                        ]
                    },
                    "metadata": {},
                    "output_type": "display_data"
                },
                {
                    "data": {
                        "text/html": [
                            "Total execution time: 00:00:00.008"
                        ]
                    },
                    "metadata": {},
                    "output_type": "display_data"
                }
            ],
            "source": [
                "/* Author: Daniel Gargiullo */\n",
                "USE BIClass\n",
                "GO\n",
                "\n",
                "INSERT  INTO    DbSecurity.UserAuthorization   \n",
                "    (UserAuthorizationKey, ClassTime, IndividualProject, GroupMemberLastName, GroupMemberFirstName, GroupName, DateAdded)\n",
                "    VALUES\n",
                "        (1, DEFAULT, DEFAULT, 'Gargiullo'           , 'Daniel'      , DEFAULT, DEFAULT),\n",
                "        (2, DEFAULT, DEFAULT, 'Vega'                , 'Carlos'      , DEFAULT, DEFAULT),\n",
                "        (3, DEFAULT, DEFAULT, 'Ali'                 , 'Sarmad'      , DEFAULT, DEFAULT),\n",
                "        (4, DEFAULT, DEFAULT, 'Weigand-Suminski'    , 'Oksana'      , DEFAULT, DEFAULT),\n",
                "        (5, DEFAULT, DEFAULT, 'Singh'               , 'Jaschiran'   , DEFAULT, DEFAULT),\n",
                "        (6, DEFAULT, DEFAULT, 'Na'                  , 'Augusta'     , DEFAULT, DEFAULT);"
            ]
        },
        {
            "attachments": {},
            "cell_type": "markdown",
            "metadata": {
                "azdata_cell_guid": "8d11dc37-57f2-48a3-809e-d9a6f543d5e0",
                "language": "sql"
            },
            "source": [
                "## Create a new schema called `Process`, and a table called `WorkflowSteps`:"
            ]
        },
        {
            "cell_type": "code",
            "execution_count": 36,
            "metadata": {
                "azdata_cell_guid": "2c253a98-861b-4600-8922-2d61942ea2d8",
                "language": "sql"
            },
            "outputs": [
                {
                    "data": {
                        "text/html": [
                            "Commands completed successfully."
                        ]
                    },
                    "metadata": {},
                    "output_type": "display_data"
                },
                {
                    "data": {
                        "text/html": [
                            "Commands completed successfully."
                        ]
                    },
                    "metadata": {},
                    "output_type": "display_data"
                },
                {
                    "data": {
                        "text/html": [
                            "Total execution time: 00:00:00.009"
                        ]
                    },
                    "metadata": {},
                    "output_type": "display_data"
                }
            ],
            "source": [
                "/* Author: Daniel Gargiullo */\n",
                "USE BIClass\n",
                "GO\n",
                "\n",
                "CREATE  SCHEMA  Process\n",
                "\n",
                "CREATE  TABLE   Process.WorkflowSteps   (\n",
                "    WorkflowStepKey             INT             NOT NULL    PRIMARY KEY,\n",
                "    UserAuthorizationKey        INT             NOT NULL    FOREIGN KEY REFERENCES  DbSecurity.UserAuthorization(UserAuthorizationKey),\n",
                "    WorkFlowStepDescription     NVARCHAR(100)   NOT NULL,\n",
                "    WorkFlowStepTableRowCount   INT                 NULL    DEFAULT 0,\n",
                "    StartingDateTime            DATETIME2(7)        NULL    DEFAULT SYSDATETIME(),\n",
                "    EndingDateTime              DATETIME2(7)        NULL    DEFAULT SYSDATETIME(),\n",
                "    ClassTime                   CHAR(5)             NULL    DEFAULT '10:45'\n",
                ");"
            ]
        },
        {
            "attachments": {},
            "cell_type": "markdown",
            "metadata": {
                "azdata_cell_guid": "a7bf1e73-2106-47f5-924b-1d35f09f46e9",
                "language": "sql"
            },
            "source": [
                "## Modify pre-existing tables according to project specifications.\n",
                "### Each table will be given three (3) and two (2) new constraints:\n",
                "#### Columns\n",
                "- `UserAuthorizationKey`\n",
                "    - This is so that we eliminate the identity key and instead use sequence objects in its place.\n",
                "- `DateAdded`\n",
                "- `DateOfLastUpdate`\n",
                "#### Constraints\n",
                "- `DF_DimCustomer_DateAdded`\n",
                "- `DF_DimCustomer_DateOfLastUpdate`"
            ]
        },
        {
            "cell_type": "code",
            "execution_count": 37,
            "metadata": {
                "azdata_cell_guid": "cf40dbfd-92c9-4aba-b51f-6b1af7e3df8f",
                "language": "sql",
                "tags": []
            },
            "outputs": [
                {
                    "data": {
                        "text/html": [
                            "Commands completed successfully."
                        ]
                    },
                    "metadata": {},
                    "output_type": "display_data"
                },
                {
                    "data": {
                        "text/html": [
                            "Total execution time: 00:00:00.008"
                        ]
                    },
                    "metadata": {},
                    "output_type": "display_data"
                }
            ],
            "source": [
                "/* Author: Daniel Gargiullo */\n",
                "USE BIClass;\n",
                "\n",
                "ALTER   TABLE   [CH01-01-Dimension].DimCustomer\n",
                "    ADD\n",
                "        DateAdded                       DATETIME2   NULL\n",
                "            CONSTRAINT  DF_DimCustomer_DateAdded        DEFAULT (SYSDATETIME()),\n",
                "        DateOfLastUpdate                DATETIME2   NULL\n",
                "            CONSTRAINT  DF_DimCustomer_DateOfLastUpdate DEFAULT (SYSDATETIME());\n",
                "GO"
            ]
        },
        {
            "cell_type": "code",
            "execution_count": 38,
            "metadata": {
                "azdata_cell_guid": "933b8a68-6a70-4100-beba-2c2b795c8a9a",
                "language": "sql"
            },
            "outputs": [
                {
                    "data": {
                        "text/html": [
                            "Commands completed successfully."
                        ]
                    },
                    "metadata": {},
                    "output_type": "display_data"
                },
                {
                    "data": {
                        "text/html": [
                            "Total execution time: 00:00:00.006"
                        ]
                    },
                    "metadata": {},
                    "output_type": "display_data"
                }
            ],
            "source": [
                "/* Author: Daniel Gargiullo */\n",
                "USE BIClass;\n",
                "\n",
                "ALTER   TABLE   [CH01-01-Dimension].DimCustomer\n",
                "    ADD\n",
                "        UserAuthorizationKey    INT NOT NULL    DEFAULT -1\n",
                "GO"
            ]
        },
        {
            "cell_type": "code",
            "execution_count": 40,
            "metadata": {
                "azdata_cell_guid": "33913428-6fe2-4976-b4e3-89e689f46692",
                "language": "sql"
            },
            "outputs": [
                {
                    "data": {
                        "text/html": [
                            "Commands completed successfully."
                        ]
                    },
                    "metadata": {},
                    "output_type": "display_data"
                },
                {
                    "data": {
                        "text/html": [
                            "Total execution time: 00:00:00.006"
                        ]
                    },
                    "metadata": {},
                    "output_type": "display_data"
                }
            ],
            "source": [
                "/* Author: Daniel Gargiullo */\n",
                "USE BIClass;\n",
                "\n",
                "ALTER   TABLE   [CH01-01-Dimension].DimGender\n",
                "    ADD\n",
                "        DateAdded                       DATETIME2   NULL\n",
                "            CONSTRAINT  DF_DimGender_DateAdded        DEFAULT (SYSDATETIME()),\n",
                "        DateOfLastUpdate                DATETIME2   NULL\n",
                "            CONSTRAINT  DF_DimGender_DateOfLastUpdate DEFAULT (SYSDATETIME());\n",
                "GO"
            ]
        },
        {
            "cell_type": "code",
            "execution_count": 41,
            "metadata": {
                "azdata_cell_guid": "e531c7d6-a15f-43e0-91d3-be0a2a642369",
                "language": "sql"
            },
            "outputs": [
                {
                    "data": {
                        "text/html": [
                            "Commands completed successfully."
                        ]
                    },
                    "metadata": {},
                    "output_type": "display_data"
                },
                {
                    "data": {
                        "text/html": [
                            "Total execution time: 00:00:00.006"
                        ]
                    },
                    "metadata": {},
                    "output_type": "display_data"
                }
            ],
            "source": [
                "/* Author: Daniel Gargiullo */\n",
                "USE BIClass;\n",
                "\n",
                "ALTER   TABLE   [CH01-01-Dimension].DimGender\n",
                "    ADD\n",
                "        UserAuthorizationKey    INT NOT NULL    DEFAULT -1\n",
                "GO"
            ]
        },
        {
            "cell_type": "code",
            "execution_count": 42,
            "metadata": {
                "azdata_cell_guid": "6d3d8baa-556b-4e1c-91a1-9a257224f386",
                "language": "sql"
            },
            "outputs": [
                {
                    "data": {
                        "text/html": [
                            "Commands completed successfully."
                        ]
                    },
                    "metadata": {},
                    "output_type": "display_data"
                },
                {
                    "data": {
                        "text/html": [
                            "Total execution time: 00:00:00.007"
                        ]
                    },
                    "metadata": {},
                    "output_type": "display_data"
                }
            ],
            "source": [
                "/* Author: Daniel Gargiullo */\n",
                "USE BIClass;\n",
                "\n",
                "ALTER   TABLE   [CH01-01-Dimension].DimMaritalStatus\n",
                "    ADD\n",
                "        DateAdded                       DATETIME2   NULL\n",
                "            CONSTRAINT  DF_DimMaritalStatus_DateAdded        DEFAULT (SYSDATETIME()),\n",
                "        DateOfLastUpdate                DATETIME2   NULL\n",
                "            CONSTRAINT  DF_DimMaritalStatus_DateOfLastUpdate DEFAULT (SYSDATETIME());\n",
                "GO"
            ]
        },
        {
            "cell_type": "code",
            "execution_count": 43,
            "metadata": {
                "azdata_cell_guid": "380116fc-04f8-40bd-8b27-0b9e5d7496e4",
                "language": "sql"
            },
            "outputs": [
                {
                    "data": {
                        "text/html": [
                            "Commands completed successfully."
                        ]
                    },
                    "metadata": {},
                    "output_type": "display_data"
                },
                {
                    "data": {
                        "text/html": [
                            "Total execution time: 00:00:00.007"
                        ]
                    },
                    "metadata": {},
                    "output_type": "display_data"
                }
            ],
            "source": [
                "/* Author: Daniel Gargiullo */\n",
                "USE BIClass;\n",
                "\n",
                "ALTER   TABLE   [CH01-01-Dimension].DimMaritalStatus\n",
                "    ADD\n",
                "        UserAuthorizationKey    INT NOT NULL    DEFAULT -1\n",
                "GO"
            ]
        },
        {
            "cell_type": "code",
            "execution_count": 44,
            "metadata": {
                "azdata_cell_guid": "675cc233-34cc-4f8c-ab40-84d86598a90a",
                "language": "sql"
            },
            "outputs": [
                {
                    "data": {
                        "text/html": [
                            "Commands completed successfully."
                        ]
                    },
                    "metadata": {},
                    "output_type": "display_data"
                },
                {
                    "data": {
                        "text/html": [
                            "Total execution time: 00:00:00.007"
                        ]
                    },
                    "metadata": {},
                    "output_type": "display_data"
                }
            ],
            "source": [
                "/* Author: Daniel Gargiullo */\n",
                "USE BIClass;\n",
                "\n",
                "ALTER   TABLE   [CH01-01-Dimension].DimOccupation\n",
                "    ADD\n",
                "        DateAdded                       DATETIME2   NULL\n",
                "            CONSTRAINT  DF_DimOccupation_DateAdded        DEFAULT (SYSDATETIME()),\n",
                "        DateOfLastUpdate                DATETIME2   NULL\n",
                "            CONSTRAINT  DF_DimOccupation_DateOfLastUpdate DEFAULT (SYSDATETIME());\n",
                "GO"
            ]
        },
        {
            "cell_type": "code",
            "execution_count": 45,
            "metadata": {
                "azdata_cell_guid": "b2eb9138-a9bb-4b0a-8d97-044a5988c4b9",
                "language": "sql"
            },
            "outputs": [
                {
                    "data": {
                        "text/html": [
                            "Commands completed successfully."
                        ]
                    },
                    "metadata": {},
                    "output_type": "display_data"
                },
                {
                    "data": {
                        "text/html": [
                            "Total execution time: 00:00:00.007"
                        ]
                    },
                    "metadata": {},
                    "output_type": "display_data"
                }
            ],
            "source": [
                "/* Author: Daniel Gargiullo */\n",
                "USE BIClass;\n",
                "\n",
                "ALTER   TABLE   [CH01-01-Dimension].DimOccupation\n",
                "    ADD\n",
                "        UserAuthorizationKey    INT NOT NULL    DEFAULT -1\n",
                "GO"
            ]
        },
        {
            "cell_type": "code",
            "execution_count": 46,
            "metadata": {
                "azdata_cell_guid": "24fd5416-ef83-453e-9a4a-2bf85579390c",
                "language": "sql"
            },
            "outputs": [
                {
                    "data": {
                        "text/html": [
                            "Commands completed successfully."
                        ]
                    },
                    "metadata": {},
                    "output_type": "display_data"
                },
                {
                    "data": {
                        "text/html": [
                            "Total execution time: 00:00:00.007"
                        ]
                    },
                    "metadata": {},
                    "output_type": "display_data"
                }
            ],
            "source": [
                "/* Author: Daniel Gargiullo */\n",
                "USE BIClass;\n",
                "\n",
                "ALTER   TABLE   [CH01-01-Dimension].DimOrderDate\n",
                "    ADD\n",
                "        DateAdded                       DATETIME2   NULL\n",
                "            CONSTRAINT  DF_DimOrderDate_DateAdded        DEFAULT (SYSDATETIME()),\n",
                "        DateOfLastUpdate                DATETIME2   NULL\n",
                "            CONSTRAINT  DF_DimOrderDate_DateOfLastUpdate DEFAULT (SYSDATETIME());\n",
                "GO"
            ]
        },
        {
            "cell_type": "code",
            "execution_count": 47,
            "metadata": {
                "azdata_cell_guid": "9e9be655-dd65-43dd-b8fb-0f7a74b67b8b",
                "language": "sql"
            },
            "outputs": [
                {
                    "data": {
                        "text/html": [
                            "Commands completed successfully."
                        ]
                    },
                    "metadata": {},
                    "output_type": "display_data"
                },
                {
                    "data": {
                        "text/html": [
                            "Total execution time: 00:00:00.006"
                        ]
                    },
                    "metadata": {},
                    "output_type": "display_data"
                }
            ],
            "source": [
                "/* Author: Daniel Gargiullo */\n",
                "USE BIClass;\n",
                "\n",
                "ALTER   TABLE   [CH01-01-Dimension].DimOrderDate\n",
                "    ADD\n",
                "        UserAuthorizationKey    INT NOT NULL    DEFAULT -1\n",
                "GO"
            ]
        },
        {
            "cell_type": "code",
            "execution_count": 48,
            "metadata": {
                "azdata_cell_guid": "38153939-e63e-416e-b0d0-0518590e58a9",
                "language": "sql"
            },
            "outputs": [
                {
                    "data": {
                        "text/html": [
                            "Commands completed successfully."
                        ]
                    },
                    "metadata": {},
                    "output_type": "display_data"
                },
                {
                    "data": {
                        "text/html": [
                            "Total execution time: 00:00:00.006"
                        ]
                    },
                    "metadata": {},
                    "output_type": "display_data"
                }
            ],
            "source": [
                "/* Author: Daniel Gargiullo */\n",
                "USE BIClass;\n",
                "\n",
                "ALTER   TABLE   [CH01-01-Dimension].DimProduct\n",
                "    ADD\n",
                "        DateAdded                       DATETIME2   NULL\n",
                "            CONSTRAINT  DF_DimProduct_DateAdded        DEFAULT (SYSDATETIME()),\n",
                "        DateOfLastUpdate                DATETIME2   NULL\n",
                "            CONSTRAINT  DF_DimProduct_DateOfLastUpdate DEFAULT (SYSDATETIME());\n",
                "GO"
            ]
        },
        {
            "cell_type": "code",
            "execution_count": 49,
            "metadata": {
                "azdata_cell_guid": "698d8992-f3e6-4e4c-b592-3240e432d69a",
                "language": "sql"
            },
            "outputs": [
                {
                    "data": {
                        "text/html": [
                            "Commands completed successfully."
                        ]
                    },
                    "metadata": {},
                    "output_type": "display_data"
                },
                {
                    "data": {
                        "text/html": [
                            "Total execution time: 00:00:00.005"
                        ]
                    },
                    "metadata": {},
                    "output_type": "display_data"
                }
            ],
            "source": [
                "/* Author: Daniel Gargiullo */\n",
                "USE BIClass;\n",
                "\n",
                "ALTER   TABLE   [CH01-01-Dimension].DimProduct\n",
                "    ADD\n",
                "        UserAuthorizationKey    INT NOT NULL    DEFAULT -1\n",
                "GO"
            ]
        },
        {
            "cell_type": "code",
            "execution_count": 50,
            "metadata": {
                "azdata_cell_guid": "d6196b82-becf-431e-994e-9b1d3f0fa4c9",
                "language": "sql"
            },
            "outputs": [
                {
                    "data": {
                        "text/html": [
                            "Commands completed successfully."
                        ]
                    },
                    "metadata": {},
                    "output_type": "display_data"
                },
                {
                    "data": {
                        "text/html": [
                            "Total execution time: 00:00:00.007"
                        ]
                    },
                    "metadata": {},
                    "output_type": "display_data"
                }
            ],
            "source": [
                "/* Author: Daniel Gargiullo */\n",
                "USE BIClass;\n",
                "\n",
                "ALTER   TABLE   [CH01-01-Dimension].DimTerritory\n",
                "    ADD\n",
                "        DateAdded                       DATETIME2   NULL\n",
                "            CONSTRAINT  DF_DimTerritory_DateAdded        DEFAULT (SYSDATETIME()),\n",
                "        DateOfLastUpdate                DATETIME2   NULL\n",
                "            CONSTRAINT  DF_DimTerritory_DateOfLastUpdate DEFAULT (SYSDATETIME());\n",
                "GO"
            ]
        },
        {
            "cell_type": "code",
            "execution_count": 51,
            "metadata": {
                "azdata_cell_guid": "55c57493-5815-43a0-9002-7d873016624d",
                "language": "sql"
            },
            "outputs": [
                {
                    "data": {
                        "text/html": [
                            "Commands completed successfully."
                        ]
                    },
                    "metadata": {},
                    "output_type": "display_data"
                },
                {
                    "data": {
                        "text/html": [
                            "Total execution time: 00:00:00.006"
                        ]
                    },
                    "metadata": {},
                    "output_type": "display_data"
                }
            ],
            "source": [
                "/* Author: Daniel Gargiullo */\n",
                "USE BIClass;\n",
                "\n",
                "ALTER   TABLE   [CH01-01-Dimension].DimTerritory\n",
                "    ADD\n",
                "        UserAuthorizationKey    INT NOT NULL    DEFAULT -1\n",
                "GO"
            ]
        },
        {
            "cell_type": "code",
            "execution_count": 53,
            "metadata": {
                "azdata_cell_guid": "9deeb3f9-a4db-4b15-8b12-f09881919201",
                "language": "sql"
            },
            "outputs": [
                {
                    "data": {
                        "text/html": [
                            "Commands completed successfully."
                        ]
                    },
                    "metadata": {},
                    "output_type": "display_data"
                },
                {
                    "data": {
                        "text/html": [
                            "Total execution time: 00:00:00.007"
                        ]
                    },
                    "metadata": {},
                    "output_type": "display_data"
                }
            ],
            "source": [
                "/* Author: Daniel Gargiullo */\n",
                "USE BIClass;\n",
                "\n",
                "ALTER   TABLE   [CH01-01-Dimension].SalesManagers\n",
                "    ADD\n",
                "        DateAdded                       DATETIME2   NULL\n",
                "            CONSTRAINT  DF_SalesManagers_DateAdded        DEFAULT (SYSDATETIME()),\n",
                "        DateOfLastUpdate                DATETIME2   NULL\n",
                "            CONSTRAINT  DF_SalesManagers_DateOfLastUpdate DEFAULT (SYSDATETIME());\n",
                "GO"
            ]
        },
        {
            "cell_type": "code",
            "execution_count": 54,
            "metadata": {
                "azdata_cell_guid": "39e801e8-bc6b-46c1-9591-c790cd0ebd84",
                "language": "sql"
            },
            "outputs": [
                {
                    "data": {
                        "text/html": [
                            "Commands completed successfully."
                        ]
                    },
                    "metadata": {},
                    "output_type": "display_data"
                },
                {
                    "data": {
                        "text/html": [
                            "Total execution time: 00:00:00.014"
                        ]
                    },
                    "metadata": {},
                    "output_type": "display_data"
                }
            ],
            "source": [
                "/* Author: Daniel Gargiullo */\n",
                "USE BIClass;\n",
                "\n",
                "ALTER   TABLE   [CH01-01-Dimension].SalesManagers\n",
                "    ADD\n",
                "        UserAuthorizationKey    INT NOT NULL    DEFAULT -1\n",
                "GO"
            ]
        },
        {
            "cell_type": "code",
            "execution_count": 57,
            "metadata": {
                "azdata_cell_guid": "a8d8ab35-c647-4b70-a56c-71e272e4772c",
                "language": "sql"
            },
            "outputs": [
                {
                    "data": {
                        "text/html": [
                            "Commands completed successfully."
                        ]
                    },
                    "metadata": {},
                    "output_type": "display_data"
                },
                {
                    "data": {
                        "text/html": [
                            "Total execution time: 00:00:00.006"
                        ]
                    },
                    "metadata": {},
                    "output_type": "display_data"
                }
            ],
            "source": [
                "/* Author: Daniel Gargiullo */\n",
                "USE BIClass;\n",
                "\n",
                "ALTER   TABLE   [CH01-01-Fact].[Data]\n",
                "    ADD\n",
                "        DateAdded                       DATETIME2   NULL\n",
                "            CONSTRAINT  DF_FactData_DateAdded        DEFAULT (SYSDATETIME()),\n",
                "        DateOfLastUpdate                DATETIME2   NULL\n",
                "            CONSTRAINT  DF_FactData_DateOfLastUpdate DEFAULT (SYSDATETIME());\n",
                "GO"
            ]
        },
        {
            "cell_type": "code",
            "execution_count": 58,
            "metadata": {
                "azdata_cell_guid": "c643fa90-4ec4-4d84-96c5-3d6ebf19b5bd",
                "language": "sql"
            },
            "outputs": [
                {
                    "data": {
                        "text/html": [
                            "Commands completed successfully."
                        ]
                    },
                    "metadata": {},
                    "output_type": "display_data"
                },
                {
                    "data": {
                        "text/html": [
                            "Total execution time: 00:00:00.006"
                        ]
                    },
                    "metadata": {},
                    "output_type": "display_data"
                }
            ],
            "source": [
                "/* Author: Daniel Gargiullo */\n",
                "USE BIClass;\n",
                "\n",
                "ALTER   TABLE   [CH01-01-Fact].[Data]\n",
                "    ADD\n",
                "        UserAuthorizationKey    INT NOT NULL    DEFAULT -1\n",
                "GO"
            ]
        },
        {
            "attachments": {},
            "cell_type": "markdown",
            "metadata": {
                "azdata_cell_guid": "64a3bf2d-d9be-4cfb-a838-bf21554b8878",
                "language": "sql"
            },
            "source": [
                "## Create the `DimProductCategory` and `DimProductSubcategory` tables:"
            ]
        },
        {
            "cell_type": "code",
            "execution_count": null,
            "metadata": {
                "azdata_cell_guid": "16188a90-17d5-40eb-a206-a56ca9f88807",
                "language": "sql"
            },
            "outputs": [],
            "source": [
                "/* Author: Daniel Gargiullo */\n",
                "USE BIClass;\n",
                "\n",
                "CREATE  TABLE   [CH01-01-Dimension].[DimProductCategory]    (\n",
                "    ProductCategoryKey  INT         NOT NULL    PRIMARY KEY,\n",
                "    CategoryName        VARCHAR(20) NOT NULL\n",
                ");"
            ]
        },
        {
            "cell_type": "code",
            "execution_count": null,
            "metadata": {
                "azdata_cell_guid": "e150b07f-72a8-41df-8fea-c6ecbeb666e1",
                "language": "sql"
            },
            "outputs": [],
            "source": [
                "/* Author: Daniel Gargiullo */\n",
                "USE BIClass;\n",
                "\n",
                "CREATE TABLE [CH01-01-Dimension].[DimProductSubcategory] (\n",
                "    ProductSubcategoryKey   INT         NOT NULL    PRIMARY KEY,\n",
                "    ProductCategoryKey      INT         NOT NULL,\n",
                "    SubcategoryName         VARCHAR(20) NOT NULL,\n",
                "    FOREIGN KEY (ProductCategoryKey) REFERENCES [CH01-01-Dimension].[DimProductCategory](ProductCategoryKey)\n",
                ");"
            ]
        },
        {
            "cell_type": "code",
            "execution_count": null,
            "metadata": {},
            "outputs": [],
            "source": [
                "/* Author: Sarmad Ali */\n",
                "CREATE PROCEDURE [Process].[usp_TrackWorkFlow]\n",
                "    @StartTime DATETIME2,\n",
                "    @WorkFlowDescription NVARCHAR(100),\n",
                "    @WorkFlowStepTableRowCount int,\n",
                "    @UserAuthorizationKey int\n",
                "AS\n",
                "BEGIN\n",
                "    SET NOCOUNT ON;\n",
                "\n",
                "    INSERT INTO Process.WorkflowSteps (\n",
                "        WorkFlowStepKey,  \n",
                "        WorkFlowStepDescription,\n",
                "        WorkFlowStepTableRowCount,\n",
                "        StartingDateTime,\n",
                "        EndingDateTime, \n",
                "        ClassTime,      \n",
                "        UserAuthorizationKey\n",
                "    )\n",
                "    VALUES (\n",
                "        NEXT VALUE FOR Process.WorkflowStepSequence, \n",
                "        @WorkFlowDescription,\n",
                "        @WorkFlowStepTableRowCount,\n",
                "        @StartTime,\n",
                "        SYSDATETIME(), \n",
                "        DEFAULT,      \n",
                "        @UserAuthorizationKey\n",
                "    );\n",
                "END;\n",
                "GO"
            ]
        }
    ],
    "metadata": {
        "kernelspec": {
            "display_name": "SQL",
            "language": "sql",
            "name": "SQL"
        },
        "language_info": {
            "name": "sql",
            "version": ""
        }
    },
    "nbformat": 4,
    "nbformat_minor": 2
}
