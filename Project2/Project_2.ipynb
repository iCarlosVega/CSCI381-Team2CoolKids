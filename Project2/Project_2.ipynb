{
    "metadata": {
        "kernelspec": {
            "name": "SQL",
            "display_name": "SQL",
            "language": "sql"
        },
        "language_info": {
            "name": "sql",
            "version": ""
        }
    },
    "nbformat_minor": 2,
    "nbformat": 4,
    "cells": [
        {
            "cell_type": "markdown",
            "source": [
                "## Process `FileUpload.OriginallyLoadedData` table into the `ParsedFileUpload.OriginallyLoadedData` table:\n"
            ],
            "metadata": {
                "azdata_cell_guid": "06c89eb9-66b9-45fa-8285-22e6f761860b"
            },
            "attachments": {}
        },
        {
            "cell_type": "code",
            "source": [
                "/* Author: Daniel Gargiullo */\n",
                "USE BIClass\n",
                "GO\n",
                "\n",
                "SELECT\n",
                "    *\n",
                "    INTO\n",
                "        FileUpload.ParsedOriginallyLoadedData\n",
                "FROM\n",
                "    FileUpload.OriginallyLoadedData;"
            ],
            "metadata": {
                "azdata_cell_guid": "8d4db055-8e95-4dd1-a892-939b0ebfc390",
                "language": "sql",
                "tags": []
            },
            "outputs": [
                {
                    "output_type": "display_data",
                    "data": {
                        "text/html": "Commands completed successfully."
                    },
                    "metadata": {}
                },
                {
                    "output_type": "display_data",
                    "data": {
                        "text/html": "(60398 rows affected)"
                    },
                    "metadata": {}
                },
                {
                    "output_type": "display_data",
                    "data": {
                        "text/html": "Total execution time: 00:00:01.519"
                    },
                    "metadata": {}
                }
            ],
            "execution_count": 33
        },
        {
            "cell_type": "markdown",
            "source": [
                "## Create a new table `DbSecurity.UserAuthorization` in this project for adding the users who worked on the project:"
            ],
            "metadata": {
                "azdata_cell_guid": "aeeb99db-ed30-4053-b105-1fe76278a449",
                "language": "sql"
            },
            "attachments": {}
        },
        {
            "cell_type": "code",
            "source": [
                "/* Author: Daniel Gargiullo */\n",
                "USE BIClass\n",
                "GO\n",
                "\n",
                "CREATE  SCHEMA  DbSecurity\n",
                "\n",
                "CREATE  TABLE   DbSecurity.UserAuthorization    (\n",
                "    UserAuthorizationKey    INT             NOT NULL    PRIMARY KEY,\n",
                "    ClassTime               NCHAR(5)            NULL    DEFAULT '10:45',\n",
                "    IndividualProject       NVARCHAR(60)        NULL    DEFAULT 'PROJECT 2 RECREATE THE BICLASS DATABASE STAR SCHEMA',\n",
                "    GroupMemberLastName     NVARCHAR(35)    NOT NULL,\n",
                "    GroupMemberFirstName    NVARCHAR(25)    NOT NULL,\n",
                "    GroupName               NVARCHAR(20)    NOT NULL    DEFAULT 'Group 2',\n",
                "    DateAdded               DATETIME2           NULL    DEFAULT SYSDATETIME()\n",
                ");"
            ],
            "metadata": {
                "azdata_cell_guid": "74657777-d238-426c-b612-c469fa76a366",
                "language": "sql",
                "tags": []
            },
            "outputs": [
                {
                    "output_type": "display_data",
                    "data": {
                        "text/html": "Commands completed successfully."
                    },
                    "metadata": {}
                },
                {
                    "output_type": "display_data",
                    "data": {
                        "text/html": "Commands completed successfully."
                    },
                    "metadata": {}
                },
                {
                    "output_type": "display_data",
                    "data": {
                        "text/html": "Total execution time: 00:00:00.009"
                    },
                    "metadata": {}
                }
            ],
            "execution_count": 34
        },
        {
            "cell_type": "markdown",
            "source": [
                "## Insert group member names into the `DbSecurity.UserAuthorization` table:"
            ],
            "metadata": {
                "azdata_cell_guid": "0002a2c9-cad5-4897-99c4-bdae34d2dee2",
                "language": "sql"
            },
            "attachments": {}
        },
        {
            "cell_type": "code",
            "source": [
                "/* Author: Daniel Gargiullo */\n",
                "USE BIClass\n",
                "GO\n",
                "\n",
                "INSERT  INTO    DbSecurity.UserAuthorization   \n",
                "    (UserAuthorizationKey, ClassTime, IndividualProject, GroupMemberLastName, GroupMemberFirstName, GroupName, DateAdded)\n",
                "    VALUES\n",
                "        (1, DEFAULT, DEFAULT, 'Gargiullo'           , 'Daniel'      , DEFAULT, DEFAULT),\n",
                "        (2, DEFAULT, DEFAULT, 'Vega'                , 'Carlos'      , DEFAULT, DEFAULT),\n",
                "        (3, DEFAULT, DEFAULT, 'Ali'                 , 'Sarmad'      , DEFAULT, DEFAULT),\n",
                "        (4, DEFAULT, DEFAULT, 'Weigand-Suminski'    , 'Oksana'      , DEFAULT, DEFAULT),\n",
                "        (5, DEFAULT, DEFAULT, 'Singh'               , 'Jaschiran'   , DEFAULT, DEFAULT),\n",
                "        (6, DEFAULT, DEFAULT, 'Na'                  , 'Augusta'     , DEFAULT, DEFAULT);"
            ],
            "metadata": {
                "azdata_cell_guid": "d1476641-c078-4a05-b6f1-12c77953bf68",
                "language": "sql",
                "tags": []
            },
            "outputs": [
                {
                    "output_type": "display_data",
                    "data": {
                        "text/html": "Commands completed successfully."
                    },
                    "metadata": {}
                },
                {
                    "output_type": "display_data",
                    "data": {
                        "text/html": "(6 rows affected)"
                    },
                    "metadata": {}
                },
                {
                    "output_type": "display_data",
                    "data": {
                        "text/html": "Total execution time: 00:00:00.008"
                    },
                    "metadata": {}
                }
            ],
            "execution_count": 35
        },
        {
            "cell_type": "markdown",
            "source": [
                "## Create a new schema called `Process`, and a table called `WorkflowSteps`:"
            ],
            "metadata": {
                "azdata_cell_guid": "8d11dc37-57f2-48a3-809e-d9a6f543d5e0",
                "language": "sql"
            },
            "attachments": {}
        },
        {
            "cell_type": "code",
            "source": [
                "/* Author: Daniel Gargiullo */\n",
                "USE BIClass\n",
                "GO\n",
                "\n",
                "CREATE  SCHEMA  Process\n",
                "\n",
                "CREATE  TABLE   Process.WorkflowSteps   (\n",
                "    WorkflowStepKey             INT             NOT NULL    PRIMARY KEY,\n",
                "    UserAuthorizationKey        INT             NOT NULL    FOREIGN KEY REFERENCES  DbSecurity.UserAuthorization(UserAuthorizationKey),\n",
                "    WorkFlowStepDescription     NVARCHAR(100)   NOT NULL,\n",
                "    WorkFlowStepTableRowCount   INT                 NULL    DEFAULT 0,\n",
                "    StartingDateTime            DATETIME2(7)        NULL    DEFAULT SYSDATETIME(),\n",
                "    EndingDateTime              DATETIME2(7)        NULL    DEFAULT SYSDATETIME(),\n",
                "    ClassTime                   CHAR(5)             NULL    DEFAULT '10:45'\n",
                ");"
            ],
            "metadata": {
                "azdata_cell_guid": "2c253a98-861b-4600-8922-2d61942ea2d8",
                "language": "sql"
            },
            "outputs": [
                {
                    "output_type": "display_data",
                    "data": {
                        "text/html": "Commands completed successfully."
                    },
                    "metadata": {}
                },
                {
                    "output_type": "display_data",
                    "data": {
                        "text/html": "Commands completed successfully."
                    },
                    "metadata": {}
                },
                {
                    "output_type": "display_data",
                    "data": {
                        "text/html": "Total execution time: 00:00:00.009"
                    },
                    "metadata": {}
                }
            ],
            "execution_count": 36
        },
        {
            "cell_type": "markdown",
            "source": [
                "## Modify pre-existing tables according to project specifications.\n",
                "### Each table will be given three (3) and two (2) new constraints:\n",
                "#### Columns\n",
                "- `UserAuthorizationKey`\n",
                "    - This is so that we eliminate the identity key and instead use sequence objects in its place.\n",
                "- `DateAdded`\n",
                "- `DateOfLastUpdate`\n",
                "#### Constraints\n",
                "- `DF_DimCustomer_DateAdded`\n",
                "- `DF_DimCustomer_DateOfLastUpdate`"
            ],
            "metadata": {
                "azdata_cell_guid": "a7bf1e73-2106-47f5-924b-1d35f09f46e9",
                "language": "sql"
            },
            "attachments": {}
        },
        {
            "cell_type": "code",
            "source": [
                "/* Author: Daniel Gargiullo */\n",
                "USE BIClass;\n",
                "\n",
                "ALTER   TABLE   [CH01-01-Dimension].DimCustomer\n",
                "    ADD\n",
                "        DateAdded                       DATETIME2   NULL\n",
                "            CONSTRAINT  DF_DimCustomer_DateAdded        DEFAULT (SYSDATETIME()),\n",
                "        DateOfLastUpdate                DATETIME2   NULL\n",
                "            CONSTRAINT  DF_DimCustomer_DateOfLastUpdate DEFAULT (SYSDATETIME());\n",
                "GO"
            ],
            "metadata": {
                "azdata_cell_guid": "cf40dbfd-92c9-4aba-b51f-6b1af7e3df8f",
                "language": "sql",
                "tags": []
            },
            "outputs": [
                {
                    "output_type": "display_data",
                    "data": {
                        "text/html": "Commands completed successfully."
                    },
                    "metadata": {}
                },
                {
                    "output_type": "display_data",
                    "data": {
                        "text/html": "Total execution time: 00:00:00.008"
                    },
                    "metadata": {}
                }
            ],
            "execution_count": 37
        },
        {
            "cell_type": "code",
            "source": [
                "/* Author: Daniel Gargiullo */\n",
                "USE BIClass;\n",
                "\n",
                "ALTER   TABLE   [CH01-01-Dimension].DimCustomer\n",
                "    ADD\n",
                "        UserAuthorizationKey    INT NOT NULL    DEFAULT -1\n",
                "GO"
            ],
            "metadata": {
                "azdata_cell_guid": "933b8a68-6a70-4100-beba-2c2b795c8a9a",
                "language": "sql"
            },
            "outputs": [
                {
                    "output_type": "display_data",
                    "data": {
                        "text/html": "Commands completed successfully."
                    },
                    "metadata": {}
                },
                {
                    "output_type": "display_data",
                    "data": {
                        "text/html": "Total execution time: 00:00:00.006"
                    },
                    "metadata": {}
                }
            ],
            "execution_count": 38
        },
        {
            "cell_type": "code",
            "source": [
                "/* Author: Daniel Gargiullo */\n",
                "USE BIClass;\n",
                "\n",
                "ALTER   TABLE   [CH01-01-Dimension].DimGender\n",
                "    ADD\n",
                "        DateAdded                       DATETIME2   NULL\n",
                "            CONSTRAINT  DF_DimGender_DateAdded        DEFAULT (SYSDATETIME()),\n",
                "        DateOfLastUpdate                DATETIME2   NULL\n",
                "            CONSTRAINT  DF_DimGender_DateOfLastUpdate DEFAULT (SYSDATETIME());\n",
                "GO"
            ],
            "metadata": {
                "azdata_cell_guid": "33913428-6fe2-4976-b4e3-89e689f46692",
                "language": "sql"
            },
            "outputs": [
                {
                    "output_type": "display_data",
                    "data": {
                        "text/html": "Commands completed successfully."
                    },
                    "metadata": {}
                },
                {
                    "output_type": "display_data",
                    "data": {
                        "text/html": "Total execution time: 00:00:00.006"
                    },
                    "metadata": {}
                }
            ],
            "execution_count": 40
        },
        {
            "cell_type": "code",
            "source": [
                "/* Author: Daniel Gargiullo */\n",
                "USE BIClass;\n",
                "\n",
                "ALTER   TABLE   [CH01-01-Dimension].DimGender\n",
                "    ADD\n",
                "        UserAuthorizationKey    INT NOT NULL    DEFAULT -1\n",
                "GO"
            ],
            "metadata": {
                "azdata_cell_guid": "e531c7d6-a15f-43e0-91d3-be0a2a642369",
                "language": "sql"
            },
            "outputs": [
                {
                    "output_type": "display_data",
                    "data": {
                        "text/html": "Commands completed successfully."
                    },
                    "metadata": {}
                },
                {
                    "output_type": "display_data",
                    "data": {
                        "text/html": "Total execution time: 00:00:00.006"
                    },
                    "metadata": {}
                }
            ],
            "execution_count": 41
        },
        {
            "cell_type": "code",
            "source": [
                "/* Author: Daniel Gargiullo */\n",
                "USE BIClass;\n",
                "\n",
                "ALTER   TABLE   [CH01-01-Dimension].DimMaritalStatus\n",
                "    ADD\n",
                "        DateAdded                       DATETIME2   NULL\n",
                "            CONSTRAINT  DF_DimMaritalStatus_DateAdded        DEFAULT (SYSDATETIME()),\n",
                "        DateOfLastUpdate                DATETIME2   NULL\n",
                "            CONSTRAINT  DF_DimMaritalStatus_DateOfLastUpdate DEFAULT (SYSDATETIME());\n",
                "GO"
            ],
            "metadata": {
                "azdata_cell_guid": "6d3d8baa-556b-4e1c-91a1-9a257224f386",
                "language": "sql"
            },
            "outputs": [
                {
                    "output_type": "display_data",
                    "data": {
                        "text/html": "Commands completed successfully."
                    },
                    "metadata": {}
                },
                {
                    "output_type": "display_data",
                    "data": {
                        "text/html": "Total execution time: 00:00:00.007"
                    },
                    "metadata": {}
                }
            ],
            "execution_count": 42
        },
        {
            "cell_type": "code",
            "source": [
                "/* Author: Daniel Gargiullo */\n",
                "USE BIClass;\n",
                "\n",
                "ALTER   TABLE   [CH01-01-Dimension].DimMaritalStatus\n",
                "    ADD\n",
                "        UserAuthorizationKey    INT NOT NULL    DEFAULT -1\n",
                "GO"
            ],
            "metadata": {
                "azdata_cell_guid": "380116fc-04f8-40bd-8b27-0b9e5d7496e4",
                "language": "sql"
            },
            "outputs": [
                {
                    "output_type": "display_data",
                    "data": {
                        "text/html": "Commands completed successfully."
                    },
                    "metadata": {}
                },
                {
                    "output_type": "display_data",
                    "data": {
                        "text/html": "Total execution time: 00:00:00.007"
                    },
                    "metadata": {}
                }
            ],
            "execution_count": 43
        },
        {
            "cell_type": "code",
            "source": [
                "/* Author: Daniel Gargiullo */\n",
                "USE BIClass;\n",
                "\n",
                "ALTER   TABLE   [CH01-01-Dimension].DimOccupation\n",
                "    ADD\n",
                "        DateAdded                       DATETIME2   NULL\n",
                "            CONSTRAINT  DF_DimOccupation_DateAdded        DEFAULT (SYSDATETIME()),\n",
                "        DateOfLastUpdate                DATETIME2   NULL\n",
                "            CONSTRAINT  DF_DimOccupation_DateOfLastUpdate DEFAULT (SYSDATETIME());\n",
                "GO"
            ],
            "metadata": {
                "azdata_cell_guid": "675cc233-34cc-4f8c-ab40-84d86598a90a",
                "language": "sql"
            },
            "outputs": [
                {
                    "output_type": "display_data",
                    "data": {
                        "text/html": "Commands completed successfully."
                    },
                    "metadata": {}
                },
                {
                    "output_type": "display_data",
                    "data": {
                        "text/html": "Total execution time: 00:00:00.007"
                    },
                    "metadata": {}
                }
            ],
            "execution_count": 44
        },
        {
            "cell_type": "code",
            "source": [
                "/* Author: Daniel Gargiullo */\n",
                "USE BIClass;\n",
                "\n",
                "ALTER   TABLE   [CH01-01-Dimension].DimOccupation\n",
                "    ADD\n",
                "        UserAuthorizationKey    INT NOT NULL    DEFAULT -1\n",
                "GO"
            ],
            "metadata": {
                "azdata_cell_guid": "b2eb9138-a9bb-4b0a-8d97-044a5988c4b9",
                "language": "sql"
            },
            "outputs": [
                {
                    "output_type": "display_data",
                    "data": {
                        "text/html": "Commands completed successfully."
                    },
                    "metadata": {}
                },
                {
                    "output_type": "display_data",
                    "data": {
                        "text/html": "Total execution time: 00:00:00.007"
                    },
                    "metadata": {}
                }
            ],
            "execution_count": 45
        },
        {
            "cell_type": "code",
            "source": [
                "/* Author: Daniel Gargiullo */\n",
                "USE BIClass;\n",
                "\n",
                "ALTER   TABLE   [CH01-01-Dimension].DimOrderDate\n",
                "    ADD\n",
                "        DateAdded                       DATETIME2   NULL\n",
                "            CONSTRAINT  DF_DimOrderDate_DateAdded        DEFAULT (SYSDATETIME()),\n",
                "        DateOfLastUpdate                DATETIME2   NULL\n",
                "            CONSTRAINT  DF_DimOrderDate_DateOfLastUpdate DEFAULT (SYSDATETIME());\n",
                "GO"
            ],
            "metadata": {
                "azdata_cell_guid": "24fd5416-ef83-453e-9a4a-2bf85579390c",
                "language": "sql"
            },
            "outputs": [
                {
                    "output_type": "display_data",
                    "data": {
                        "text/html": "Commands completed successfully."
                    },
                    "metadata": {}
                },
                {
                    "output_type": "display_data",
                    "data": {
                        "text/html": "Total execution time: 00:00:00.007"
                    },
                    "metadata": {}
                }
            ],
            "execution_count": 46
        },
        {
            "cell_type": "code",
            "source": [
                "/* Author: Daniel Gargiullo */\n",
                "USE BIClass;\n",
                "\n",
                "ALTER   TABLE   [CH01-01-Dimension].DimOrderDate\n",
                "    ADD\n",
                "        UserAuthorizationKey    INT NOT NULL    DEFAULT -1\n",
                "GO"
            ],
            "metadata": {
                "azdata_cell_guid": "9e9be655-dd65-43dd-b8fb-0f7a74b67b8b",
                "language": "sql"
            },
            "outputs": [
                {
                    "output_type": "display_data",
                    "data": {
                        "text/html": "Commands completed successfully."
                    },
                    "metadata": {}
                },
                {
                    "output_type": "display_data",
                    "data": {
                        "text/html": "Total execution time: 00:00:00.006"
                    },
                    "metadata": {}
                }
            ],
            "execution_count": 47
        },
        {
            "cell_type": "code",
            "source": [
                "/* Author: Daniel Gargiullo */\n",
                "USE BIClass;\n",
                "\n",
                "ALTER   TABLE   [CH01-01-Dimension].DimProduct\n",
                "    ADD\n",
                "        DateAdded                       DATETIME2   NULL\n",
                "            CONSTRAINT  DF_DimProduct_DateAdded        DEFAULT (SYSDATETIME()),\n",
                "        DateOfLastUpdate                DATETIME2   NULL\n",
                "            CONSTRAINT  DF_DimProduct_DateOfLastUpdate DEFAULT (SYSDATETIME());\n",
                "GO"
            ],
            "metadata": {
                "azdata_cell_guid": "38153939-e63e-416e-b0d0-0518590e58a9",
                "language": "sql"
            },
            "outputs": [
                {
                    "output_type": "display_data",
                    "data": {
                        "text/html": "Commands completed successfully."
                    },
                    "metadata": {}
                },
                {
                    "output_type": "display_data",
                    "data": {
                        "text/html": "Total execution time: 00:00:00.006"
                    },
                    "metadata": {}
                }
            ],
            "execution_count": 48
        },
        {
            "cell_type": "code",
            "source": [
                "/* Author: Daniel Gargiullo */\n",
                "USE BIClass;\n",
                "\n",
                "ALTER   TABLE   [CH01-01-Dimension].DimProduct\n",
                "    ADD\n",
                "        UserAuthorizationKey    INT NOT NULL    DEFAULT -1\n",
                "GO"
            ],
            "metadata": {
                "azdata_cell_guid": "698d8992-f3e6-4e4c-b592-3240e432d69a",
                "language": "sql"
            },
            "outputs": [
                {
                    "output_type": "display_data",
                    "data": {
                        "text/html": "Commands completed successfully."
                    },
                    "metadata": {}
                },
                {
                    "output_type": "display_data",
                    "data": {
                        "text/html": "Total execution time: 00:00:00.005"
                    },
                    "metadata": {}
                }
            ],
            "execution_count": 49
        },
        {
            "cell_type": "code",
            "source": [
                "/* Author: Daniel Gargiullo */\n",
                "USE BIClass;\n",
                "\n",
                "ALTER   TABLE   [CH01-01-Dimension].DimTerritory\n",
                "    ADD\n",
                "        DateAdded                       DATETIME2   NULL\n",
                "            CONSTRAINT  DF_DimTerritory_DateAdded        DEFAULT (SYSDATETIME()),\n",
                "        DateOfLastUpdate                DATETIME2   NULL\n",
                "            CONSTRAINT  DF_DimTerritory_DateOfLastUpdate DEFAULT (SYSDATETIME());\n",
                "GO"
            ],
            "metadata": {
                "azdata_cell_guid": "d6196b82-becf-431e-994e-9b1d3f0fa4c9",
                "language": "sql"
            },
            "outputs": [
                {
                    "output_type": "display_data",
                    "data": {
                        "text/html": "Commands completed successfully."
                    },
                    "metadata": {}
                },
                {
                    "output_type": "display_data",
                    "data": {
                        "text/html": "Total execution time: 00:00:00.007"
                    },
                    "metadata": {}
                }
            ],
            "execution_count": 50
        },
        {
            "cell_type": "code",
            "source": [
                "/* Author: Daniel Gargiullo */\n",
                "USE BIClass;\n",
                "\n",
                "ALTER   TABLE   [CH01-01-Dimension].DimTerritory\n",
                "    ADD\n",
                "        UserAuthorizationKey    INT NOT NULL    DEFAULT -1\n",
                "GO"
            ],
            "metadata": {
                "azdata_cell_guid": "55c57493-5815-43a0-9002-7d873016624d",
                "language": "sql"
            },
            "outputs": [
                {
                    "output_type": "display_data",
                    "data": {
                        "text/html": "Commands completed successfully."
                    },
                    "metadata": {}
                },
                {
                    "output_type": "display_data",
                    "data": {
                        "text/html": "Total execution time: 00:00:00.006"
                    },
                    "metadata": {}
                }
            ],
            "execution_count": 51
        },
        {
            "cell_type": "code",
            "source": [
                "/* Author: Daniel Gargiullo */\n",
                "USE BIClass;\n",
                "\n",
                "ALTER   TABLE   [CH01-01-Dimension].SalesManagers\n",
                "    ADD\n",
                "        DateAdded                       DATETIME2   NULL\n",
                "            CONSTRAINT  DF_SalesManagers_DateAdded        DEFAULT (SYSDATETIME()),\n",
                "        DateOfLastUpdate                DATETIME2   NULL\n",
                "            CONSTRAINT  DF_SalesManagers_DateOfLastUpdate DEFAULT (SYSDATETIME());\n",
                "GO"
            ],
            "metadata": {
                "azdata_cell_guid": "9deeb3f9-a4db-4b15-8b12-f09881919201",
                "language": "sql"
            },
            "outputs": [
                {
                    "output_type": "display_data",
                    "data": {
                        "text/html": "Commands completed successfully."
                    },
                    "metadata": {}
                },
                {
                    "output_type": "display_data",
                    "data": {
                        "text/html": "Total execution time: 00:00:00.007"
                    },
                    "metadata": {}
                }
            ],
            "execution_count": 53
        },
        {
            "cell_type": "code",
            "source": [
                "/* Author: Daniel Gargiullo */\n",
                "USE BIClass;\n",
                "\n",
                "ALTER   TABLE   [CH01-01-Dimension].SalesManagers\n",
                "    ADD\n",
                "        UserAuthorizationKey    INT NOT NULL    DEFAULT -1\n",
                "GO"
            ],
            "metadata": {
                "azdata_cell_guid": "39e801e8-bc6b-46c1-9591-c790cd0ebd84",
                "language": "sql"
            },
            "outputs": [
                {
                    "output_type": "display_data",
                    "data": {
                        "text/html": "Commands completed successfully."
                    },
                    "metadata": {}
                },
                {
                    "output_type": "display_data",
                    "data": {
                        "text/html": "Total execution time: 00:00:00.014"
                    },
                    "metadata": {}
                }
            ],
            "execution_count": 54
        },
        {
            "cell_type": "code",
            "source": [
                "/* Author: Daniel Gargiullo */\n",
                "USE BIClass;\n",
                "\n",
                "ALTER   TABLE   [CH01-01-Fact].[Data]\n",
                "    ADD\n",
                "        DateAdded                       DATETIME2   NULL\n",
                "            CONSTRAINT  DF_FactData_DateAdded        DEFAULT (SYSDATETIME()),\n",
                "        DateOfLastUpdate                DATETIME2   NULL\n",
                "            CONSTRAINT  DF_FactData_DateOfLastUpdate DEFAULT (SYSDATETIME());\n",
                "GO"
            ],
            "metadata": {
                "azdata_cell_guid": "a8d8ab35-c647-4b70-a56c-71e272e4772c",
                "language": "sql"
            },
            "outputs": [
                {
                    "output_type": "display_data",
                    "data": {
                        "text/html": "Commands completed successfully."
                    },
                    "metadata": {}
                },
                {
                    "output_type": "display_data",
                    "data": {
                        "text/html": "Total execution time: 00:00:00.006"
                    },
                    "metadata": {}
                }
            ],
            "execution_count": 57
        },
        {
            "cell_type": "code",
            "source": [
                "/* Author: Daniel Gargiullo */\n",
                "USE BIClass;\n",
                "\n",
                "ALTER   TABLE   [CH01-01-Fact].[Data]\n",
                "    ADD\n",
                "        UserAuthorizationKey    INT NOT NULL    DEFAULT -1\n",
                "GO"
            ],
            "metadata": {
                "azdata_cell_guid": "c643fa90-4ec4-4d84-96c5-3d6ebf19b5bd",
                "language": "sql"
            },
            "outputs": [
                {
                    "output_type": "display_data",
                    "data": {
                        "text/html": "Commands completed successfully."
                    },
                    "metadata": {}
                },
                {
                    "output_type": "display_data",
                    "data": {
                        "text/html": "Total execution time: 00:00:00.006"
                    },
                    "metadata": {}
                }
            ],
            "execution_count": 58
        },
        {
            "cell_type": "markdown",
            "source": [
                "## Create the `DimProductCategory` and `DimProductSubcategory` tables:"
            ],
            "metadata": {
                "azdata_cell_guid": "64a3bf2d-d9be-4cfb-a838-bf21554b8878",
                "language": "sql"
            },
            "attachments": {}
        },
        {
            "cell_type": "code",
            "source": [
                "/* Author: Daniel Gargiullo */\n",
                "USE BIClass;\n",
                "\n",
                "CREATE  TABLE   [CH01-01-Dimension].[DimProductCategory]    (\n",
                "    ProductCategoryKey  INT         NOT NULL    PRIMARY KEY,\n",
                "    CategoryName        VARCHAR(20) NOT NULL\n",
                ");"
            ],
            "metadata": {
                "azdata_cell_guid": "16188a90-17d5-40eb-a206-a56ca9f88807",
                "language": "sql"
            },
            "outputs": [],
            "execution_count": null
        },
        {
            "cell_type": "code",
            "source": [
                "/* Author: Daniel Gargiullo */\n",
                "USE BIClass;\n",
                "\n",
                "CREATE TABLE [CH01-01-Dimension].[DimProductSubcategory] (\n",
                "    ProductSubcategoryKey   INT         NOT NULL    PRIMARY KEY,\n",
                "    ProductCategoryKey      INT         NOT NULL,\n",
                "    SubcategoryName         VARCHAR(20) NOT NULL,\n",
                "    FOREIGN KEY (ProductCategoryKey) REFERENCES [CH01-01-Dimension].[DimProductCategory](ProductCategoryKey)\n",
                ");"
            ],
            "metadata": {
                "azdata_cell_guid": "e150b07f-72a8-41df-8fea-c6ecbeb666e1",
                "language": "sql"
            },
            "outputs": [
                {
                    "output_type": "error",
                    "evalue": "Msg 2714, Level 16, State 6, Line 4\nThere is already an object named 'DimProductSubcategory' in the database.",
                    "ename": "",
                    "traceback": []
                },
                {
                    "output_type": "display_data",
                    "data": {
                        "text/html": "Total execution time: 00:00:00.008"
                    },
                    "metadata": {}
                }
            ],
            "execution_count": 3
        },
        {
            "cell_type": "code",
            "source": [
                "/* Author: Sarmad Ali */\n",
                "CREATE PROCEDURE [Process].[usp_TrackWorkFlow]\n",
                "    @StartTime DATETIME2,\n",
                "    @WorkFlowDescription NVARCHAR(100),\n",
                "    @WorkFlowStepTableRowCount int,\n",
                "    @UserAuthorizationKey int\n",
                "AS\n",
                "BEGIN\n",
                "    SET NOCOUNT ON;\n",
                "\n",
                "    INSERT INTO Process.WorkflowSteps (\n",
                "        WorkFlowStepKey,  \n",
                "        WorkFlowStepDescription,\n",
                "        WorkFlowStepTableRowCount,\n",
                "        StartingDateTime,\n",
                "        EndingDateTime, \n",
                "        ClassTime,      \n",
                "        UserAuthorizationKey\n",
                "    )\n",
                "    VALUES (\n",
                "        NEXT VALUE FOR Process.WorkflowStepSequence, \n",
                "        @WorkFlowDescription,\n",
                "        @WorkFlowStepTableRowCount,\n",
                "        @StartTime,\n",
                "        SYSDATETIME(), \n",
                "        DEFAULT,      \n",
                "        @UserAuthorizationKey\n",
                "    );\n",
                "END;\n",
                "GO"
            ],
            "metadata": {
                "azdata_cell_guid": "0fb429a2-d09e-4c65-9844-6c39191a5f50",
                "language": "sql"
            },
            "outputs": [
                {
                    "output_type": "error",
                    "evalue": "Msg 2714, Level 16, State 3, Procedure usp_TrackWorkFlow, Line 2\nThere is already an object named 'usp_TrackWorkFlow' in the database.",
                    "ename": "",
                    "traceback": []
                },
                {
                    "output_type": "display_data",
                    "data": {
                        "text/html": "Total execution time: 00:00:00.011"
                    },
                    "metadata": {}
                }
            ],
            "execution_count": 4
        },
        {
            "cell_type": "code",
            "source": [
                "-- Step 9: Validate and Fix ProductCategory in DimProduct\n",
                "-- Check if ProductCategory exists in DimProductCategory\n",
                "SELECT DISTINCT dp.ProductCategory\n",
                "FROM [CH01-01-Dimension].[DimProduct] dp\n",
                "WHERE dp.ProductCategory NOT IN (\n",
                "    SELECT CategoryName FROM [CH01-01-Dimension].[DimProductCategory]\n",
                ");\n",
                "\n",
                "-- Fix missing ProductCategory by inserting into DimProductCategory\n",
                "DECLARE @MaxKey INT;\n",
                "SELECT @MaxKey = ISNULL(MAX(ProductCategoryKey), 0) FROM [CH01-01-Dimension].[DimProductCategory];\n",
                "\n",
                "DECLARE @Category NVARCHAR(20);\n",
                "DECLARE category_cursor CURSOR FOR\n",
                "SELECT DISTINCT dp.ProductCategory\n",
                "FROM [CH01-01-Dimension].[DimProduct] dp\n",
                "WHERE dp.ProductCategory NOT IN (\n",
                "    SELECT CategoryName FROM [CH01-01-Dimension].[DimProductCategory]\n",
                ");\n",
                "\n",
                "OPEN category_cursor;\n",
                "FETCH NEXT FROM category_cursor INTO @Category;\n",
                "\n",
                "WHILE @@FETCH_STATUS = 0\n",
                "BEGIN\n",
                "    INSERT INTO [CH01-01-Dimension].[DimProductCategory] (ProductCategoryKey, CategoryName)\n",
                "    VALUES (@MaxKey + 1, @Category);\n",
                "\n",
                "    SET @MaxKey = @MaxKey + 1;\n",
                "    FETCH NEXT FROM category_cursor INTO @Category;\n",
                "END;\n",
                "\n",
                "CLOSE category_cursor;\n",
                "DEALLOCATE category_cursor;"
            ],
            "metadata": {
                "language": "sql",
                "azdata_cell_guid": "0f9d084c-2818-485e-96bf-8561f7e1ce15"
            },
            "outputs": [
                {
                    "output_type": "display_data",
                    "data": {
                        "text/html": "(0 rows affected)"
                    },
                    "metadata": {}
                },
                {
                    "output_type": "display_data",
                    "data": {
                        "text/html": "Total execution time: 00:00:00.130"
                    },
                    "metadata": {}
                },
                {
                    "output_type": "execute_result",
                    "metadata": {},
                    "execution_count": 6,
                    "data": {
                        "application/vnd.dataresource+json": {
                            "schema": {
                                "fields": [
                                    {
                                        "name": "ProductCategory"
                                    }
                                ]
                            },
                            "data": []
                        },
                        "text/html": [
                            "<table>",
                            "<tr><th>ProductCategory</th></tr>",
                            "</table>"
                        ]
                    }
                }
            ],
            "execution_count": 6
        },
        {
            "cell_type": "code",
            "source": [
                "-- Step 10: Validate and Fix ProductSubcategory in DimProduct\n",
                "-- Check if ProductSubcategory exists in DimProductSubcategory\n",
                "SELECT DISTINCT dp.ProductSubcategory\n",
                "FROM [CH01-01-Dimension].[DimProduct] dp\n",
                "WHERE dp.ProductSubcategory NOT IN (\n",
                "    SELECT SubcategoryName FROM [CH01-01-Dimension].[DimProductSubcategory]\n",
                ");\n",
                "\n",
                "-- Fix missing ProductSubcategory by inserting into DimProductSubcategory\n",
                "DECLARE @MaxSubKey INT;\n",
                "DECLARE @Category NVARCHAR(20); -- Declare @Category here\n",
                "DECLARE @Subcategory NVARCHAR(20); -- Declare @Subcategory here\n",
                "\n",
                "SELECT @MaxSubKey = ISNULL(MAX(ProductSubcategoryKey), 0) FROM [CH01-01-Dimension].[DimProductSubcategory];\n",
                "\n",
                "DECLARE subcategory_cursor CURSOR FOR\n",
                "SELECT DISTINCT dp.ProductSubcategory, dp.ProductCategory\n",
                "FROM [CH01-01-Dimension].[DimProduct] dp\n",
                "WHERE dp.ProductSubcategory NOT IN (\n",
                "    SELECT SubcategoryName FROM [CH01-01-Dimension].[DimProductSubcategory]\n",
                ");\n",
                "\n",
                "OPEN subcategory_cursor;\n",
                "FETCH NEXT FROM subcategory_cursor INTO @Subcategory, @Category;\n",
                "\n",
                "WHILE @@FETCH_STATUS = 0\n",
                "BEGIN\n",
                "    INSERT INTO [CH01-01-Dimension].[DimProductSubcategory] (ProductSubcategoryKey, ProductCategoryKey, SubcategoryName)\n",
                "    SELECT @MaxSubKey + 1, pc.ProductCategoryKey, @Subcategory\n",
                "    FROM [CH01-01-Dimension].[DimProductCategory] pc\n",
                "    WHERE pc.CategoryName = @Category;\n",
                "\n",
                "    SET @MaxSubKey = @MaxSubKey + 1;\n",
                "    FETCH NEXT FROM subcategory_cursor INTO @Subcategory, @Category;\n",
                "END;\n",
                "\n",
                "CLOSE subcategory_cursor;\n",
                "DEALLOCATE subcategory_cursor;"
            ],
            "metadata": {
                "language": "sql",
                "azdata_cell_guid": "21d9efae-c963-4428-ba37-227138ddc675"
            },
            "outputs": [
                {
                    "output_type": "display_data",
                    "data": {
                        "text/html": "(0 rows affected)"
                    },
                    "metadata": {}
                },
                {
                    "output_type": "display_data",
                    "data": {
                        "text/html": "Total execution time: 00:00:00.134"
                    },
                    "metadata": {}
                },
                {
                    "output_type": "execute_result",
                    "metadata": {},
                    "execution_count": 8,
                    "data": {
                        "application/vnd.dataresource+json": {
                            "schema": {
                                "fields": [
                                    {
                                        "name": "ProductSubcategory"
                                    }
                                ]
                            },
                            "data": []
                        },
                        "text/html": [
                            "<table>",
                            "<tr><th>ProductSubcategory</th></tr>",
                            "</table>"
                        ]
                    }
                }
            ],
            "execution_count": 8
        },
        {
            "cell_type": "code",
            "source": [
                "-- Step 11: Validate Data in DimProduct\n",
                "-- Validate orphaned ProductCategory and ProductSubcategory\n",
                "SELECT dp.ProductKey, dp.ProductCategory, dp.ProductSubcategory\n",
                "FROM [CH01-01-Dimension].[DimProduct] dp\n",
                "LEFT JOIN [CH01-01-Dimension].[DimProductCategory] pc ON dp.ProductCategory = pc.CategoryName\n",
                "LEFT JOIN [CH01-01-Dimension].[DimProductSubcategory] psc ON dp.ProductSubcategory = psc.SubcategoryName\n",
                "WHERE pc.CategoryName IS NULL OR psc.SubcategoryName IS NULL;\n",
                "\n",
                "-- Fix invalid data in DimProduct\n",
                "UPDATE dp\n",
                "SET dp.ProductCategory = pc.CategoryName,\n",
                "    dp.ProductSubcategory = psc.SubcategoryName\n",
                "FROM [CH01-01-Dimension].[DimProduct] dp\n",
                "LEFT JOIN [CH01-01-Dimension].[DimProductCategory] pc ON dp.ProductCategory = pc.CategoryName\n",
                "LEFT JOIN [CH01-01-Dimension].[DimProductSubcategory] psc ON dp.ProductSubcategory = psc.SubcategoryName\n",
                "WHERE pc.CategoryName IS NOT NULL AND psc.SubcategoryName IS NOT NULL;\n",
                "\n",
                "-- Step 12: Validate and Track Workflow\n",
                "-- Get the row count for workflow step\n",
                "DECLARE @RowCount INT;\n",
                "SELECT @RowCount = COUNT(*) FROM [CH01-01-Dimension].[DimProduct];\n",
                "\n",
                "-- Insert a workflow tracking entry\n",
                "DECLARE @StartTime DATETIME2 = SYSDATETIME();\n",
                "DECLARE @WorkFlowDescription NVARCHAR(100) = 'Validate and Fix ProductCategory and ProductSubcategory in DimProduct';\n",
                "DECLARE @WorkFlowStepTableRowCount INT = @RowCount;\n",
                "DECLARE @UserAuthorizationKey INT = 1;\n",
                "\n",
                "EXEC Process.usp_TrackWorkFlow \n",
                "    @StartTime = @StartTime, \n",
                "    @WorkFlowDescription = @WorkFlowDescription, \n",
                "    @WorkFlowStepTableRowCount = @WorkFlowStepTableRowCount, \n",
                "    @UserAuthorizationKey = @UserAuthorizationKey;"
            ],
            "metadata": {
                "language": "sql",
                "azdata_cell_guid": "e6d87d43-7a7e-4be6-b089-0b76eed1ec8f"
            },
            "outputs": [
                {
                    "output_type": "display_data",
                    "data": {
                        "text/html": "(0 rows affected)"
                    },
                    "metadata": {}
                },
                {
                    "output_type": "display_data",
                    "data": {
                        "text/html": "(60398 rows affected)"
                    },
                    "metadata": {}
                },
                {
                    "output_type": "display_data",
                    "data": {
                        "text/html": "Total execution time: 00:00:00.984"
                    },
                    "metadata": {}
                },
                {
                    "output_type": "execute_result",
                    "metadata": {},
                    "execution_count": 19,
                    "data": {
                        "application/vnd.dataresource+json": {
                            "schema": {
                                "fields": [
                                    {
                                        "name": "ProductKey"
                                    },
                                    {
                                        "name": "ProductCategory"
                                    },
                                    {
                                        "name": "ProductSubcategory"
                                    }
                                ]
                            },
                            "data": []
                        },
                        "text/html": [
                            "<table>",
                            "<tr><th>ProductKey</th><th>ProductCategory</th><th>ProductSubcategory</th></tr>",
                            "</table>"
                        ]
                    }
                }
            ],
            "execution_count": 19
        },
        {
            "cell_type": "code",
            "source": [
                "-- Step 12: Validate and Track Workflow\n",
                "-- Insert a workflow tracking entry\n",
                "DECLARE @StartTime DATETIME2 = SYSDATETIME();\n",
                "DECLARE @WorkFlowDescription NVARCHAR(100) = 'Validate and Fix ProductCategory and ProductSubcategory in DimProduct';\n",
                "DECLARE @WorkFlowStepTableRowCount INT = (SELECT COUNT(*) FROM [CH01-01-Dimension].[DimProduct]);\n",
                "DECLARE @UserAuthorizationKey INT = 1;\n",
                "\n",
                "EXEC Process.usp_TrackWorkFlow \n",
                "    @StartTime, \n",
                "    @WorkFlowDescription, \n",
                "    @WorkFlowStepTableRowCount, \n",
                "    @UserAuthorizationKey;"
            ],
            "metadata": {
                "language": "sql",
                "azdata_cell_guid": "4e898901-8a43-400d-b81d-c88e48b9f073"
            },
            "outputs": [
                {
                    "output_type": "display_data",
                    "data": {
                        "text/html": "Commands completed successfully."
                    },
                    "metadata": {}
                },
                {
                    "output_type": "display_data",
                    "data": {
                        "text/html": "Total execution time: 00:00:00.039"
                    },
                    "metadata": {}
                }
            ],
            "execution_count": 21
        },
        {
            "cell_type": "code",
            "source": [
                "SELECT \n",
                "    (SELECT COUNT(*) FROM [CH01-01-Dimension].[DimProduct]) AS DimProductCount,\n",
                "    (SELECT COUNT(*) FROM [CH01-01-Dimension].[DimProductCategory]) AS DimProductCategoryCount,\n",
                "    (SELECT COUNT(*) FROM [CH01-01-Dimension].[DimProductSubcategory]) AS DimProductSubcategoryCount;\n",
                "\n",
                "-- Output a sample of fixed data\n",
                "SELECT TOP 10 * FROM [CH01-01-Dimension].[DimProduct];"
            ],
            "metadata": {
                "language": "sql",
                "azdata_cell_guid": "5c612034-5124-429c-8f62-20526cae9090"
            },
            "outputs": [
                {
                    "output_type": "display_data",
                    "data": {
                        "text/html": "(1 row affected)"
                    },
                    "metadata": {}
                },
                {
                    "output_type": "display_data",
                    "data": {
                        "text/html": "(10 rows affected)"
                    },
                    "metadata": {}
                },
                {
                    "output_type": "display_data",
                    "data": {
                        "text/html": "Total execution time: 00:00:00.032"
                    },
                    "metadata": {}
                },
                {
                    "output_type": "execute_result",
                    "metadata": {},
                    "execution_count": 22,
                    "data": {
                        "application/vnd.dataresource+json": {
                            "schema": {
                                "fields": [
                                    {
                                        "name": "DimProductCount"
                                    },
                                    {
                                        "name": "DimProductCategoryCount"
                                    },
                                    {
                                        "name": "DimProductSubcategoryCount"
                                    }
                                ]
                            },
                            "data": [
                                {
                                    "DimProductCount": "60398",
                                    "DimProductCategoryCount": "6",
                                    "DimProductSubcategoryCount": "17"
                                }
                            ]
                        },
                        "text/html": [
                            "<table>",
                            "<tr><th>DimProductCount</th><th>DimProductCategoryCount</th><th>DimProductSubcategoryCount</th></tr>",
                            "<tr><td>60398</td><td>6</td><td>17</td></tr>",
                            "</table>"
                        ]
                    }
                },
                {
                    "output_type": "execute_result",
                    "metadata": {},
                    "execution_count": 22,
                    "data": {
                        "application/vnd.dataresource+json": {
                            "schema": {
                                "fields": [
                                    {
                                        "name": "ProductKey"
                                    },
                                    {
                                        "name": "ProductSubcategoryKey"
                                    },
                                    {
                                        "name": "ProductCategory"
                                    },
                                    {
                                        "name": "ProductSubcategory"
                                    },
                                    {
                                        "name": "ProductCode"
                                    },
                                    {
                                        "name": "ProductName"
                                    },
                                    {
                                        "name": "Color"
                                    },
                                    {
                                        "name": "ModelName"
                                    },
                                    {
                                        "name": "DateAdded"
                                    },
                                    {
                                        "name": "DateOfLastUpdate"
                                    },
                                    {
                                        "name": "UserAuthorizationKey"
                                    }
                                ]
                            },
                            "data": [
                                {
                                    "ProductKey": "60399",
                                    "ProductSubcategoryKey": "43",
                                    "ProductCategory": "9",
                                    "ProductSubcategory": "Mountain Bikes",
                                    "ProductCode": "BK-M68B-46",
                                    "ProductName": "Mountain-200 Black, 46",
                                    "Color": "Black",
                                    "ModelName": "Mountain-200",
                                    "DateAdded": "2024-11-17 14:39:11.9570000",
                                    "DateOfLastUpdate": "2024-11-17 14:39:11.9570000",
                                    "UserAuthorizationKey": "-1"
                                },
                                {
                                    "ProductKey": "60400",
                                    "ProductSubcategoryKey": "41",
                                    "ProductCategory": "9",
                                    "ProductSubcategory": "Road Bikes",
                                    "ProductCode": "BK-R89B-48",
                                    "ProductName": "Road-250 Black, 48",
                                    "Color": "Black",
                                    "ModelName": "Road-250",
                                    "DateAdded": "2024-11-17 14:39:11.9570000",
                                    "DateOfLastUpdate": "2024-11-17 14:39:11.9570000",
                                    "UserAuthorizationKey": "-1"
                                },
                                {
                                    "ProductKey": "60401",
                                    "ProductSubcategoryKey": "41",
                                    "ProductCategory": "9",
                                    "ProductSubcategory": "Road Bikes",
                                    "ProductCode": "BK-R50R-62",
                                    "ProductName": "Road-650 Red, 62",
                                    "Color": "Red",
                                    "ModelName": "Road-650",
                                    "DateAdded": "2024-11-17 14:39:11.9570000",
                                    "DateOfLastUpdate": "2024-11-17 14:39:11.9570000",
                                    "UserAuthorizationKey": "-1"
                                },
                                {
                                    "ProductKey": "60402",
                                    "ProductSubcategoryKey": "43",
                                    "ProductCategory": "9",
                                    "ProductSubcategory": "Mountain Bikes",
                                    "ProductCode": "BK-M68B-38",
                                    "ProductName": "Mountain-200 Black, 38",
                                    "Color": "Black",
                                    "ModelName": "Mountain-200",
                                    "DateAdded": "2024-11-17 14:39:11.9570000",
                                    "DateOfLastUpdate": "2024-11-17 14:39:11.9570000",
                                    "UserAuthorizationKey": "-1"
                                },
                                {
                                    "ProductKey": "60403",
                                    "ProductSubcategoryKey": "41",
                                    "ProductCategory": "9",
                                    "ProductSubcategory": "Road Bikes",
                                    "ProductCode": "BK-R93R-48",
                                    "ProductName": "Road-150 Red, 48",
                                    "Color": "Red",
                                    "ModelName": "Road-150",
                                    "DateAdded": "2024-11-17 14:39:11.9570000",
                                    "DateOfLastUpdate": "2024-11-17 14:39:11.9570000",
                                    "UserAuthorizationKey": "-1"
                                },
                                {
                                    "ProductKey": "60404",
                                    "ProductSubcategoryKey": "41",
                                    "ProductCategory": "9",
                                    "ProductSubcategory": "Road Bikes",
                                    "ProductCode": "BK-R93R-62",
                                    "ProductName": "Road-150 Red, 62",
                                    "Color": "Red",
                                    "ModelName": "Road-150",
                                    "DateAdded": "2024-11-17 14:39:11.9570000",
                                    "DateOfLastUpdate": "2024-11-17 14:39:11.9570000",
                                    "UserAuthorizationKey": "-1"
                                },
                                {
                                    "ProductKey": "60405",
                                    "ProductSubcategoryKey": "43",
                                    "ProductCategory": "9",
                                    "ProductSubcategory": "Mountain Bikes",
                                    "ProductCode": "BK-M82S-38",
                                    "ProductName": "Mountain-100 Silver, 38",
                                    "Color": "Silver",
                                    "ModelName": "Mountain-100",
                                    "DateAdded": "2024-11-17 14:39:11.9570000",
                                    "DateOfLastUpdate": "2024-11-17 14:39:11.9570000",
                                    "UserAuthorizationKey": "-1"
                                },
                                {
                                    "ProductKey": "60406",
                                    "ProductSubcategoryKey": "41",
                                    "ProductCategory": "9",
                                    "ProductSubcategory": "Road Bikes",
                                    "ProductCode": "BK-R93R-62",
                                    "ProductName": "Road-150 Red, 62",
                                    "Color": "Red",
                                    "ModelName": "Road-150",
                                    "DateAdded": "2024-11-17 14:39:11.9570000",
                                    "DateOfLastUpdate": "2024-11-17 14:39:11.9570000",
                                    "UserAuthorizationKey": "-1"
                                },
                                {
                                    "ProductKey": "60407",
                                    "ProductSubcategoryKey": "41",
                                    "ProductCategory": "9",
                                    "ProductSubcategory": "Road Bikes",
                                    "ProductCode": "BK-R93R-62",
                                    "ProductName": "Road-150 Red, 62",
                                    "Color": "Red",
                                    "ModelName": "Road-150",
                                    "DateAdded": "2024-11-17 14:39:11.9570000",
                                    "DateOfLastUpdate": "2024-11-17 14:39:11.9570000",
                                    "UserAuthorizationKey": "-1"
                                },
                                {
                                    "ProductKey": "60408",
                                    "ProductSubcategoryKey": "41",
                                    "ProductCategory": "9",
                                    "ProductSubcategory": "Road Bikes",
                                    "ProductCode": "BK-R89R-44",
                                    "ProductName": "Road-250 Red, 44",
                                    "Color": "Red",
                                    "ModelName": "Road-250",
                                    "DateAdded": "2024-11-17 14:39:11.9570000",
                                    "DateOfLastUpdate": "2024-11-17 14:39:11.9570000",
                                    "UserAuthorizationKey": "-1"
                                }
                            ]
                        },
                        "text/html": [
                            "<table>",
                            "<tr><th>ProductKey</th><th>ProductSubcategoryKey</th><th>ProductCategory</th><th>ProductSubcategory</th><th>ProductCode</th><th>ProductName</th><th>Color</th><th>ModelName</th><th>DateAdded</th><th>DateOfLastUpdate</th><th>UserAuthorizationKey</th></tr>",
                            "<tr><td>60399</td><td>43</td><td>9</td><td>Mountain Bikes</td><td>BK-M68B-46</td><td>Mountain-200 Black, 46</td><td>Black</td><td>Mountain-200</td><td>2024-11-17 14:39:11.9570000</td><td>2024-11-17 14:39:11.9570000</td><td>-1</td></tr>",
                            "<tr><td>60400</td><td>41</td><td>9</td><td>Road Bikes</td><td>BK-R89B-48</td><td>Road-250 Black, 48</td><td>Black</td><td>Road-250</td><td>2024-11-17 14:39:11.9570000</td><td>2024-11-17 14:39:11.9570000</td><td>-1</td></tr>",
                            "<tr><td>60401</td><td>41</td><td>9</td><td>Road Bikes</td><td>BK-R50R-62</td><td>Road-650 Red, 62</td><td>Red</td><td>Road-650</td><td>2024-11-17 14:39:11.9570000</td><td>2024-11-17 14:39:11.9570000</td><td>-1</td></tr>",
                            "<tr><td>60402</td><td>43</td><td>9</td><td>Mountain Bikes</td><td>BK-M68B-38</td><td>Mountain-200 Black, 38</td><td>Black</td><td>Mountain-200</td><td>2024-11-17 14:39:11.9570000</td><td>2024-11-17 14:39:11.9570000</td><td>-1</td></tr>",
                            "<tr><td>60403</td><td>41</td><td>9</td><td>Road Bikes</td><td>BK-R93R-48</td><td>Road-150 Red, 48</td><td>Red</td><td>Road-150</td><td>2024-11-17 14:39:11.9570000</td><td>2024-11-17 14:39:11.9570000</td><td>-1</td></tr>",
                            "<tr><td>60404</td><td>41</td><td>9</td><td>Road Bikes</td><td>BK-R93R-62</td><td>Road-150 Red, 62</td><td>Red</td><td>Road-150</td><td>2024-11-17 14:39:11.9570000</td><td>2024-11-17 14:39:11.9570000</td><td>-1</td></tr>",
                            "<tr><td>60405</td><td>43</td><td>9</td><td>Mountain Bikes</td><td>BK-M82S-38</td><td>Mountain-100 Silver, 38</td><td>Silver</td><td>Mountain-100</td><td>2024-11-17 14:39:11.9570000</td><td>2024-11-17 14:39:11.9570000</td><td>-1</td></tr>",
                            "<tr><td>60406</td><td>41</td><td>9</td><td>Road Bikes</td><td>BK-R93R-62</td><td>Road-150 Red, 62</td><td>Red</td><td>Road-150</td><td>2024-11-17 14:39:11.9570000</td><td>2024-11-17 14:39:11.9570000</td><td>-1</td></tr>",
                            "<tr><td>60407</td><td>41</td><td>9</td><td>Road Bikes</td><td>BK-R93R-62</td><td>Road-150 Red, 62</td><td>Red</td><td>Road-150</td><td>2024-11-17 14:39:11.9570000</td><td>2024-11-17 14:39:11.9570000</td><td>-1</td></tr>",
                            "<tr><td>60408</td><td>41</td><td>9</td><td>Road Bikes</td><td>BK-R89R-44</td><td>Road-250 Red, 44</td><td>Red</td><td>Road-250</td><td>2024-11-17 14:39:11.9570000</td><td>2024-11-17 14:39:11.9570000</td><td>-1</td></tr>",
                            "</table>"
                        ]
                    }
                }
            ],
            "execution_count": 22
        },
        {
            "cell_type": "code",
            "source": [
                ""
            ],
            "metadata": {
                "language": "sql",
                "azdata_cell_guid": "0d130756-3a84-41a6-96ad-bf161e0b3b05"
            },
            "outputs": [],
            "execution_count": null
        }
    ]
}